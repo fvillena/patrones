{
  "nbformat": 4,
  "nbformat_minor": 0,
  "metadata": {
    "colab": {
      "name": "6-deep_learning_1",
      "provenance": [],
      "authorship_tag": "ABX9TyMKH9RMFi69h9LOS8JuLmHM",
      "include_colab_link": true
    },
    "kernelspec": {
      "name": "python3",
      "display_name": "Python 3"
    },
    "language_info": {
      "name": "python"
    },
    "accelerator": "GPU"
  },
  "cells": [
    {
      "cell_type": "markdown",
      "metadata": {
        "id": "view-in-github",
        "colab_type": "text"
      },
      "source": [
        "<a href=\"https://colab.research.google.com/github/fvillena/patrones/blob/main/6-deep_learning_1.ipynb\" target=\"_parent\"><img src=\"https://colab.research.google.com/assets/colab-badge.svg\" alt=\"Open In Colab\"/></a>"
      ]
    },
    {
      "cell_type": "markdown",
      "metadata": {
        "id": "bk2TbuQLHB2M"
      },
      "source": [
        "# Deep learning 1"
      ]
    },
    {
      "cell_type": "markdown",
      "metadata": {
        "id": "EYScaNGIHEK5"
      },
      "source": [
        "Deep learning es un tipo de aprendizaje de máquinas en donde las predicciones se realizan a través de una serie de operaciones matriciales concatenadas. Uno de los elementos más importantes en el Deep Learning es la casi nula ingeniería de características. En el ejemplo que veremos ahora, se utiliza un conjunto de imágenes segmentadas para realizar el entrenamiento de un modelo de segmentación automática de núcleos celulares, este entrenamiento simplemente se realiza con los pixeles crudos de las imágenes, sin ingeniería de características.\n"
      ]
    },
    {
      "cell_type": "code",
      "metadata": {
        "id": "CF_faEqluJf7"
      },
      "source": [
        "import tensorflow as tf # Biblioteca de redes neuronales\n",
        "import pandas as pd # # Biblioteca de manejo de conjuntos de datos\n",
        "import sklearn.preprocessing # Preprocesamiento de datos\n",
        "import sklearn.model_selection # # Funciones para preparar nuestro conjunto de datos\n",
        "import sklearn.metrics # Métricas\n",
        "import matplotlib.pyplot as plt # Biblioteca de visualización\n",
        "import numpy as np # Biblioteca de álgebra lineal"
      ],
      "execution_count": 17,
      "outputs": []
    },
    {
      "cell_type": "markdown",
      "metadata": {
        "id": "N9XlcI2mHfVs"
      },
      "source": [
        "Utilizaremos un conjunto de datos que relaciones características fisiológicas extraídas a través de un dispositivo vestible con tipos de actividades que los sujetos estaban realizando en ese momento.\n",
        "\n",
        "El conjunto de datos es del artículo Activity Recognition Using Wearable Physiological Measurements: Selection of Features from a Comprehensive Literature Study https://pubmed.ncbi.nlm.nih.gov/31847261/"
      ]
    },
    {
      "cell_type": "code",
      "metadata": {
        "id": "WcGjBVycunPK"
      },
      "source": [
        "data = pd.read_csv(\"https://raw.githubusercontent.com/fvillena/patrones/main/data/activity_recognition.csv\")"
      ],
      "execution_count": 2,
      "outputs": []
    },
    {
      "cell_type": "code",
      "metadata": {
        "colab": {
          "base_uri": "https://localhost:8080/",
          "height": 253
        },
        "id": "1YfUFudJMeb7",
        "outputId": "54eb951d-eae1-4884-d750-23a498f9fcb9"
      },
      "source": [
        "data.head()"
      ],
      "execution_count": 35,
      "outputs": [
        {
          "output_type": "execute_result",
          "data": {
            "text/html": [
              "<div>\n",
              "<style scoped>\n",
              "    .dataframe tbody tr th:only-of-type {\n",
              "        vertical-align: middle;\n",
              "    }\n",
              "\n",
              "    .dataframe tbody tr th {\n",
              "        vertical-align: top;\n",
              "    }\n",
              "\n",
              "    .dataframe thead th {\n",
              "        text-align: right;\n",
              "    }\n",
              "</style>\n",
              "<table border=\"1\" class=\"dataframe\">\n",
              "  <thead>\n",
              "    <tr style=\"text-align: right;\">\n",
              "      <th></th>\n",
              "      <th>ecg_original_mean</th>\n",
              "      <th>ecg_original_std</th>\n",
              "      <th>ecg_original_trimmean25</th>\n",
              "      <th>ecg_original_median</th>\n",
              "      <th>ecg_original_skewness</th>\n",
              "      <th>ecg_original_kurtosis</th>\n",
              "      <th>ecg_original_max</th>\n",
              "      <th>ecg_original_min</th>\n",
              "      <th>ecg_original_prctile25</th>\n",
              "      <th>ecg_original_prctile75</th>\n",
              "      <th>ecg_original_geomean(abs)</th>\n",
              "      <th>ecg_original_harmmean</th>\n",
              "      <th>ecg_original_mad</th>\n",
              "      <th>ecg_original_baseline</th>\n",
              "      <th>ecg_rr_window_mean</th>\n",
              "      <th>ecg_rr_window_std</th>\n",
              "      <th>ecg_rr_window_trimmean25</th>\n",
              "      <th>ecg_rr_window_median</th>\n",
              "      <th>ecg_rr_window_skewness</th>\n",
              "      <th>ecg_rr_window_kurtosis</th>\n",
              "      <th>ecg_rr_window_max</th>\n",
              "      <th>ecg_rr_window_min</th>\n",
              "      <th>ecg_rr_window_prctile25</th>\n",
              "      <th>ecg_rr_window_prctile75</th>\n",
              "      <th>ecg_rr_window_geomean(abs)</th>\n",
              "      <th>ecg_rr_window_harmmean</th>\n",
              "      <th>ecg_rr_window_mad</th>\n",
              "      <th>ecg_rr_window_baseline</th>\n",
              "      <th>ecg_amplitude_rr_mean</th>\n",
              "      <th>ecg_amplitude_rr_std</th>\n",
              "      <th>ecg_amplitude_rr_trimmean25</th>\n",
              "      <th>ecg_amplitude_rr_median</th>\n",
              "      <th>ecg_amplitude_rr_skewness</th>\n",
              "      <th>ecg_amplitude_rr_kurtosis</th>\n",
              "      <th>ecg_amplitude_rr_max</th>\n",
              "      <th>ecg_amplitude_rr_min</th>\n",
              "      <th>ecg_amplitude_rr_prctile25</th>\n",
              "      <th>ecg_amplitude_rr_prctile75</th>\n",
              "      <th>ecg_amplitude_rr_geomean(abs)</th>\n",
              "      <th>ecg_amplitude_rr_harmmean</th>\n",
              "      <th>...</th>\n",
              "      <th>eda_functionals_power_originalmedian_1</th>\n",
              "      <th>eda_functionals_power_originalskewness_1</th>\n",
              "      <th>eda_functionals_power_originalkurtosis_1</th>\n",
              "      <th>eda_functionals_power_originalmax_1</th>\n",
              "      <th>eda_functionals_power_originalmin_1</th>\n",
              "      <th>eda_functionals_power_originalprctile25_1</th>\n",
              "      <th>eda_functionals_power_originalprctile75_1</th>\n",
              "      <th>eda_functionals_power_originalgeomean(abs)_1</th>\n",
              "      <th>eda_functionals_power_originalharmmean_1</th>\n",
              "      <th>eda_functionals_power_originalmad_1</th>\n",
              "      <th>eda_functionals_power_originalbaseline_1</th>\n",
              "      <th>eda_functionals_power_fil12mean_1</th>\n",
              "      <th>eda_functionals_power_fil12std_1</th>\n",
              "      <th>eda_functionals_power_fil12trimmean25_1</th>\n",
              "      <th>eda_functionals_power_fil12median_1</th>\n",
              "      <th>eda_functionals_power_fil12skewness_1</th>\n",
              "      <th>eda_functionals_power_fil12kurtosis_1</th>\n",
              "      <th>eda_functionals_power_fil12max_1</th>\n",
              "      <th>eda_functionals_power_fil12min_1</th>\n",
              "      <th>eda_functionals_power_fil12prctile25_1</th>\n",
              "      <th>eda_functionals_power_fil12prctile75_1</th>\n",
              "      <th>eda_functionals_power_fil12geomean(abs)_1</th>\n",
              "      <th>eda_functionals_power_fil12harmmean_1</th>\n",
              "      <th>eda_functionals_power_fil12mad_1</th>\n",
              "      <th>eda_functionals_power_fil12baseline_1</th>\n",
              "      <th>eda_functionals_power_filt2mean_1</th>\n",
              "      <th>eda_functionals_power_filt2std_1</th>\n",
              "      <th>eda_functionals_power_filt2trimmean25_1</th>\n",
              "      <th>eda_functionals_power_filt2median_1</th>\n",
              "      <th>eda_functionals_power_filt2skewness_1</th>\n",
              "      <th>eda_functionals_power_filt2kurtosis_1</th>\n",
              "      <th>eda_functionals_power_filt2max_1</th>\n",
              "      <th>eda_functionals_power_filt2min_1</th>\n",
              "      <th>eda_functionals_power_filt2prctile25_1</th>\n",
              "      <th>eda_functionals_power_filt2prctile75_1</th>\n",
              "      <th>eda_functionals_power_filt2geomean(abs)_1</th>\n",
              "      <th>eda_functionals_power_filt2harmmean_1</th>\n",
              "      <th>eda_functionals_power_filt2mad_1</th>\n",
              "      <th>eda_functionals_power_filt2baseline_1</th>\n",
              "      <th>activity</th>\n",
              "    </tr>\n",
              "  </thead>\n",
              "  <tbody>\n",
              "    <tr>\n",
              "      <th>0</th>\n",
              "      <td>0.022200</td>\n",
              "      <td>0.278189</td>\n",
              "      <td>0.047467</td>\n",
              "      <td>0.067892</td>\n",
              "      <td>-0.734477</td>\n",
              "      <td>3.62217</td>\n",
              "      <td>0.838892</td>\n",
              "      <td>-1.442110</td>\n",
              "      <td>-0.136108</td>\n",
              "      <td>0.220892</td>\n",
              "      <td>0.148904</td>\n",
              "      <td>-0.030990</td>\n",
              "      <td>0.218491</td>\n",
              "      <td>-0.047154</td>\n",
              "      <td>220.222</td>\n",
              "      <td>9.63396</td>\n",
              "      <td>220.030</td>\n",
              "      <td>220.0</td>\n",
              "      <td>0.034521</td>\n",
              "      <td>2.29131</td>\n",
              "      <td>239</td>\n",
              "      <td>198</td>\n",
              "      <td>213.0</td>\n",
              "      <td>228.00</td>\n",
              "      <td>220.016</td>\n",
              "      <td>219.810</td>\n",
              "      <td>8.00494</td>\n",
              "      <td>206.554</td>\n",
              "      <td>0.442348</td>\n",
              "      <td>0.248257</td>\n",
              "      <td>0.461303</td>\n",
              "      <td>0.492892</td>\n",
              "      <td>-0.684694</td>\n",
              "      <td>3.17243</td>\n",
              "      <td>0.838892</td>\n",
              "      <td>-0.293108</td>\n",
              "      <td>0.258892</td>\n",
              "      <td>0.623892</td>\n",
              "      <td>0.381859</td>\n",
              "      <td>0.395202</td>\n",
              "      <td>...</td>\n",
              "      <td>7.71815</td>\n",
              "      <td>31.4386</td>\n",
              "      <td>1015.81</td>\n",
              "      <td>9.477560e+08</td>\n",
              "      <td>0.007747</td>\n",
              "      <td>3.32735</td>\n",
              "      <td>23.39230</td>\n",
              "      <td>10.78430</td>\n",
              "      <td>1.698340</td>\n",
              "      <td>1866460.0</td>\n",
              "      <td>974023.0</td>\n",
              "      <td>935482.0</td>\n",
              "      <td>27223500.0</td>\n",
              "      <td>12.15580</td>\n",
              "      <td>6.839140</td>\n",
              "      <td>31.4387</td>\n",
              "      <td>1015.81</td>\n",
              "      <td>9.477830e+08</td>\n",
              "      <td>0.000230</td>\n",
              "      <td>2.436710</td>\n",
              "      <td>20.31770</td>\n",
              "      <td>7.26835</td>\n",
              "      <td>0.083907</td>\n",
              "      <td>1866510.0</td>\n",
              "      <td>973985.0</td>\n",
              "      <td>577858.0</td>\n",
              "      <td>16816100.0</td>\n",
              "      <td>9.70025</td>\n",
              "      <td>5.04522</td>\n",
              "      <td>31.4387</td>\n",
              "      <td>1015.81</td>\n",
              "      <td>585451000.0</td>\n",
              "      <td>0.006724</td>\n",
              "      <td>2.43873</td>\n",
              "      <td>15.87360</td>\n",
              "      <td>7.39725</td>\n",
              "      <td>1.264500</td>\n",
              "      <td>1152950.0</td>\n",
              "      <td>601642.0</td>\n",
              "      <td>neutral</td>\n",
              "    </tr>\n",
              "    <tr>\n",
              "      <th>1</th>\n",
              "      <td>-0.001098</td>\n",
              "      <td>0.210017</td>\n",
              "      <td>-0.048560</td>\n",
              "      <td>-0.090702</td>\n",
              "      <td>2.137990</td>\n",
              "      <td>8.33018</td>\n",
              "      <td>1.244300</td>\n",
              "      <td>-0.290702</td>\n",
              "      <td>-0.127702</td>\n",
              "      <td>0.048299</td>\n",
              "      <td>0.108345</td>\n",
              "      <td>0.359857</td>\n",
              "      <td>0.152568</td>\n",
              "      <td>0.001543</td>\n",
              "      <td>196.400</td>\n",
              "      <td>11.03240</td>\n",
              "      <td>196.079</td>\n",
              "      <td>195.5</td>\n",
              "      <td>0.154292</td>\n",
              "      <td>1.88380</td>\n",
              "      <td>220</td>\n",
              "      <td>178</td>\n",
              "      <td>187.0</td>\n",
              "      <td>205.00</td>\n",
              "      <td>196.097</td>\n",
              "      <td>195.796</td>\n",
              "      <td>9.61600</td>\n",
              "      <td>197.874</td>\n",
              "      <td>0.977553</td>\n",
              "      <td>0.092801</td>\n",
              "      <td>0.978452</td>\n",
              "      <td>0.992298</td>\n",
              "      <td>0.091139</td>\n",
              "      <td>3.04589</td>\n",
              "      <td>1.244300</td>\n",
              "      <td>0.806298</td>\n",
              "      <td>0.911798</td>\n",
              "      <td>1.038300</td>\n",
              "      <td>0.973214</td>\n",
              "      <td>0.968848</td>\n",
              "      <td>...</td>\n",
              "      <td>11.41600</td>\n",
              "      <td>31.4542</td>\n",
              "      <td>1016.43</td>\n",
              "      <td>1.281250e+09</td>\n",
              "      <td>0.025585</td>\n",
              "      <td>5.54921</td>\n",
              "      <td>36.33400</td>\n",
              "      <td>17.65220</td>\n",
              "      <td>3.558140</td>\n",
              "      <td>2520990.0</td>\n",
              "      <td>737197.0</td>\n",
              "      <td>1263960.0</td>\n",
              "      <td>36797200.0</td>\n",
              "      <td>16.13900</td>\n",
              "      <td>8.975790</td>\n",
              "      <td>31.4535</td>\n",
              "      <td>1016.41</td>\n",
              "      <td>1.280810e+09</td>\n",
              "      <td>0.004430</td>\n",
              "      <td>3.220690</td>\n",
              "      <td>26.92650</td>\n",
              "      <td>10.21880</td>\n",
              "      <td>0.540291</td>\n",
              "      <td>2520240.0</td>\n",
              "      <td>737173.0</td>\n",
              "      <td>780770.0</td>\n",
              "      <td>22729800.0</td>\n",
              "      <td>15.76400</td>\n",
              "      <td>8.09887</td>\n",
              "      <td>31.4535</td>\n",
              "      <td>1016.41</td>\n",
              "      <td>791163000.0</td>\n",
              "      <td>0.014209</td>\n",
              "      <td>4.13302</td>\n",
              "      <td>25.89920</td>\n",
              "      <td>12.76960</td>\n",
              "      <td>2.771000</td>\n",
              "      <td>1556760.0</td>\n",
              "      <td>455372.0</td>\n",
              "      <td>mental</td>\n",
              "    </tr>\n",
              "    <tr>\n",
              "      <th>2</th>\n",
              "      <td>0.004552</td>\n",
              "      <td>0.148971</td>\n",
              "      <td>-0.004151</td>\n",
              "      <td>0.014918</td>\n",
              "      <td>0.400160</td>\n",
              "      <td>2.78112</td>\n",
              "      <td>0.516918</td>\n",
              "      <td>-0.386082</td>\n",
              "      <td>-0.126082</td>\n",
              "      <td>0.100918</td>\n",
              "      <td>0.087745</td>\n",
              "      <td>-0.028435</td>\n",
              "      <td>0.122477</td>\n",
              "      <td>0.000050</td>\n",
              "      <td>213.304</td>\n",
              "      <td>7.21378</td>\n",
              "      <td>213.706</td>\n",
              "      <td>214.0</td>\n",
              "      <td>-0.332257</td>\n",
              "      <td>2.85548</td>\n",
              "      <td>229</td>\n",
              "      <td>196</td>\n",
              "      <td>209.0</td>\n",
              "      <td>218.00</td>\n",
              "      <td>213.184</td>\n",
              "      <td>213.063</td>\n",
              "      <td>5.69565</td>\n",
              "      <td>205.457</td>\n",
              "      <td>0.327088</td>\n",
              "      <td>0.112481</td>\n",
              "      <td>0.324775</td>\n",
              "      <td>0.319918</td>\n",
              "      <td>0.077981</td>\n",
              "      <td>1.72422</td>\n",
              "      <td>0.516918</td>\n",
              "      <td>0.135918</td>\n",
              "      <td>0.230918</td>\n",
              "      <td>0.422168</td>\n",
              "      <td>0.306974</td>\n",
              "      <td>0.286505</td>\n",
              "      <td>...</td>\n",
              "      <td>3.25562</td>\n",
              "      <td>31.4337</td>\n",
              "      <td>1015.66</td>\n",
              "      <td>1.233750e+08</td>\n",
              "      <td>0.003384</td>\n",
              "      <td>1.49535</td>\n",
              "      <td>9.86962</td>\n",
              "      <td>4.82693</td>\n",
              "      <td>0.883646</td>\n",
              "      <td>243032.0</td>\n",
              "      <td>123427.0</td>\n",
              "      <td>121952.0</td>\n",
              "      <td>3543040.0</td>\n",
              "      <td>1.72270</td>\n",
              "      <td>0.905496</td>\n",
              "      <td>31.4335</td>\n",
              "      <td>1015.65</td>\n",
              "      <td>1.233730e+08</td>\n",
              "      <td>0.000625</td>\n",
              "      <td>0.329212</td>\n",
              "      <td>2.81501</td>\n",
              "      <td>1.12547</td>\n",
              "      <td>0.052568</td>\n",
              "      <td>243031.0</td>\n",
              "      <td>123414.0</td>\n",
              "      <td>75342.2</td>\n",
              "      <td>2188550.0</td>\n",
              "      <td>5.12509</td>\n",
              "      <td>2.87398</td>\n",
              "      <td>31.4335</td>\n",
              "      <td>1015.65</td>\n",
              "      <td>76208300.0</td>\n",
              "      <td>0.003753</td>\n",
              "      <td>1.25774</td>\n",
              "      <td>8.42661</td>\n",
              "      <td>4.03412</td>\n",
              "      <td>0.753581</td>\n",
              "      <td>150121.0</td>\n",
              "      <td>76244.4</td>\n",
              "      <td>mental</td>\n",
              "    </tr>\n",
              "    <tr>\n",
              "      <th>3</th>\n",
              "      <td>-0.005813</td>\n",
              "      <td>0.206158</td>\n",
              "      <td>0.005190</td>\n",
              "      <td>0.001100</td>\n",
              "      <td>-0.643985</td>\n",
              "      <td>4.62722</td>\n",
              "      <td>0.549100</td>\n",
              "      <td>-1.126900</td>\n",
              "      <td>-0.116900</td>\n",
              "      <td>0.131100</td>\n",
              "      <td>0.095027</td>\n",
              "      <td>-1.228360</td>\n",
              "      <td>0.153835</td>\n",
              "      <td>-0.001564</td>\n",
              "      <td>214.674</td>\n",
              "      <td>11.17550</td>\n",
              "      <td>214.382</td>\n",
              "      <td>214.0</td>\n",
              "      <td>0.156477</td>\n",
              "      <td>1.77801</td>\n",
              "      <td>234</td>\n",
              "      <td>197</td>\n",
              "      <td>206.0</td>\n",
              "      <td>224.00</td>\n",
              "      <td>214.390</td>\n",
              "      <td>214.108</td>\n",
              "      <td>9.67391</td>\n",
              "      <td>212.780</td>\n",
              "      <td>-0.568091</td>\n",
              "      <td>0.202809</td>\n",
              "      <td>-0.564357</td>\n",
              "      <td>-0.556900</td>\n",
              "      <td>-0.155434</td>\n",
              "      <td>3.50785</td>\n",
              "      <td>-0.087900</td>\n",
              "      <td>-1.126900</td>\n",
              "      <td>-0.679150</td>\n",
              "      <td>-0.442400</td>\n",
              "      <td>0.523702</td>\n",
              "      <td>-0.457799</td>\n",
              "      <td>...</td>\n",
              "      <td>5.01753</td>\n",
              "      <td>31.4347</td>\n",
              "      <td>1015.63</td>\n",
              "      <td>2.993600e+08</td>\n",
              "      <td>0.006785</td>\n",
              "      <td>2.45294</td>\n",
              "      <td>15.80600</td>\n",
              "      <td>7.83963</td>\n",
              "      <td>1.634490</td>\n",
              "      <td>589742.0</td>\n",
              "      <td>3759690.0</td>\n",
              "      <td>295794.0</td>\n",
              "      <td>8599690.0</td>\n",
              "      <td>4.04326</td>\n",
              "      <td>2.166500</td>\n",
              "      <td>31.4343</td>\n",
              "      <td>1015.62</td>\n",
              "      <td>2.994070e+08</td>\n",
              "      <td>0.000611</td>\n",
              "      <td>0.782694</td>\n",
              "      <td>6.57446</td>\n",
              "      <td>2.54292</td>\n",
              "      <td>0.082149</td>\n",
              "      <td>589849.0</td>\n",
              "      <td>3759870.0</td>\n",
              "      <td>182727.0</td>\n",
              "      <td>5312070.0</td>\n",
              "      <td>7.80247</td>\n",
              "      <td>4.21110</td>\n",
              "      <td>31.4343</td>\n",
              "      <td>1015.62</td>\n",
              "      <td>184945000.0</td>\n",
              "      <td>0.005781</td>\n",
              "      <td>1.96623</td>\n",
              "      <td>12.63830</td>\n",
              "      <td>6.26733</td>\n",
              "      <td>1.331560</td>\n",
              "      <td>364353.0</td>\n",
              "      <td>2322520.0</td>\n",
              "      <td>emotional</td>\n",
              "    </tr>\n",
              "    <tr>\n",
              "      <th>4</th>\n",
              "      <td>0.000940</td>\n",
              "      <td>0.073076</td>\n",
              "      <td>-0.008041</td>\n",
              "      <td>-0.012362</td>\n",
              "      <td>1.275040</td>\n",
              "      <td>5.41514</td>\n",
              "      <td>0.400638</td>\n",
              "      <td>-0.147362</td>\n",
              "      <td>-0.047362</td>\n",
              "      <td>0.033638</td>\n",
              "      <td>0.034408</td>\n",
              "      <td>-0.025901</td>\n",
              "      <td>0.054428</td>\n",
              "      <td>0.000408</td>\n",
              "      <td>180.364</td>\n",
              "      <td>8.81363</td>\n",
              "      <td>180.244</td>\n",
              "      <td>179.0</td>\n",
              "      <td>0.116160</td>\n",
              "      <td>2.23952</td>\n",
              "      <td>197</td>\n",
              "      <td>163</td>\n",
              "      <td>174.0</td>\n",
              "      <td>187.75</td>\n",
              "      <td>180.153</td>\n",
              "      <td>179.942</td>\n",
              "      <td>7.26942</td>\n",
              "      <td>168.661</td>\n",
              "      <td>0.239656</td>\n",
              "      <td>0.055390</td>\n",
              "      <td>0.233257</td>\n",
              "      <td>0.232138</td>\n",
              "      <td>1.006230</td>\n",
              "      <td>4.12350</td>\n",
              "      <td>0.400638</td>\n",
              "      <td>0.148638</td>\n",
              "      <td>0.204638</td>\n",
              "      <td>0.265638</td>\n",
              "      <td>0.233881</td>\n",
              "      <td>0.228506</td>\n",
              "      <td>...</td>\n",
              "      <td>6.91760</td>\n",
              "      <td>31.4343</td>\n",
              "      <td>1015.65</td>\n",
              "      <td>6.068560e+08</td>\n",
              "      <td>0.011033</td>\n",
              "      <td>3.37865</td>\n",
              "      <td>21.77940</td>\n",
              "      <td>10.52160</td>\n",
              "      <td>2.161530</td>\n",
              "      <td>1195440.0</td>\n",
              "      <td>3469100.0</td>\n",
              "      <td>599227.0</td>\n",
              "      <td>17429800.0</td>\n",
              "      <td>8.03471</td>\n",
              "      <td>4.385170</td>\n",
              "      <td>31.4344</td>\n",
              "      <td>1015.65</td>\n",
              "      <td>6.068770e+08</td>\n",
              "      <td>0.000183</td>\n",
              "      <td>1.592230</td>\n",
              "      <td>13.30340</td>\n",
              "      <td>4.83442</td>\n",
              "      <td>0.065035</td>\n",
              "      <td>1195470.0</td>\n",
              "      <td>3468930.0</td>\n",
              "      <td>370157.0</td>\n",
              "      <td>10766500.0</td>\n",
              "      <td>9.76435</td>\n",
              "      <td>5.10013</td>\n",
              "      <td>31.4344</td>\n",
              "      <td>1015.65</td>\n",
              "      <td>374871000.0</td>\n",
              "      <td>0.007874</td>\n",
              "      <td>2.58581</td>\n",
              "      <td>16.30720</td>\n",
              "      <td>7.85350</td>\n",
              "      <td>1.638010</td>\n",
              "      <td>738448.0</td>\n",
              "      <td>2142830.0</td>\n",
              "      <td>neutral</td>\n",
              "    </tr>\n",
              "  </tbody>\n",
              "</table>\n",
              "<p>5 rows × 534 columns</p>\n",
              "</div>"
            ],
            "text/plain": [
              "   ecg_original_mean  ...   activity\n",
              "0           0.022200  ...    neutral\n",
              "1          -0.001098  ...     mental\n",
              "2           0.004552  ...     mental\n",
              "3          -0.005813  ...  emotional\n",
              "4           0.000940  ...    neutral\n",
              "\n",
              "[5 rows x 534 columns]"
            ]
          },
          "metadata": {
            "tags": []
          },
          "execution_count": 35
        }
      ]
    },
    {
      "cell_type": "markdown",
      "metadata": {
        "id": "_571gF8cH6Wz"
      },
      "source": [
        "El conjunto de datos cuenta con **533 características** de mediciones de Electrocardiograma (ECG), Bioimpedancia Eléctrica Torácica (TEB) y la Actividad Ectodérmica (EDA) for activity recognition.\n",
        "\n",
        "Las actividades etiquetadas a cada punto de datos son Neutral, Emocional, Mental y Física"
      ]
    },
    {
      "cell_type": "code",
      "metadata": {
        "id": "nrul2nfWvaLx"
      },
      "source": [
        "features = data.iloc[:,:-1]\n",
        "label = data.activity"
      ],
      "execution_count": 3,
      "outputs": []
    },
    {
      "cell_type": "markdown",
      "metadata": {
        "id": "nM7jswHGIhxd"
      },
      "source": [
        "Escalamos nuestras características utilizando un Min-Max Scaler."
      ]
    },
    {
      "cell_type": "code",
      "metadata": {
        "id": "q7hQwJgnvio3"
      },
      "source": [
        "scaler = sklearn.preprocessing.MinMaxScaler()\n",
        "features_scaled = scaler.fit_transform(features)"
      ],
      "execution_count": 4,
      "outputs": []
    },
    {
      "cell_type": "markdown",
      "metadata": {
        "id": "rzt_9iEJIrAH"
      },
      "source": [
        "Nuestras etiquetas son discretas, por lo que las transformamos con un codificador One-Hot"
      ]
    },
    {
      "cell_type": "code",
      "metadata": {
        "id": "RiCugo1lvlwZ"
      },
      "source": [
        "encoder = sklearn.preprocessing.LabelEncoder() # Label encoder de sklearn que mapea las categorías a números enteros\n",
        "label_encoded = encoder.fit_transform(label)\n",
        "label_encoded = tf.keras.utils.to_categorical(label_encoded) # Implementación de Tensorflow del One-Hot Encoding"
      ],
      "execution_count": 18,
      "outputs": []
    },
    {
      "cell_type": "markdown",
      "metadata": {
        "id": "4uE59FMMI7ln"
      },
      "source": [
        "Separamos el conjunto de datos en un subconjunto de entrenamiento, validación y prueba."
      ]
    },
    {
      "cell_type": "code",
      "metadata": {
        "id": "o-ZL8q0dvxiI"
      },
      "source": [
        "features_train, features_test, label_train, label_test = sklearn.model_selection.train_test_split(\n",
        "    features_scaled,\n",
        "    label_encoded,\n",
        "    random_state=11\n",
        ")\n",
        "features_train, features_val, label_train, label_val = sklearn.model_selection.train_test_split(\n",
        "    features_train,\n",
        "    label_train,\n",
        "    test_size=0.1,\n",
        "    random_state=11\n",
        ")"
      ],
      "execution_count": 6,
      "outputs": []
    },
    {
      "cell_type": "markdown",
      "metadata": {
        "id": "7tjXozfPJEFo"
      },
      "source": [
        "Diseñamos la arquitectura de nuestra red neuronal."
      ]
    },
    {
      "cell_type": "code",
      "metadata": {
        "id": "GtsZbAzNwBo2"
      },
      "source": [
        "model = tf.keras.Sequential([ # Este objeto recibe una lista de capas.\n",
        "    tf.keras.layers.Dense(128, activation='relu'), # Capa densa de 128 neuronas con una activación ReLU\n",
        "    tf.keras.layers.Dense(len(encoder.classes_), activation='softmax') # Capa densa de clasificación \n",
        "                                                                       # con una activación Softmax\n",
        "                                                                       # la cantidad de neuronas de esta capa \n",
        "                                                                       # debe ser igual a la cantidad de clases\n",
        "])"
      ],
      "execution_count": 20,
      "outputs": []
    },
    {
      "cell_type": "markdown",
      "metadata": {
        "id": "COLeuksuJrsf"
      },
      "source": [
        "Configuramos el modelo para el entrenamiento"
      ]
    },
    {
      "cell_type": "code",
      "metadata": {
        "id": "BQ7Sz1iKwjNr"
      },
      "source": [
        "model.compile(optimizer='adam', # Utilizamos un optimizador ADAM\n",
        "              loss='categorical_crossentropy', # Usamos entropía cruzada categórica porque nuestro problema es de clasificación de más de 2 clases\n",
        "              metrics=['accuracy']) # Medimos el rendimiento del modelo con la exactitud"
      ],
      "execution_count": 21,
      "outputs": []
    },
    {
      "cell_type": "markdown",
      "metadata": {
        "id": "-SnxKNl-KEY_"
      },
      "source": [
        "Ajustamos el modelo"
      ]
    },
    {
      "cell_type": "code",
      "metadata": {
        "colab": {
          "base_uri": "https://localhost:8080/"
        },
        "id": "MkJL7KONwoZa",
        "outputId": "bee1ae2a-b62f-49a6-bb24-07b698ebafc9"
      },
      "source": [
        "history = model.fit( # Guardamos el historial del modelo\n",
        "          features_scaled,\n",
        "          label_encoded,\n",
        "          epochs=10, # Detenemos el entrenamiento al llegar a 10 épocas\n",
        "          validation_data=(features_val,label_val) # Al final de cada época probamos el rendimiento en el conjunto de validación\n",
        "          )"
      ],
      "execution_count": 29,
      "outputs": [
        {
          "output_type": "stream",
          "text": [
            "Epoch 1/10\n",
            "140/140 [==============================] - 0s 3ms/step - loss: 0.2688 - accuracy: 0.8806 - val_loss: 0.2800 - val_accuracy: 0.8720\n",
            "Epoch 2/10\n",
            "140/140 [==============================] - 0s 2ms/step - loss: 0.2699 - accuracy: 0.8804 - val_loss: 0.2730 - val_accuracy: 0.8869\n",
            "Epoch 3/10\n",
            "140/140 [==============================] - 0s 2ms/step - loss: 0.2609 - accuracy: 0.8859 - val_loss: 0.2418 - val_accuracy: 0.8958\n",
            "Epoch 4/10\n",
            "140/140 [==============================] - 0s 2ms/step - loss: 0.2677 - accuracy: 0.8799 - val_loss: 0.2443 - val_accuracy: 0.8750\n",
            "Epoch 5/10\n",
            "140/140 [==============================] - 0s 2ms/step - loss: 0.2558 - accuracy: 0.8877 - val_loss: 0.2251 - val_accuracy: 0.9107\n",
            "Epoch 6/10\n",
            "140/140 [==============================] - 0s 2ms/step - loss: 0.2641 - accuracy: 0.8781 - val_loss: 0.3129 - val_accuracy: 0.8601\n",
            "Epoch 7/10\n",
            "140/140 [==============================] - 0s 2ms/step - loss: 0.2561 - accuracy: 0.8859 - val_loss: 0.2633 - val_accuracy: 0.8661\n",
            "Epoch 8/10\n",
            "140/140 [==============================] - 0s 2ms/step - loss: 0.2465 - accuracy: 0.8924 - val_loss: 0.2352 - val_accuracy: 0.8958\n",
            "Epoch 9/10\n",
            "140/140 [==============================] - 0s 2ms/step - loss: 0.2485 - accuracy: 0.8884 - val_loss: 0.2303 - val_accuracy: 0.8750\n",
            "Epoch 10/10\n",
            "140/140 [==============================] - 0s 2ms/step - loss: 0.2468 - accuracy: 0.8902 - val_loss: 0.2737 - val_accuracy: 0.8304\n"
          ],
          "name": "stdout"
        }
      ]
    },
    {
      "cell_type": "markdown",
      "metadata": {
        "id": "ZGmzbUjTKVpp"
      },
      "source": [
        "Visualizamos el rendimiento de nuestro modelo al avanzar las épocas."
      ]
    },
    {
      "cell_type": "code",
      "metadata": {
        "colab": {
          "base_uri": "https://localhost:8080/",
          "height": 298
        },
        "id": "iMnFjwIxDMTV",
        "outputId": "b0b1d349-27f0-42bc-fa66-01c1881415e7"
      },
      "source": [
        "fig, axs = plt.subplots(1,2)\n",
        "axs[0].plot(\n",
        "    history.history[\"accuracy\"],\n",
        "    label=\"train\"\n",
        ")\n",
        "axs[0].plot(\n",
        "    history.history[\"val_accuracy\"],\n",
        "    label=\"val\"\n",
        ")\n",
        "axs[0].set_title(\"metrics\")\n",
        "axs[1].plot(\n",
        "    history.history[\"loss\"]\n",
        ")\n",
        "axs[1].plot(\n",
        "    history.history[\"val_loss\"]\n",
        ")\n",
        "axs[1].set_title(\"losses\")\n",
        "axs[0].legend()"
      ],
      "execution_count": 30,
      "outputs": [
        {
          "output_type": "execute_result",
          "data": {
            "text/plain": [
              "<matplotlib.legend.Legend at 0x7f0efb7541d0>"
            ]
          },
          "metadata": {
            "tags": []
          },
          "execution_count": 30
        },
        {
          "output_type": "display_data",
          "data": {
            "image/png": "[encoded data removed]",
            "text/plain": [
              "<Figure size 432x288 with 2 Axes>"
            ]
          },
          "metadata": {
            "tags": [],
            "needs_background": "light"
          }
        }
      ]
    },
    {
      "cell_type": "markdown",
      "metadata": {
        "id": "m_6ElFF0LDxS"
      },
      "source": [
        "Verificamos el rendimiento en el conjunto de prueba"
      ]
    },
    {
      "cell_type": "code",
      "metadata": {
        "id": "lsFmnfYf5MPD"
      },
      "source": [
        "predictions = model.predict(features_test)"
      ],
      "execution_count": 31,
      "outputs": []
    },
    {
      "cell_type": "code",
      "metadata": {
        "colab": {
          "base_uri": "https://localhost:8080/"
        },
        "id": "MI9o92Pu9Dwu",
        "outputId": "31466c0c-1411-41ec-a2b3-d8ba8613cd07"
      },
      "source": [
        "print(sklearn.metrics.classification_report(\n",
        "    label_test.argmax(axis=1), # Utilizamos argmax para obtener la etiqueta de cada punto de datos\n",
        "    predictions.argmax(axis=1)\n",
        "))"
      ],
      "execution_count": 32,
      "outputs": [
        {
          "output_type": "stream",
          "text": [
            "              precision    recall  f1-score   support\n",
            "\n",
            "           0       0.84      0.75      0.79       267\n",
            "           1       0.77      0.87      0.82       292\n",
            "           2       0.98      0.96      0.97       297\n",
            "           3       1.00      1.00      1.00       264\n",
            "\n",
            "    accuracy                           0.89      1120\n",
            "   macro avg       0.90      0.89      0.89      1120\n",
            "weighted avg       0.90      0.89      0.89      1120\n",
            "\n"
          ],
          "name": "stdout"
        }
      ]
    },
    {
      "cell_type": "markdown",
      "metadata": {
        "id": "0dms0GCcEvJd"
      },
      "source": [
        "## Actividad 1:\n",
        "\n",
        "Aumenta la cantidad de épocas y describe cómo se comportan las métricas al aumentar la cantidad de épocas."
      ]
    },
    {
      "cell_type": "markdown",
      "metadata": {
        "id": "W632siQ3Cy0J"
      },
      "source": [
        "## Actividad 2:\n",
        "\n",
        "Implementa manualmente las operaciones que se deben realizar con los pesos ajustados de la red neuronal para predecir sobre el conjunto de entrenamiento.\n",
        "\n",
        "El módulo `tensorflow.nn` te va a ser de mucha ayuda https://www.tensorflow.org/api_docs/python/tf/nn"
      ]
    },
    {
      "cell_type": "code",
      "metadata": {
        "id": "vXST1V9oMDd4"
      },
      "source": [
        "# Prográmame!\n",
        "# HINTS:\n",
        "# tf.tensordot()\n",
        "# tf.nn.relu()\n",
        "# tf.nn.softmax()"
      ],
      "execution_count": 33,
      "outputs": []
    },
    {
      "cell_type": "markdown",
      "metadata": {
        "id": "fbmsEAWsE46C"
      },
      "source": [
        "## Actividad 3\n",
        "\n",
        "Modifica la arquitectura y la configuración del modelo y evalúa si mejoran las métricas sobre el conjunto de prueba."
      ]
    }
  ]
}