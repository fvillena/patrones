{
  "nbformat": 4,
  "nbformat_minor": 0,
  "metadata": {
    "colab": {
      "name": "1-preprocessing.sol.ipynb",
      "provenance": [],
      "collapsed_sections": [],
      "authorship_tag": "ABX9TyPTbApXppcOad6EGeY4FlRX",
      "include_colab_link": true
    },
    "kernelspec": {
      "name": "python3",
      "display_name": "Python 3"
    },
    "language_info": {
      "name": "python"
    }
  },
  "cells": [
    {
      "cell_type": "markdown",
      "metadata": {
        "id": "view-in-github",
        "colab_type": "text"
      },
      "source": [
        "<a href=\"https://colab.research.google.com/github/fvillena/patrones/blob/main/1-preprocessing.sol.ipynb\" target=\"_parent\"><img src=\"https://colab.research.google.com/assets/colab-badge.svg\" alt=\"Open In Colab\"/></a>"
      ]
    },
    {
      "cell_type": "markdown",
      "metadata": {
        "id": "HyxV4iThdhk-"
      },
      "source": [
        "# Preprocesamiento"
      ]
    },
    {
      "cell_type": "markdown",
      "metadata": {
        "id": "MliLY-AMeFwC"
      },
      "source": [
        "El preprocesamiento de datos es la primera etapa a realizar dentro de un proyecto de ciencia de datos y de esta depende la correcta implementación de algoritmos de aprendizaje de máquinas."
      ]
    },
    {
      "cell_type": "code",
      "metadata": {
        "id": "VXxrI0BVXs_y"
      },
      "source": [
        "import numpy as np # Biblioteca para manejar datos vectoriales\n",
        "import sklearn.preprocessing # Módulo de preprocesamiento de datos\n",
        "import pandas as pd # Biblioteca para manejo de datos\n",
        "import matplotlib.pyplot as plt # Visualización"
      ],
      "execution_count": null,
      "outputs": []
    },
    {
      "cell_type": "code",
      "metadata": {
        "id": "XlVmpg0sdL4J"
      },
      "source": [
        "np.random.seed(11) # Fijamos la semilla del generador de datos al azar para obtener resultados consistentes"
      ],
      "execution_count": null,
      "outputs": []
    },
    {
      "cell_type": "markdown",
      "metadata": {
        "id": "3UrkKxXFeV-Q"
      },
      "source": [
        "Generaremos un conjunto de datos sintético con el cual exploraremos las distintas técnicas de preprocesamiento de datos para aprendizaje de máquinas."
      ]
    },
    {
      "cell_type": "code",
      "metadata": {
        "id": "mXlH3BGvbjQQ"
      },
      "source": [
        "x1 = np.random.normal(loc=100, scale=30, size=10000) # Generamos datos sintéticos utilizando una distribución normal de media loc y desviación estándar scale"
      ],
      "execution_count": null,
      "outputs": []
    },
    {
      "cell_type": "code",
      "metadata": {
        "id": "sny77upgb_R1"
      },
      "source": [
        "x2 = np.random.uniform(low=1000, high=2000, size=10000) # Generamos datos sintéticos utilizando una distribución uniforme entre low y high."
      ],
      "execution_count": null,
      "outputs": []
    },
    {
      "cell_type": "code",
      "metadata": {
        "id": "NpGGlHn-gtPX"
      },
      "source": [
        "x3 = x2.copy()\n",
        "x3[np.random.randint(low=0,high=x2.size,size=1000)] = np.random.uniform(low=5, high=6, size=1000) # Generamos un conjunto de datos con outliers desde la variable anterior."
      ],
      "execution_count": null,
      "outputs": []
    },
    {
      "cell_type": "code",
      "metadata": {
        "id": "rIJruA_WcQ5r"
      },
      "source": [
        "# Generamos una variable que contiene distintos grupos de datos determinados por distintas distribuciones normales.\n",
        "x4 = np.hstack([\n",
        "           np.random.normal(loc=1000, scale=300, size=1500),\n",
        "           np.random.normal(loc=2000, scale=300, size=2000),\n",
        "           np.random.normal(loc=3000, scale=300, size=3000),\n",
        "           np.random.normal(loc=4000, scale=300, size=3500),\n",
        "           ])"
      ],
      "execution_count": null,
      "outputs": []
    },
    {
      "cell_type": "code",
      "metadata": {
        "id": "Mrptpp01c9Id"
      },
      "source": [
        "x = np.stack([x1,x2,x3,x4],axis=1) # Agrupamos nuestras variables en una matriz bidimensional."
      ],
      "execution_count": null,
      "outputs": []
    },
    {
      "cell_type": "markdown",
      "metadata": {
        "id": "Vdvv6nkqfSfL"
      },
      "source": [
        "Una de las características que deben tener nuestras variables para una correcta aplicación de ciertos algoritmos de aprendizaje de máquinas es que todas deben estar en el mismo rango. Con la siguiente visualización se puede evaluar que todas las variables cuentan con distintos rangos y distribuciones. Una de las convencionas más utilizadas es escalar todas nuestras variables hacia valores entre 0 y 1 o que se distribuyan con una distribución normal de media 0 y desviación estándar 1."
      ]
    },
    {
      "cell_type": "code",
      "metadata": {
        "colab": {
          "base_uri": "https://localhost:8080/",
          "height": 265
        },
        "id": "JGWSiu9-e1Ie",
        "outputId": "da2794bb-42ae-4127-9dd5-432f2edbcc07"
      },
      "source": [
        "# Visualizamos nuestro conjunto de datos a través de un box plot para evaluar los rangos y distribuciones de nuestras variables.\n",
        "plt.boxplot(x)\n",
        "plt.show()"
      ],
      "execution_count": null,
      "outputs": [
        {
          "output_type": "display_data",
          "data": {
            "image/png": "[encoded data removed]",
            "text/plain": [
              "<Figure size 432x288 with 1 Axes>"
            ]
          },
          "metadata": {
            "tags": [],
            "needs_background": "light"
          }
        }
      ]
    },
    {
      "cell_type": "markdown",
      "metadata": {
        "id": "qRU5DB_dgDSt"
      },
      "source": [
        "## Actividad 1:\n",
        "Nuestra primera variable se distribuye de manera normal, pero está desplazada del 0 y además tiene una desviación estándar distinta a 1. Programe una función que escale esta variable a una distribución estándar de media 0 y desviación estándar 1. Este proceso de escalamiento se llama Standard Scaling."
      ]
    },
    {
      "cell_type": "code",
      "metadata": {
        "colab": {
          "base_uri": "https://localhost:8080/",
          "height": 267
        },
        "id": "aZe9XtNGfFlx",
        "outputId": "2f13af0c-3991-4865-dc49-d1f69ebc3607"
      },
      "source": [
        "plt.hist(x[:,0])\n",
        "plt.show()"
      ],
      "execution_count": null,
      "outputs": [
        {
          "output_type": "display_data",
          "data": {
            "image/png": "[encoded data removed]",
            "text/plain": [
              "<Figure size 432x288 with 1 Axes>"
            ]
          },
          "metadata": {
            "tags": [],
            "needs_background": "light"
          }
        }
      ]
    },
    {
      "cell_type": "code",
      "metadata": {
        "id": "o6-cpHy6cVXv"
      },
      "source": [
        "def standard_scaler(a):\n",
        "  a_scaled = (a - a.mean()) / (a.std())\n",
        "  return a_scaled"
      ],
      "execution_count": null,
      "outputs": []
    },
    {
      "cell_type": "code",
      "metadata": {
        "colab": {
          "base_uri": "https://localhost:8080/",
          "height": 267
        },
        "id": "-z2rbF-WoMuL",
        "outputId": "7cdf3365-4fcf-49bd-f209-1172da04de88"
      },
      "source": [
        "plt.hist(standard_scaler(x[:,0]))\n",
        "plt.show()"
      ],
      "execution_count": null,
      "outputs": [
        {
          "output_type": "display_data",
          "data": {
            "image/png": "[encoded data removed]",
            "text/plain": [
              "<Figure size 432x288 with 1 Axes>"
            ]
          },
          "metadata": {
            "tags": [],
            "needs_background": "light"
          }
        }
      ]
    },
    {
      "cell_type": "markdown",
      "metadata": {
        "id": "cDCuq1Nvh35b"
      },
      "source": [
        "## Actividad 2:\n",
        "Nuestra segunda variable se distribuye de manera uniforme, pero tiene un rango muy distinto a las demás variables. Programe una función que escale esta variable hacia valores entre 0 y 1, donde el menor valor sea escalado a 0 y el mayor a 1. Este proceso de escalamiento se llama Min-Max Scaling."
      ]
    },
    {
      "cell_type": "code",
      "metadata": {
        "colab": {
          "base_uri": "https://localhost:8080/",
          "height": 265
        },
        "id": "yxfNzLFSfM0W",
        "outputId": "f1127bb4-0967-4dd0-cc09-2545f2cb5030"
      },
      "source": [
        "plt.hist(x[:,1])\n",
        "plt.show()"
      ],
      "execution_count": null,
      "outputs": [
        {
          "output_type": "display_data",
          "data": {
            "image/png": "[encoded data removed]",
            "text/plain": [
              "<Figure size 432x288 with 1 Axes>"
            ]
          },
          "metadata": {
            "tags": [],
            "needs_background": "light"
          }
        }
      ]
    },
    {
      "cell_type": "code",
      "metadata": {
        "id": "zBg8H-Y2OVna"
      },
      "source": [
        "def min_max_scaler(a):\n",
        "  a_scaled = (a - a.min()) / (a.max() - a.min())\n",
        "  return a_scaled"
      ],
      "execution_count": null,
      "outputs": []
    },
    {
      "cell_type": "code",
      "metadata": {
        "colab": {
          "base_uri": "https://localhost:8080/",
          "height": 265
        },
        "id": "eY4pSi69oujP",
        "outputId": "2c8041ee-14db-4b8e-abf0-91b4d72e818d"
      },
      "source": [
        "plt.hist(min_max_scaler(x[:,1]))\n",
        "plt.show()"
      ],
      "execution_count": null,
      "outputs": [
        {
          "output_type": "display_data",
          "data": {
            "image/png": "[encoded data removed]",
            "text/plain": [
              "<Figure size 432x288 with 1 Axes>"
            ]
          },
          "metadata": {
            "tags": [],
            "needs_background": "light"
          }
        }
      ]
    },
    {
      "cell_type": "markdown",
      "metadata": {
        "id": "42yfsvk2iLtQ"
      },
      "source": [
        "## Actividad 3:\n",
        "Es muy frecuente que dentro de nuestros conjuntos de datos encontremos outliers. La variable 3 tiene una distribución uniforme pero cuenta con valores outliers. ¿Cómo se comporta el Min-Max Scaling en este caso?, aplique otro método de escalamiento que sea robusto a outliers."
      ]
    },
    {
      "cell_type": "code",
      "metadata": {
        "colab": {
          "base_uri": "https://localhost:8080/",
          "height": 265
        },
        "id": "-i3JIlghfP-O",
        "outputId": "45415778-5f0d-46a0-a8b1-a003bedcaad5"
      },
      "source": [
        "plt.hist(x[:,2])\n",
        "plt.show()"
      ],
      "execution_count": null,
      "outputs": [
        {
          "output_type": "display_data",
          "data": {
            "image/png": "[encoded data removed]",
            "text/plain": [
              "<Figure size 432x288 with 1 Axes>"
            ]
          },
          "metadata": {
            "tags": [],
            "needs_background": "light"
          }
        }
      ]
    },
    {
      "cell_type": "code",
      "metadata": {
        "id": "59TCFChxOocU",
        "colab": {
          "base_uri": "https://localhost:8080/",
          "height": 265
        },
        "outputId": "12bad6d8-2472-42a7-be18-10402178c0e7"
      },
      "source": [
        "scaler = sklearn.preprocessing.RobustScaler()\n",
        "plt.hist(scaler.fit_transform(x[:,2].reshape(-1, 1)))\n",
        "plt.show()"
      ],
      "execution_count": null,
      "outputs": [
        {
          "output_type": "display_data",
          "data": {
            "image/png": "[encoded data removed]",
            "text/plain": [
              "<Figure size 432x288 with 1 Axes>"
            ]
          },
          "metadata": {
            "tags": [],
            "needs_background": "light"
          }
        }
      ]
    },
    {
      "cell_type": "code",
      "metadata": {
        "colab": {
          "base_uri": "https://localhost:8080/",
          "height": 265
        },
        "id": "qPYVuQLvpZKf",
        "outputId": "a87c353c-02c5-4f80-c903-3cb338578d7d"
      },
      "source": [
        "x_scaled = x[:,:3]\n",
        "x_scaled[:,0] = standard_scaler(x[:,0])\n",
        "x_scaled[:,1] = min_max_scaler(x[:,1])\n",
        "x_scaled[:,2] = scaler.fit_transform(x[:,2].reshape(-1, 1)).flatten()\n",
        "plt.boxplot(x_scaled)\n",
        "plt.show()"
      ],
      "execution_count": null,
      "outputs": [
        {
          "output_type": "display_data",
          "data": {
            "image/png": "[encoded data removed]",
            "text/plain": [
              "<Figure size 432x288 with 1 Axes>"
            ]
          },
          "metadata": {
            "tags": [],
            "needs_background": "light"
          }
        }
      ]
    },
    {
      "cell_type": "markdown",
      "metadata": {
        "id": "x7XnbBE4ivdt"
      },
      "source": [
        "## Actividad 4:\n",
        "Otro método de preprocesamiento que se utiliza en ciencia de datos es la transformación de variables continuas hacia valores discretos. Valore la calidad de la discretización aplicada sobre la cuarta variable y modifique el proceso de discretización para que funcione óptimamente."
      ]
    },
    {
      "cell_type": "code",
      "metadata": {
        "colab": {
          "base_uri": "https://localhost:8080/",
          "height": 265
        },
        "id": "LhZMWgX_fb7J",
        "outputId": "ed2b2d2b-a61c-4824-8cd4-983ee348343c"
      },
      "source": [
        "plt.hist(x[:,3], bins=100)\n",
        "plt.show()"
      ],
      "execution_count": null,
      "outputs": [
        {
          "output_type": "display_data",
          "data": {
            "image/png": "[encoded data removed]",
            "text/plain": [
              "<Figure size 432x288 with 1 Axes>"
            ]
          },
          "metadata": {
            "tags": [],
            "needs_background": "light"
          }
        }
      ]
    },
    {
      "cell_type": "code",
      "metadata": {
        "colab": {
          "base_uri": "https://localhost:8080/",
          "height": 265
        },
        "id": "3KdfFcwTOUMp",
        "outputId": "54a01290-e302-439b-f0ba-e86942af0259"
      },
      "source": [
        "# Modifique este proceso de discretización para que funcione óptimamente.\n",
        "discretizer = sklearn.preprocessing.KBinsDiscretizer(n_bins=4,encode='ordinal',strategy='quantile')\n",
        "x4_discrete = discretizer.fit_transform(x[:,3].reshape(-1, 1))\n",
        "for i in range(4):\n",
        "  plt.hist(x[(x4_discrete == i).flatten(),3],bins=100)"
      ],
      "execution_count": null,
      "outputs": [
        {
          "output_type": "display_data",
          "data": {
            "image/png": "[encoded data removed]",
            "text/plain": [
              "<Figure size 432x288 with 1 Axes>"
            ]
          },
          "metadata": {
            "tags": [],
            "needs_background": "light"
          }
        }
      ]
    },
    {
      "cell_type": "code",
      "metadata": {
        "colab": {
          "base_uri": "https://localhost:8080/",
          "height": 267
        },
        "id": "AfIiViIaq615",
        "outputId": "09f32212-4495-4fdf-d3fb-5fa81e8f72cd"
      },
      "source": [
        "discretizer = sklearn.preprocessing.KBinsDiscretizer(n_bins=4,encode='ordinal',strategy='uniform')\n",
        "x4_discrete = discretizer.fit_transform(x[:,3].reshape(-1, 1))\n",
        "for i in range(4):\n",
        "  plt.hist(x[(x4_discrete == i).flatten(),3],bins=100)"
      ],
      "execution_count": null,
      "outputs": [
        {
          "output_type": "display_data",
          "data": {
            "image/png": "[encoded data removed]",
            "text/plain": [
              "<Figure size 432x288 with 1 Axes>"
            ]
          },
          "metadata": {
            "tags": [],
            "needs_background": "light"
          }
        }
      ]
    },
    {
      "cell_type": "code",
      "metadata": {
        "colab": {
          "base_uri": "https://localhost:8080/",
          "height": 265
        },
        "id": "TCnUVUtQqs_U",
        "outputId": "27f80d75-ed56-47f3-e078-b30e7da88add"
      },
      "source": [
        "discretizer = sklearn.preprocessing.KBinsDiscretizer(n_bins=4,encode='ordinal',strategy='kmeans')\n",
        "x4_discrete = discretizer.fit_transform(x[:,3].reshape(-1, 1))\n",
        "for i in range(4):\n",
        "  plt.hist(x[(x4_discrete == i).flatten(),3],bins=100)"
      ],
      "execution_count": null,
      "outputs": [
        {
          "output_type": "display_data",
          "data": {
            "image/png": "[encoded data removed]",
            "text/plain": [
              "<Figure size 432x288 with 1 Axes>"
            ]
          },
          "metadata": {
            "tags": [],
            "needs_background": "light"
          }
        }
      ]
    },
    {
      "cell_type": "markdown",
      "metadata": {
        "id": "9Zarn8fuj6Ko"
      },
      "source": [
        "## Valores de propiedades desde atributos de las casas\n",
        "\n",
        "Este conjunto de datos relaciona los valores de venta de propiedades con atributos de las mismas. Cada una de las características de las casas tienen una alta diferencia de rango entre si. Evalue el mejor método de escalamiento apra cada variable y aplíquelo."
      ]
    },
    {
      "cell_type": "code",
      "metadata": {
        "id": "8EhPG2ytaTG-"
      },
      "source": [
        "real_estate = pd.read_csv(\"https://github.com/fvillena/mlfa/raw/master/data/real_estate.csv\", delimiter=\";\")"
      ],
      "execution_count": null,
      "outputs": []
    },
    {
      "cell_type": "code",
      "metadata": {
        "colab": {
          "base_uri": "https://localhost:8080/",
          "height": 297
        },
        "id": "rEG7tEKuj30b",
        "outputId": "efc405cd-1a33-4792-fd11-085b39ba9c6e"
      },
      "source": [
        "real_estate.describe()"
      ],
      "execution_count": null,
      "outputs": [
        {
          "output_type": "execute_result",
          "data": {
            "text/html": [
              "<div>\n",
              "<style scoped>\n",
              "    .dataframe tbody tr th:only-of-type {\n",
              "        vertical-align: middle;\n",
              "    }\n",
              "\n",
              "    .dataframe tbody tr th {\n",
              "        vertical-align: top;\n",
              "    }\n",
              "\n",
              "    .dataframe thead th {\n",
              "        text-align: right;\n",
              "    }\n",
              "</style>\n",
              "<table border=\"1\" class=\"dataframe\">\n",
              "  <thead>\n",
              "    <tr style=\"text-align: right;\">\n",
              "      <th></th>\n",
              "      <th>transaction_date</th>\n",
              "      <th>house_age</th>\n",
              "      <th>distance_nearest_station</th>\n",
              "      <th>number_convenience_stores</th>\n",
              "      <th>latitude</th>\n",
              "      <th>longitude</th>\n",
              "      <th>price_unit_area</th>\n",
              "    </tr>\n",
              "  </thead>\n",
              "  <tbody>\n",
              "    <tr>\n",
              "      <th>count</th>\n",
              "      <td>414.000000</td>\n",
              "      <td>414.000000</td>\n",
              "      <td>414.000000</td>\n",
              "      <td>414.000000</td>\n",
              "      <td>414.000000</td>\n",
              "      <td>414.000000</td>\n",
              "      <td>414.000000</td>\n",
              "    </tr>\n",
              "    <tr>\n",
              "      <th>mean</th>\n",
              "      <td>2013.148953</td>\n",
              "      <td>17.712560</td>\n",
              "      <td>1083.885689</td>\n",
              "      <td>4.094203</td>\n",
              "      <td>24.969030</td>\n",
              "      <td>121.533361</td>\n",
              "      <td>37.980193</td>\n",
              "    </tr>\n",
              "    <tr>\n",
              "      <th>std</th>\n",
              "      <td>0.281995</td>\n",
              "      <td>11.392485</td>\n",
              "      <td>1262.109595</td>\n",
              "      <td>2.945562</td>\n",
              "      <td>0.012410</td>\n",
              "      <td>0.015347</td>\n",
              "      <td>13.606488</td>\n",
              "    </tr>\n",
              "    <tr>\n",
              "      <th>min</th>\n",
              "      <td>2012.666667</td>\n",
              "      <td>0.000000</td>\n",
              "      <td>23.382840</td>\n",
              "      <td>0.000000</td>\n",
              "      <td>24.932070</td>\n",
              "      <td>121.473530</td>\n",
              "      <td>7.600000</td>\n",
              "    </tr>\n",
              "    <tr>\n",
              "      <th>25%</th>\n",
              "      <td>2012.916667</td>\n",
              "      <td>9.025000</td>\n",
              "      <td>289.324800</td>\n",
              "      <td>1.000000</td>\n",
              "      <td>24.963000</td>\n",
              "      <td>121.528085</td>\n",
              "      <td>27.700000</td>\n",
              "    </tr>\n",
              "    <tr>\n",
              "      <th>50%</th>\n",
              "      <td>2013.166667</td>\n",
              "      <td>16.100000</td>\n",
              "      <td>492.231300</td>\n",
              "      <td>4.000000</td>\n",
              "      <td>24.971100</td>\n",
              "      <td>121.538630</td>\n",
              "      <td>38.450000</td>\n",
              "    </tr>\n",
              "    <tr>\n",
              "      <th>75%</th>\n",
              "      <td>2013.416667</td>\n",
              "      <td>28.150000</td>\n",
              "      <td>1454.279000</td>\n",
              "      <td>6.000000</td>\n",
              "      <td>24.977455</td>\n",
              "      <td>121.543305</td>\n",
              "      <td>46.600000</td>\n",
              "    </tr>\n",
              "    <tr>\n",
              "      <th>max</th>\n",
              "      <td>2013.583333</td>\n",
              "      <td>43.800000</td>\n",
              "      <td>6488.021000</td>\n",
              "      <td>10.000000</td>\n",
              "      <td>25.014590</td>\n",
              "      <td>121.566270</td>\n",
              "      <td>117.500000</td>\n",
              "    </tr>\n",
              "  </tbody>\n",
              "</table>\n",
              "</div>"
            ],
            "text/plain": [
              "       transaction_date   house_age  ...   longitude  price_unit_area\n",
              "count        414.000000  414.000000  ...  414.000000       414.000000\n",
              "mean        2013.148953   17.712560  ...  121.533361        37.980193\n",
              "std            0.281995   11.392485  ...    0.015347        13.606488\n",
              "min         2012.666667    0.000000  ...  121.473530         7.600000\n",
              "25%         2012.916667    9.025000  ...  121.528085        27.700000\n",
              "50%         2013.166667   16.100000  ...  121.538630        38.450000\n",
              "75%         2013.416667   28.150000  ...  121.543305        46.600000\n",
              "max         2013.583333   43.800000  ...  121.566270       117.500000\n",
              "\n",
              "[8 rows x 7 columns]"
            ]
          },
          "metadata": {
            "tags": []
          },
          "execution_count": 23
        }
      ]
    },
    {
      "cell_type": "code",
      "metadata": {
        "id": "RTcwquy7rX1_"
      },
      "source": [
        "import seaborn as sns"
      ],
      "execution_count": null,
      "outputs": []
    },
    {
      "cell_type": "code",
      "metadata": {
        "id": "QgEtABrcrBb1"
      },
      "source": [
        "def plot_distribution(df,title):\n",
        "    \"\"\"\n",
        "    Esta función recibe un dataframe de características y un titulo.\n",
        "    Retorna un gráfico de violines para cada una de las características.\n",
        "    \"\"\"\n",
        "    sns.violinplot(\n",
        "        data=df.melt(), # Cambiamos el esquema del dataframe para que sea solo de 2 columnas\n",
        "        y=\"variable\",\n",
        "        x=\"value\",\n",
        "        cut=0\n",
        "    )\n",
        "    plt.title(title)\n",
        "    plt.show()"
      ],
      "execution_count": null,
      "outputs": []
    },
    {
      "cell_type": "code",
      "metadata": {
        "id": "Z0u-S9sSrimP"
      },
      "source": [
        "def rescale_data(df,scaler):\n",
        "    \"\"\"\n",
        "    Recibe un dataframe y un método de escalamiento de variables.\n",
        "    Retorna un dataframe con las variables escaladas utilizando el método especificado.\n",
        "    \"\"\"\n",
        "    if scaler != None:\n",
        "        features_rescaled = scaler.fit_transform(features) # Transformamos los datos utilizando un método de escalamiento.\n",
        "        return pd.DataFrame(features_rescaled,columns=feature_names)\n",
        "    else:\n",
        "        return df"
      ],
      "execution_count": null,
      "outputs": []
    },
    {
      "cell_type": "code",
      "metadata": {
        "id": "0M1OntlZrQCo"
      },
      "source": [
        "feature_names = [\n",
        "    'transaction_date', \n",
        "    'house_age', \n",
        "    'distance_nearest_station', \n",
        "    'number_convenience_stores', \n",
        "    'latitude', \n",
        "    'longitude'\n",
        "]\n",
        "\n",
        "features = real_estate[feature_names]"
      ],
      "execution_count": null,
      "outputs": []
    },
    {
      "cell_type": "code",
      "metadata": {
        "colab": {
          "base_uri": "https://localhost:8080/",
          "height": 295
        },
        "id": "QsTsfHC9rIKC",
        "outputId": "837632de-848f-4e23-82fa-0e155b7e124c"
      },
      "source": [
        "plot_distribution(features,\"Raw Data\")"
      ],
      "execution_count": null,
      "outputs": [
        {
          "output_type": "display_data",
          "data": {
            "image/png": "[encoded data removed]",
            "text/plain": [
              "<Figure size 432x288 with 1 Axes>"
            ]
          },
          "metadata": {
            "tags": [],
            "needs_background": "light"
          }
        }
      ]
    },
    {
      "cell_type": "code",
      "metadata": {
        "colab": {
          "base_uri": "https://localhost:8080/",
          "height": 297
        },
        "id": "CBXmSIDwrK2S",
        "outputId": "c92f42fb-61ca-4fb0-a0f1-3af4046c744d"
      },
      "source": [
        "features_rs = rescale_data(features,sklearn.preprocessing.RobustScaler())\n",
        "features_rs.describe()"
      ],
      "execution_count": null,
      "outputs": [
        {
          "output_type": "execute_result",
          "data": {
            "text/html": [
              "<div>\n",
              "<style scoped>\n",
              "    .dataframe tbody tr th:only-of-type {\n",
              "        vertical-align: middle;\n",
              "    }\n",
              "\n",
              "    .dataframe tbody tr th {\n",
              "        vertical-align: top;\n",
              "    }\n",
              "\n",
              "    .dataframe thead th {\n",
              "        text-align: right;\n",
              "    }\n",
              "</style>\n",
              "<table border=\"1\" class=\"dataframe\">\n",
              "  <thead>\n",
              "    <tr style=\"text-align: right;\">\n",
              "      <th></th>\n",
              "      <th>transaction_date</th>\n",
              "      <th>house_age</th>\n",
              "      <th>distance_nearest_station</th>\n",
              "      <th>number_convenience_stores</th>\n",
              "      <th>latitude</th>\n",
              "      <th>longitude</th>\n",
              "    </tr>\n",
              "  </thead>\n",
              "  <tbody>\n",
              "    <tr>\n",
              "      <th>count</th>\n",
              "      <td>414.000000</td>\n",
              "      <td>414.000000</td>\n",
              "      <td>414.000000</td>\n",
              "      <td>414.000000</td>\n",
              "      <td>414.000000</td>\n",
              "      <td>414.000000</td>\n",
              "    </tr>\n",
              "    <tr>\n",
              "      <th>mean</th>\n",
              "      <td>-0.035427</td>\n",
              "      <td>0.084317</td>\n",
              "      <td>0.507878</td>\n",
              "      <td>0.018841</td>\n",
              "      <td>-0.143198</td>\n",
              "      <td>-0.346184</td>\n",
              "    </tr>\n",
              "    <tr>\n",
              "      <th>std</th>\n",
              "      <td>0.563991</td>\n",
              "      <td>0.595685</td>\n",
              "      <td>1.083398</td>\n",
              "      <td>0.589112</td>\n",
              "      <td>0.858540</td>\n",
              "      <td>1.008356</td>\n",
              "    </tr>\n",
              "    <tr>\n",
              "      <th>min</th>\n",
              "      <td>-1.000000</td>\n",
              "      <td>-0.841830</td>\n",
              "      <td>-0.402461</td>\n",
              "      <td>-0.800000</td>\n",
              "      <td>-2.700104</td>\n",
              "      <td>-4.277267</td>\n",
              "    </tr>\n",
              "    <tr>\n",
              "      <th>25%</th>\n",
              "      <td>-0.500000</td>\n",
              "      <td>-0.369935</td>\n",
              "      <td>-0.174176</td>\n",
              "      <td>-0.600000</td>\n",
              "      <td>-0.560360</td>\n",
              "      <td>-0.692838</td>\n",
              "    </tr>\n",
              "    <tr>\n",
              "      <th>50%</th>\n",
              "      <td>0.000000</td>\n",
              "      <td>0.000000</td>\n",
              "      <td>0.000000</td>\n",
              "      <td>0.000000</td>\n",
              "      <td>0.000000</td>\n",
              "      <td>0.000000</td>\n",
              "    </tr>\n",
              "    <tr>\n",
              "      <th>75%</th>\n",
              "      <td>0.500000</td>\n",
              "      <td>0.630065</td>\n",
              "      <td>0.825824</td>\n",
              "      <td>0.400000</td>\n",
              "      <td>0.439640</td>\n",
              "      <td>0.307162</td>\n",
              "    </tr>\n",
              "    <tr>\n",
              "      <th>max</th>\n",
              "      <td>0.833332</td>\n",
              "      <td>1.448366</td>\n",
              "      <td>5.146803</td>\n",
              "      <td>1.200000</td>\n",
              "      <td>3.008648</td>\n",
              "      <td>1.816032</td>\n",
              "    </tr>\n",
              "  </tbody>\n",
              "</table>\n",
              "</div>"
            ],
            "text/plain": [
              "       transaction_date   house_age  ...    latitude   longitude\n",
              "count        414.000000  414.000000  ...  414.000000  414.000000\n",
              "mean          -0.035427    0.084317  ...   -0.143198   -0.346184\n",
              "std            0.563991    0.595685  ...    0.858540    1.008356\n",
              "min           -1.000000   -0.841830  ...   -2.700104   -4.277267\n",
              "25%           -0.500000   -0.369935  ...   -0.560360   -0.692838\n",
              "50%            0.000000    0.000000  ...    0.000000    0.000000\n",
              "75%            0.500000    0.630065  ...    0.439640    0.307162\n",
              "max            0.833332    1.448366  ...    3.008648    1.816032\n",
              "\n",
              "[8 rows x 6 columns]"
            ]
          },
          "metadata": {
            "tags": []
          },
          "execution_count": 29
        }
      ]
    },
    {
      "cell_type": "code",
      "metadata": {
        "id": "rugw9o8Mrm4I",
        "colab": {
          "base_uri": "https://localhost:8080/",
          "height": 295
        },
        "outputId": "fb2ee647-402f-4105-b609-fb90af8beeb9"
      },
      "source": [
        "plot_distribution(features_rs,\"Robust Scaler\")"
      ],
      "execution_count": null,
      "outputs": [
        {
          "output_type": "display_data",
          "data": {
            "image/png": "[encoded data removed]",
            "text/plain": [
              "<Figure size 432x288 with 1 Axes>"
            ]
          },
          "metadata": {
            "tags": [],
            "needs_background": "light"
          }
        }
      ]
    },
    {
      "cell_type": "code",
      "metadata": {
        "id": "u_2rjE4ArpBO"
      },
      "source": [
        ""
      ],
      "execution_count": null,
      "outputs": []
    }
  ]
}