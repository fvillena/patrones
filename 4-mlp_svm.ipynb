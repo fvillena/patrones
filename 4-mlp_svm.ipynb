{
  "nbformat": 4,
  "nbformat_minor": 0,
  "metadata": {
    "colab": {
      "name": "4-mlp-svm",
      "provenance": [],
      "authorship_tag": "ABX9TyMJ6iOklrfvABJqOsSc+/9W",
      "include_colab_link": true
    },
    "kernelspec": {
      "name": "python3",
      "display_name": "Python 3"
    },
    "language_info": {
      "name": "python"
    }
  },
  "cells": [
    {
      "cell_type": "markdown",
      "metadata": {
        "id": "view-in-github",
        "colab_type": "text"
      },
      "source": [
        "<a href=\"https://colab.research.google.com/github/fvillena/patrones/blob/main/4-mlp_svm.ipynb\" target=\"_parent\"><img src=\"https://colab.research.google.com/assets/colab-badge.svg\" alt=\"Open In Colab\"/></a>"
      ]
    },
    {
      "cell_type": "markdown",
      "metadata": {
        "id": "5DheF6MWziKm"
      },
      "source": [
        "# Clasificación: Multilayer Perceptron y Support Vector Machines"
      ]
    },
    {
      "cell_type": "markdown",
      "metadata": {
        "id": "KovodXufzqrn"
      },
      "source": [
        "En aprendizaje de máquinas, la clasificación es el problema de identificar a qué clase (de un grupo finito de clases) una observación nueva pertenece, tomando como base un entrenamiento previo sobre un grupo de observaciones donde sí se conocían sus clases correspondientes."
      ]
    },
    {
      "cell_type": "code",
      "metadata": {
        "id": "4zTB5xHTzn0v"
      },
      "source": [
        "import pandas as pd\n",
        "import sklearn.linear_model # Algoritmos lineales como el Perceptron\n",
        "import sklearn.neural_network # Perceptón multicapa\n",
        "import sklearn.model_selection # Funciones para preprocesar nuestros datos\n",
        "import sklearn.svm\n",
        "import sklearn.metrics # Métricas\n",
        "import matplotlib.pyplot as plt\n",
        "import seaborn as sns\n",
        "import numpy as np"
      ],
      "execution_count": 1,
      "outputs": []
    },
    {
      "cell_type": "code",
      "metadata": {
        "id": "AoGGVr-zzx9p"
      },
      "source": [
        "simplest = pd.read_csv(\"https://raw.githubusercontent.com/fvillena/mlb/master/data/simplest.csv\")"
      ],
      "execution_count": 3,
      "outputs": []
    },
    {
      "cell_type": "code",
      "metadata": {
        "colab": {
          "base_uri": "https://localhost:8080/",
          "height": 204
        },
        "id": "KXjlxNyU1LSi",
        "outputId": "be296ce3-6bb0-431f-ef72-093381b1119b"
      },
      "source": [
        "simplest.head() # Importamos nuestros datos etiquetados (columna y)"
      ],
      "execution_count": 4,
      "outputs": [
        {
          "output_type": "execute_result",
          "data": {
            "text/html": [
              "<div>\n",
              "<style scoped>\n",
              "    .dataframe tbody tr th:only-of-type {\n",
              "        vertical-align: middle;\n",
              "    }\n",
              "\n",
              "    .dataframe tbody tr th {\n",
              "        vertical-align: top;\n",
              "    }\n",
              "\n",
              "    .dataframe thead th {\n",
              "        text-align: right;\n",
              "    }\n",
              "</style>\n",
              "<table border=\"1\" class=\"dataframe\">\n",
              "  <thead>\n",
              "    <tr style=\"text-align: right;\">\n",
              "      <th></th>\n",
              "      <th>x1</th>\n",
              "      <th>x2</th>\n",
              "      <th>y</th>\n",
              "    </tr>\n",
              "  </thead>\n",
              "  <tbody>\n",
              "    <tr>\n",
              "      <th>0</th>\n",
              "      <td>1.812018</td>\n",
              "      <td>1.033985</td>\n",
              "      <td>1</td>\n",
              "    </tr>\n",
              "    <tr>\n",
              "      <th>1</th>\n",
              "      <td>-2.627158</td>\n",
              "      <td>-2.016127</td>\n",
              "      <td>0</td>\n",
              "    </tr>\n",
              "    <tr>\n",
              "      <th>2</th>\n",
              "      <td>-3.023353</td>\n",
              "      <td>1.481023</td>\n",
              "      <td>1</td>\n",
              "    </tr>\n",
              "    <tr>\n",
              "      <th>3</th>\n",
              "      <td>2.800382</td>\n",
              "      <td>-2.410295</td>\n",
              "      <td>0</td>\n",
              "    </tr>\n",
              "    <tr>\n",
              "      <th>4</th>\n",
              "      <td>-1.836262</td>\n",
              "      <td>2.381069</td>\n",
              "      <td>1</td>\n",
              "    </tr>\n",
              "  </tbody>\n",
              "</table>\n",
              "</div>"
            ],
            "text/plain": [
              "         x1        x2  y\n",
              "0  1.812018  1.033985  1\n",
              "1 -2.627158 -2.016127  0\n",
              "2 -3.023353  1.481023  1\n",
              "3  2.800382 -2.410295  0\n",
              "4 -1.836262  2.381069  1"
            ]
          },
          "metadata": {
            "tags": []
          },
          "execution_count": 4
        }
      ]
    },
    {
      "cell_type": "markdown",
      "metadata": {
        "id": "5wCxOTnk1Yzr"
      },
      "source": [
        "Verificamos la distribución que tienen nuestros datos"
      ]
    },
    {
      "cell_type": "code",
      "metadata": {
        "colab": {
          "base_uri": "https://localhost:8080/",
          "height": 283
        },
        "id": "vMJR3T3w1UGR",
        "outputId": "58932caf-1683-4090-8b07-a9283ab91d9d"
      },
      "source": [
        "plt.scatter(\n",
        "    simplest.x1,\n",
        "    simplest.x2,\n",
        "    c = simplest.y # Pintamos nuestros puntos según la etiqueta que tengan\n",
        ")"
      ],
      "execution_count": 6,
      "outputs": [
        {
          "output_type": "execute_result",
          "data": {
            "text/plain": [
              "<matplotlib.collections.PathCollection at 0x7f5457b2e290>"
            ]
          },
          "metadata": {
            "tags": []
          },
          "execution_count": 6
        },
        {
          "output_type": "display_data",
          "data": {
            "image/png": "[encoded data removed]",
            "text/plain": [
              "<Figure size 432x288 with 1 Axes>"
            ]
          },
          "metadata": {
            "tags": [],
            "needs_background": "light"
          }
        }
      ]
    },
    {
      "cell_type": "markdown",
      "metadata": {
        "id": "V8dKAbjA30EI"
      },
      "source": [
        "## Preprocesamiento\n",
        "\n",
        "Para poder evaluar los desempeños de nuestros modelos de la manera más válida posible, se suele dividir nuestro conjunto de datos un en subconjunto de entrenamiento y uno de prueba. El subconjunto de entrenamiento es el único que utilizaremos para entrenar nuestro modelo. El subconjunto de prueba es independiente al de entrenamiento y con este evaluamos las métricas de desempeño de nuestro modelo.\n",
        "\n",
        "Para fácilemente realizar esta separación utilizamos la función `sklearn.model_selection.train_test_split()`"
      ]
    },
    {
      "cell_type": "code",
      "metadata": {
        "id": "UhbRdPh21Xqj"
      },
      "source": [
        "simplest_features = simplest.iloc[:,:-1] # Seleccionamos sólo las características de nuestro conjunto de datos"
      ],
      "execution_count": 7,
      "outputs": []
    },
    {
      "cell_type": "code",
      "metadata": {
        "id": "_qAGuGn333T8"
      },
      "source": [
        "simplest_label = simplest.y# Seleccionamos sólo la etiqueta de nuestro conjunto de datos"
      ],
      "execution_count": 8,
      "outputs": []
    },
    {
      "cell_type": "code",
      "metadata": {
        "id": "srHzPAZu34Xl"
      },
      "source": [
        "# Dividimos nuestro conjunto de datos en subconjuntos de entrenamiento y prueba\n",
        "\n",
        "simplest_features_train, simplest_features_test, simplest_label_train, simplest_label_test = sklearn.model_selection.train_test_split(\n",
        "    simplest_features,\n",
        "    simplest_label,\n",
        "    test_size=0.33, # Tamaño del conjunto de prueba\n",
        "    random_state=11 # Bloqueamos el generador de números al azar con una semilla\n",
        ")"
      ],
      "execution_count": 9,
      "outputs": []
    },
    {
      "cell_type": "markdown",
      "metadata": {
        "id": "SXjbbYcr37Of"
      },
      "source": [
        "## Perceptrón"
      ]
    },
    {
      "cell_type": "markdown",
      "metadata": {
        "id": "8Inc2t3M3-M3"
      },
      "source": [
        "Ajustaremos un único perceptrón para poder separar las clases de nuestros datos."
      ]
    },
    {
      "cell_type": "code",
      "metadata": {
        "colab": {
          "base_uri": "https://localhost:8080/"
        },
        "id": "b77L64--35fd",
        "outputId": "f5383f87-1187-4035-ee68-73ca00c9e61c"
      },
      "source": [
        "p = sklearn.linear_model.Perceptron() # Instanciamos nuestro perceptrón\n",
        "p.fit(\n",
        "    simplest_features_train,\n",
        "    simplest_label_train\n",
        ") # Ajustamos el perceptrón con los datos de entrenamiento"
      ],
      "execution_count": 10,
      "outputs": [
        {
          "output_type": "execute_result",
          "data": {
            "text/plain": [
              "Perceptron(alpha=0.0001, class_weight=None, early_stopping=False, eta0=1.0,\n",
              "           fit_intercept=True, max_iter=1000, n_iter_no_change=5, n_jobs=None,\n",
              "           penalty=None, random_state=0, shuffle=True, tol=0.001,\n",
              "           validation_fraction=0.1, verbose=0, warm_start=False)"
            ]
          },
          "metadata": {
            "tags": []
          },
          "execution_count": 10
        }
      ]
    },
    {
      "cell_type": "markdown",
      "metadata": {
        "id": "aWnR61sL4EEd"
      },
      "source": [
        "Para evaluar el rendimiento de nuestro clasificador, calcularemos algunas métricas de clasificación sobre el subconjunto de entrenamiento utilizando la función `sklearn.metrics.classification_report()`"
      ]
    },
    {
      "cell_type": "code",
      "metadata": {
        "colab": {
          "base_uri": "https://localhost:8080/"
        },
        "id": "IxnBvNJG3_9M",
        "outputId": "5eb36cde-d628-46b7-b1fd-d0ae53d4e67c"
      },
      "source": [
        "print(sklearn.metrics.classification_report(\n",
        "    simplest_label_test, # Etiquetas reales del conjunto de prueba\n",
        "    p.predict(simplest_features_test) # Etiquetas predichas por el modelo\n",
        "))"
      ],
      "execution_count": 12,
      "outputs": [
        {
          "output_type": "stream",
          "text": [
            "              precision    recall  f1-score   support\n",
            "\n",
            "           0       1.00      1.00      1.00        17\n",
            "           1       1.00      1.00      1.00        16\n",
            "\n",
            "    accuracy                           1.00        33\n",
            "   macro avg       1.00      1.00      1.00        33\n",
            "weighted avg       1.00      1.00      1.00        33\n",
            "\n"
          ],
          "name": "stdout"
        }
      ]
    },
    {
      "cell_type": "markdown",
      "metadata": {
        "id": "zXhHsZP54WNI"
      },
      "source": [
        "Exploremos los parámetros ajustados de nuestro perceptrón"
      ]
    },
    {
      "cell_type": "code",
      "metadata": {
        "colab": {
          "base_uri": "https://localhost:8080/"
        },
        "id": "NrOFmmAR4ON9",
        "outputId": "abfe3df5-5db0-4f05-a7d1-a83de44ba8a5"
      },
      "source": [
        "p.coef_ # Los pesos asociados a cada una de las variables"
      ],
      "execution_count": 13,
      "outputs": [
        {
          "output_type": "execute_result",
          "data": {
            "text/plain": [
              "array([[1.10152364, 6.66922198]])"
            ]
          },
          "metadata": {
            "tags": []
          },
          "execution_count": 13
        }
      ]
    },
    {
      "cell_type": "code",
      "metadata": {
        "colab": {
          "base_uri": "https://localhost:8080/"
        },
        "id": "mWoTECLJ4Xbz",
        "outputId": "c0dc9856-32b8-4075-a616-1e8f704df680"
      },
      "source": [
        "p.intercept_ # El sesgo asociado al perceptrón"
      ],
      "execution_count": 14,
      "outputs": [
        {
          "output_type": "execute_result",
          "data": {
            "text/plain": [
              "array([4.])"
            ]
          },
          "metadata": {
            "tags": []
          },
          "execution_count": 14
        }
      ]
    },
    {
      "cell_type": "markdown",
      "metadata": {
        "id": "FCQZXg5J4aYi"
      },
      "source": [
        "En este artículo pueden aprender como encontrar la pendiente y el intercepto asociados a nuestro perceptrón. https://stackoverflow.com/questions/31292393/how-do-you-draw-a-line-using-the-weight-vector-in-a-linear-perceptron"
      ]
    },
    {
      "cell_type": "code",
      "metadata": {
        "id": "gQaLG2-54YjL"
      },
      "source": [
        "slope = -( p.intercept_ / p.coef_[0][1] ) / ( p.intercept_ / p.coef_[0][0] ) # Pendiente asociada al umbral de clasificación\n",
        "intercept = -p.intercept_ / p.coef_[0][1] # Intercepto asociado al umbral de clasificación"
      ],
      "execution_count": 15,
      "outputs": []
    },
    {
      "cell_type": "code",
      "metadata": {
        "id": "bLG1cWrG4b0F"
      },
      "source": [
        "# Calculemos 2 puntos para trazar una linea asociada al umbral de clasificación\n",
        "db_x = np.array(\n",
        "    [simplest_features_test.x1.min(),\n",
        "    simplest_features_test.x1.max()]\n",
        ")\n",
        "db_y = slope * db_x + intercept"
      ],
      "execution_count": 16,
      "outputs": []
    },
    {
      "cell_type": "code",
      "metadata": {
        "colab": {
          "base_uri": "https://localhost:8080/",
          "height": 282
        },
        "id": "SO4i5sAs4c7W",
        "outputId": "1c522197-b025-400b-b124-a3fa73138252"
      },
      "source": [
        "plt.scatter(\n",
        "    simplest_features_test.x1,\n",
        "    simplest_features_test.x2,\n",
        "    c = simplest_label_test\n",
        ")\n",
        "\n",
        "# Graficamos nuestro umbral de clasificación\n",
        "\n",
        "plt.plot(\n",
        "    db_x,\n",
        "    db_y\n",
        ")"
      ],
      "execution_count": 17,
      "outputs": [
        {
          "output_type": "execute_result",
          "data": {
            "text/plain": [
              "[<matplotlib.lines.Line2D at 0x7f5457529fd0>]"
            ]
          },
          "metadata": {
            "tags": []
          },
          "execution_count": 17
        },
        {
          "output_type": "display_data",
          "data": {
            "image/png": "[encoded data removed]",
            "text/plain": [
              "<Figure size 432x288 with 1 Axes>"
            ]
          },
          "metadata": {
            "tags": [],
            "needs_background": "light"
          }
        }
      ]
    },
    {
      "cell_type": "code",
      "metadata": {
        "id": "aWEdBfHP4eMv"
      },
      "source": [
        "checkerboard = pd.read_csv(\"https://raw.githubusercontent.com/fvillena/mlb/master/data/checkerboard.csv\") # Importamos un nuevo conjunto de datos"
      ],
      "execution_count": 18,
      "outputs": []
    },
    {
      "cell_type": "code",
      "metadata": {
        "colab": {
          "base_uri": "https://localhost:8080/",
          "height": 282
        },
        "id": "4w2wxD6-4mw1",
        "outputId": "cb463ddb-e9fb-4daf-a0f0-58002241e0e5"
      },
      "source": [
        "plt.scatter(\n",
        "    checkerboard.x1,\n",
        "    checkerboard.x2,\n",
        "    c = checkerboard.y\n",
        ")"
      ],
      "execution_count": 19,
      "outputs": [
        {
          "output_type": "execute_result",
          "data": {
            "text/plain": [
              "<matplotlib.collections.PathCollection at 0x7f5457529a10>"
            ]
          },
          "metadata": {
            "tags": []
          },
          "execution_count": 19
        },
        {
          "output_type": "display_data",
          "data": {
            "image/png": "[encoded data removed]",
            "text/plain": [
              "<Figure size 432x288 with 1 Axes>"
            ]
          },
          "metadata": {
            "tags": [],
            "needs_background": "light"
          }
        }
      ]
    },
    {
      "cell_type": "code",
      "metadata": {
        "id": "s9TvtLcy4n4Z"
      },
      "source": [
        "checkerboard_features = checkerboard.iloc[:,:-1]"
      ],
      "execution_count": 20,
      "outputs": []
    },
    {
      "cell_type": "code",
      "metadata": {
        "id": "HtYkGsyN4tYl"
      },
      "source": [
        "checkerboard_label = checkerboard.y"
      ],
      "execution_count": 21,
      "outputs": []
    },
    {
      "cell_type": "code",
      "metadata": {
        "id": "dWuxMHT84uc3"
      },
      "source": [
        "checkerboard_features_train, checkerboard_features_test, checkerboard_label_train, checkerboard_label_test = sklearn.model_selection.train_test_split(\n",
        "    checkerboard_features,\n",
        "    checkerboard_label,\n",
        "    test_size=0.33,\n",
        "    random_state=11\n",
        ")"
      ],
      "execution_count": 22,
      "outputs": []
    },
    {
      "cell_type": "markdown",
      "metadata": {
        "id": "vGXxSZ594xPs"
      },
      "source": [
        "Entrenemos un nuevo perceptrón"
      ]
    },
    {
      "cell_type": "code",
      "metadata": {
        "colab": {
          "base_uri": "https://localhost:8080/"
        },
        "id": "e_RE4RT64vbN",
        "outputId": "c1cd9a51-6615-4ce8-f504-301d79fb9f2c"
      },
      "source": [
        "p1 = sklearn.linear_model.Perceptron()\n",
        "p1.fit(\n",
        "    checkerboard_features_train,\n",
        "    checkerboard_label_train\n",
        ")"
      ],
      "execution_count": 23,
      "outputs": [
        {
          "output_type": "execute_result",
          "data": {
            "text/plain": [
              "Perceptron(alpha=0.0001, class_weight=None, early_stopping=False, eta0=1.0,\n",
              "           fit_intercept=True, max_iter=1000, n_iter_no_change=5, n_jobs=None,\n",
              "           penalty=None, random_state=0, shuffle=True, tol=0.001,\n",
              "           validation_fraction=0.1, verbose=0, warm_start=False)"
            ]
          },
          "metadata": {
            "tags": []
          },
          "execution_count": 23
        }
      ]
    },
    {
      "cell_type": "code",
      "metadata": {
        "colab": {
          "base_uri": "https://localhost:8080/"
        },
        "id": "ju_bUxkH4ysR",
        "outputId": "5e0df057-2fb3-43ec-df5a-ba0418a637ac"
      },
      "source": [
        "print(sklearn.metrics.classification_report(\n",
        "    checkerboard_label_test,\n",
        "    p1.predict(checkerboard_features_test)\n",
        "))"
      ],
      "execution_count": 28,
      "outputs": [
        {
          "output_type": "stream",
          "text": [
            "              precision    recall  f1-score   support\n",
            "\n",
            "           0       0.67      0.56      0.61        18\n",
            "           1       0.56      0.67      0.61        15\n",
            "\n",
            "    accuracy                           0.61        33\n",
            "   macro avg       0.61      0.61      0.61        33\n",
            "weighted avg       0.62      0.61      0.61        33\n",
            "\n"
          ],
          "name": "stdout"
        }
      ]
    },
    {
      "cell_type": "code",
      "metadata": {
        "colab": {
          "base_uri": "https://localhost:8080/",
          "height": 282
        },
        "id": "Kxg2Qb-k465Z",
        "outputId": "b36a910b-ee6b-427a-a9b2-184d811046e7"
      },
      "source": [
        "slope = -( p1.intercept_ / p1.coef_[0][1] ) / ( p1.intercept_ / p1.coef_[0][0] )  \n",
        "intercept = -p1.intercept_ / p1.coef_[0][1]\n",
        "db_x = np.array(\n",
        "    [checkerboard_features_test.x1.min(),\n",
        "    checkerboard_features_test.x1.max()]\n",
        ")\n",
        "db_y = slope * db_x + intercept\n",
        "plt.scatter(\n",
        "    checkerboard_features_test.x1,\n",
        "    checkerboard_features_test.x2,\n",
        "    c = checkerboard_label_test\n",
        ")\n",
        "\n",
        "plt.plot(\n",
        "    db_x,\n",
        "    db_y\n",
        ")"
      ],
      "execution_count": 25,
      "outputs": [
        {
          "output_type": "execute_result",
          "data": {
            "text/plain": [
              "[<matplotlib.lines.Line2D at 0x7f54574e4c90>]"
            ]
          },
          "metadata": {
            "tags": []
          },
          "execution_count": 25
        },
        {
          "output_type": "display_data",
          "data": {
            "image/png": "[encoded data removed]",
            "text/plain": [
              "<Figure size 432x288 with 1 Axes>"
            ]
          },
          "metadata": {
            "tags": [],
            "needs_background": "light"
          }
        }
      ]
    },
    {
      "cell_type": "markdown",
      "metadata": {
        "id": "dKyOCm1n5C_n"
      },
      "source": [
        "## Actividad 1\n",
        "\n",
        "¿El perceptrón es un buen método para esta tarea y por qué?. Sí sólo pudieses usar perceptrones, ¿cuál crees que sería un buen número a utilizar y cómo los ordenarías?, prográmalo y evalúa sus **resultados**.\n",
        "\n",
        "Planifica tu arquitectura utilizando Tensorflow Playground\n",
        "\n",
        "https://playground.tensorflow.org/#activation=tanh&batchSize=10&dataset=xor&regDataset=reg-plane&learningRate=0.03&regularizationRate=0&noise=0&networkShape=1&seed=0.38047&showTestData=false&discretize=false&percTrainData=50&x=true&y=true&xTimesY=false&xSquared=false&ySquared=false&cosX=false&sinX=false&cosY=false&sinY=false&collectStats=false&problem=classification&initZero=false&hideText=false"
      ]
    },
    {
      "cell_type": "code",
      "metadata": {
        "id": "_4WT8O7549Mb"
      },
      "source": [
        "# TODO: Código para perceptrones múltiples para clasificar el conjunto de datos checkerboard\n",
        "# HINT: Documentación del perceptrón multicapa https://scikit-learn.org/stable/modules/generated/sklearn.neural_network.MLPClassifier.html\n",
        "# Implementa lo que aprendiste en TensorFlow Playground e implementalo acá.\n",
        "mlp = sklearn.neural_network.MLPClassifier()"
      ],
      "execution_count": 26,
      "outputs": []
    },
    {
      "cell_type": "markdown",
      "metadata": {
        "id": "LdN_BxAw6sgm"
      },
      "source": [
        "## Support Vector Machines"
      ]
    },
    {
      "cell_type": "markdown",
      "metadata": {
        "id": "UWVF370F7zW6"
      },
      "source": [
        "Ajustamos un modelo de SVM lineal sobre nuestros datos `checkerboard`"
      ]
    },
    {
      "cell_type": "code",
      "metadata": {
        "colab": {
          "base_uri": "https://localhost:8080/"
        },
        "id": "pPjwDtcx6rTP",
        "outputId": "aa450704-aeb7-4443-a741-457895bb93f0"
      },
      "source": [
        "svm = sklearn.svm.SVC(\n",
        "    kernel=\"linear\" # utlizamos un kernel lineal\n",
        "    ) # Instanciamos nuestra svm lineal\n",
        "svm.fit(\n",
        "    checkerboard_features_train,\n",
        "    checkerboard_label_train\n",
        ") # Ajustamos el perceptrón con los datos de entrenamiento"
      ],
      "execution_count": 36,
      "outputs": [
        {
          "output_type": "execute_result",
          "data": {
            "text/plain": [
              "SVC(C=1.0, break_ties=False, cache_size=200, class_weight=None, coef0=0.0,\n",
              "    decision_function_shape='ovr', degree=3, gamma='scale', kernel='linear',\n",
              "    max_iter=-1, probability=False, random_state=None, shrinking=True,\n",
              "    tol=0.001, verbose=False)"
            ]
          },
          "metadata": {
            "tags": []
          },
          "execution_count": 36
        }
      ]
    },
    {
      "cell_type": "code",
      "metadata": {
        "colab": {
          "base_uri": "https://localhost:8080/"
        },
        "id": "rx_wIV6F5IMn",
        "outputId": "b00b3b89-ebe7-46b8-e78e-88e291041897"
      },
      "source": [
        "print(sklearn.metrics.classification_report(\n",
        "    checkerboard_label_test,\n",
        "    svm.predict(checkerboard_features_test)\n",
        "))"
      ],
      "execution_count": 29,
      "outputs": [
        {
          "output_type": "stream",
          "text": [
            "              precision    recall  f1-score   support\n",
            "\n",
            "           0       1.00      0.44      0.62        18\n",
            "           1       0.60      1.00      0.75        15\n",
            "\n",
            "    accuracy                           0.70        33\n",
            "   macro avg       0.80      0.72      0.68        33\n",
            "weighted avg       0.82      0.70      0.68        33\n",
            "\n"
          ],
          "name": "stdout"
        }
      ]
    },
    {
      "cell_type": "markdown",
      "metadata": {
        "id": "W5aXfA-M8Dkm"
      },
      "source": [
        "Utilizando una SVM lineal, el rendimiento es bajo, es similar a utilizar un único perceptrón."
      ]
    },
    {
      "cell_type": "code",
      "metadata": {
        "id": "l_UapDy37Jwr"
      },
      "source": [
        "# Funciones para mostrar los umbrales de SVM sobre nuestros datos\n",
        "\n",
        "def make_meshgrid(x, y, h=.02):\n",
        "    x_min, x_max = x.min() - 1, x.max() + 1\n",
        "    y_min, y_max = y.min() - 1, y.max() + 1\n",
        "    xx, yy = np.meshgrid(np.arange(x_min, x_max, h), np.arange(y_min, y_max, h))\n",
        "    return xx, yy\n",
        "\n",
        "def plot_contours(ax, clf, xx, yy, **params):\n",
        "    Z = clf.predict(np.c_[xx.ravel(), yy.ravel()])\n",
        "    Z = Z.reshape(xx.shape)\n",
        "    out = ax.contourf(xx, yy, Z, **params)\n",
        "    return out"
      ],
      "execution_count": 34,
      "outputs": []
    },
    {
      "cell_type": "markdown",
      "metadata": {
        "id": "lgLE42Yi8Q39"
      },
      "source": [
        "Visualizamos cómo se ve el umbral de clasificación del SVM lineal."
      ]
    },
    {
      "cell_type": "code",
      "metadata": {
        "colab": {
          "base_uri": "https://localhost:8080/",
          "height": 265
        },
        "id": "_f3p8uK37Nyd",
        "outputId": "43979cd9-7467-4686-a7f4-37150de606cf"
      },
      "source": [
        "fig, ax = plt.subplots()\n",
        "X0, X1 = checkerboard_features_test.x1, checkerboard_features_test.x2\n",
        "xx, yy = make_meshgrid(X0, X1)\n",
        "plot_contours(ax, svm, xx, yy, cmap=plt.cm.coolwarm, alpha=0.8)\n",
        "ax.scatter(X0, X1, c=checkerboard_label_test, cmap=plt.cm.coolwarm, s=20, edgecolors='k')\n",
        "plt.show()"
      ],
      "execution_count": 31,
      "outputs": [
        {
          "output_type": "display_data",
          "data": {
            "image/png": "[encoded data removed]",
            "text/plain": [
              "<Figure size 432x288 with 1 Axes>"
            ]
          },
          "metadata": {
            "tags": [],
            "needs_background": "light"
          }
        }
      ]
    },
    {
      "cell_type": "markdown",
      "metadata": {
        "id": "-Q7dSeCI8VJO"
      },
      "source": [
        "## Actividad 2\n",
        "\n",
        "Utilice un kernel no lineal para entrenar otro modelo de SVM, calcule las métricas de clasificación asociadas a este nuevo modelo y visualice los umbrales de clasificación."
      ]
    },
    {
      "cell_type": "code",
      "metadata": {
        "id": "efVqQdcs7Vkb"
      },
      "source": [
        "# Prográmame"
      ],
      "execution_count": 35,
      "outputs": []
    },
    {
      "cell_type": "markdown",
      "metadata": {
        "id": "leVaUBCy82Wd"
      },
      "source": [
        "# Actividad 3\n",
        "\n",
        "Típicamente para comparar modelos se utiliza la validación cruzada para poder disminuir el sesgo de selección de datos. Utilice la función `sklearn.model_selection.cross_val_score()` para obtener el rendimiento promedio (debe seleccionar la métrica a comparar) de MLP y SVM sobre el conjunto de datos `iris` y evalúe qué método se desempeña mejor."
      ]
    },
    {
      "cell_type": "code",
      "metadata": {
        "id": "atW8mgJW-BUI"
      },
      "source": [
        "iris = pd.read_csv(\"https://raw.githubusercontent.com/fvillena/mlfa/master/data/iris.csv\")"
      ],
      "execution_count": 45,
      "outputs": []
    },
    {
      "cell_type": "code",
      "metadata": {
        "colab": {
          "base_uri": "https://localhost:8080/",
          "height": 204
        },
        "id": "mEqGSDs_-LBo",
        "outputId": "2478c869-c369-483a-9e5e-d7b46b4464b7"
      },
      "source": [
        "iris.head()"
      ],
      "execution_count": 46,
      "outputs": [
        {
          "output_type": "execute_result",
          "data": {
            "text/html": [
              "<div>\n",
              "<style scoped>\n",
              "    .dataframe tbody tr th:only-of-type {\n",
              "        vertical-align: middle;\n",
              "    }\n",
              "\n",
              "    .dataframe tbody tr th {\n",
              "        vertical-align: top;\n",
              "    }\n",
              "\n",
              "    .dataframe thead th {\n",
              "        text-align: right;\n",
              "    }\n",
              "</style>\n",
              "<table border=\"1\" class=\"dataframe\">\n",
              "  <thead>\n",
              "    <tr style=\"text-align: right;\">\n",
              "      <th></th>\n",
              "      <th>sepal.length</th>\n",
              "      <th>sepal.width</th>\n",
              "      <th>petal.length</th>\n",
              "      <th>petal.width</th>\n",
              "      <th>variety</th>\n",
              "    </tr>\n",
              "  </thead>\n",
              "  <tbody>\n",
              "    <tr>\n",
              "      <th>0</th>\n",
              "      <td>5.1</td>\n",
              "      <td>3.5</td>\n",
              "      <td>1.4</td>\n",
              "      <td>0.2</td>\n",
              "      <td>Setosa</td>\n",
              "    </tr>\n",
              "    <tr>\n",
              "      <th>1</th>\n",
              "      <td>4.9</td>\n",
              "      <td>3.0</td>\n",
              "      <td>1.4</td>\n",
              "      <td>0.2</td>\n",
              "      <td>Setosa</td>\n",
              "    </tr>\n",
              "    <tr>\n",
              "      <th>2</th>\n",
              "      <td>4.7</td>\n",
              "      <td>3.2</td>\n",
              "      <td>1.3</td>\n",
              "      <td>0.2</td>\n",
              "      <td>Setosa</td>\n",
              "    </tr>\n",
              "    <tr>\n",
              "      <th>3</th>\n",
              "      <td>4.6</td>\n",
              "      <td>3.1</td>\n",
              "      <td>1.5</td>\n",
              "      <td>0.2</td>\n",
              "      <td>Setosa</td>\n",
              "    </tr>\n",
              "    <tr>\n",
              "      <th>4</th>\n",
              "      <td>5.0</td>\n",
              "      <td>3.6</td>\n",
              "      <td>1.4</td>\n",
              "      <td>0.2</td>\n",
              "      <td>Setosa</td>\n",
              "    </tr>\n",
              "  </tbody>\n",
              "</table>\n",
              "</div>"
            ],
            "text/plain": [
              "   sepal.length  sepal.width  petal.length  petal.width variety\n",
              "0           5.1          3.5           1.4          0.2  Setosa\n",
              "1           4.9          3.0           1.4          0.2  Setosa\n",
              "2           4.7          3.2           1.3          0.2  Setosa\n",
              "3           4.6          3.1           1.5          0.2  Setosa\n",
              "4           5.0          3.6           1.4          0.2  Setosa"
            ]
          },
          "metadata": {
            "tags": []
          },
          "execution_count": 46
        }
      ]
    },
    {
      "cell_type": "code",
      "metadata": {
        "id": "ex6PAYsu-PXm"
      },
      "source": [
        "iris_features = iris.iloc[:,:-1]\n",
        "iris_label = iris.variety"
      ],
      "execution_count": 47,
      "outputs": []
    },
    {
      "cell_type": "code",
      "metadata": {
        "id": "OaHno2EN7gJm"
      },
      "source": [
        "# Prográmame"
      ],
      "execution_count": 37,
      "outputs": []
    },
    {
      "cell_type": "code",
      "metadata": {
        "id": "wJXeN1Kk93Wx"
      },
      "source": [
        ""
      ],
      "execution_count": null,
      "outputs": []
    }
  ]
}