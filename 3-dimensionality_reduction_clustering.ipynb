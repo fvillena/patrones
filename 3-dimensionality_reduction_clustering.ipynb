{
  "nbformat": 4,
  "nbformat_minor": 0,
  "metadata": {
    "colab": {
      "name": "3-dimensionality-reduction-clustering",
      "provenance": [],
      "collapsed_sections": [],
      "authorship_tag": "ABX9TyNqQI2KxPzhXY4uNWDaTIPD",
      "include_colab_link": true
    },
    "kernelspec": {
      "name": "python3",
      "display_name": "Python 3"
    },
    "language_info": {
      "name": "python"
    }
  },
  "cells": [
    {
      "cell_type": "markdown",
      "metadata": {
        "id": "view-in-github",
        "colab_type": "text"
      },
      "source": [
        "<a href=\"https://colab.research.google.com/github/fvillena/patrones/blob/main/3-dimensionality_reduction_clustering.ipynb\" target=\"_parent\"><img src=\"https://colab.research.google.com/assets/colab-badge.svg\" alt=\"Open In Colab\"/></a>"
      ]
    },
    {
      "cell_type": "markdown",
      "metadata": {
        "id": "qQQq9mpCu8Ul"
      },
      "source": [
        "# t-distributed stochastic neighbor embedding"
      ]
    },
    {
      "cell_type": "markdown",
      "metadata": {
        "id": "zIqPdauxvCLV"
      },
      "source": [
        "Sklearn en la clase sklearn.manifold.TSNE implementa este método y la forma de utilización es exactamente igual al PCA."
      ]
    },
    {
      "cell_type": "code",
      "metadata": {
        "id": "wVc12gErukbk"
      },
      "source": [
        "import pandas as pd\n",
        "import matplotlib.pyplot as plt\n",
        "import sklearn.manifold # Módulo donde encontramos el método t-Distributed Stochastic Neighbor Embedding"
      ],
      "execution_count": 1,
      "outputs": []
    },
    {
      "cell_type": "code",
      "metadata": {
        "id": "4RJCnrusu3UX"
      },
      "source": [
        "mnist = pd.read_csv(\"https://raw.githubusercontent.com/fvillena/mlb/master/data/mnist.csv\")"
      ],
      "execution_count": 2,
      "outputs": []
    },
    {
      "cell_type": "markdown",
      "metadata": {
        "id": "1v7jMhdXvaYw"
      },
      "source": [
        "Ajustamos un ebmedding de 2 dimensiones para visualización."
      ]
    },
    {
      "cell_type": "code",
      "metadata": {
        "colab": {
          "base_uri": "https://localhost:8080/"
        },
        "id": "LjJPPKePvJeY",
        "outputId": "b14fecf8-3b10-40aa-bcac-b06463ff661b"
      },
      "source": [
        "tsne_mnist_2d = sklearn.manifold.TSNE(2, perplexity=30.0, random_state=11)\n",
        "mnist_2d_tsne=tsne_mnist_2d.fit_transform(mnist.iloc[:,:-1])\n",
        "mnist_2d_tsne.shape"
      ],
      "execution_count": 3,
      "outputs": [
        {
          "output_type": "execute_result",
          "data": {
            "text/plain": [
              "(1797, 2)"
            ]
          },
          "metadata": {
            "tags": []
          },
          "execution_count": 3
        }
      ]
    },
    {
      "cell_type": "markdown",
      "metadata": {
        "id": "Hyb9Yzmyvf8A"
      },
      "source": [
        "Este método agrupa de mucho mejor manera los números del conjunto de datos MNIST."
      ]
    },
    {
      "cell_type": "code",
      "metadata": {
        "colab": {
          "base_uri": "https://localhost:8080/",
          "height": 269
        },
        "id": "EwEE51EAvcRz",
        "outputId": "21228563-bf84-40e5-8fe0-f8eb63075706"
      },
      "source": [
        "plt.scatter(\n",
        "    mnist_2d_tsne[:,0],\n",
        "    mnist_2d_tsne[:,1],\n",
        "    c=mnist.label,\n",
        "    cmap='tab10'\n",
        ")\n",
        "plt.colorbar()\n",
        "plt.show()"
      ],
      "execution_count": 4,
      "outputs": [
        {
          "output_type": "display_data",
          "data": {
            "image/png": "[encoded data removed]",
            "text/plain": [
              "<Figure size 432x288 with 2 Axes>"
            ]
          },
          "metadata": {
            "tags": [],
            "needs_background": "light"
          }
        }
      ]
    },
    {
      "cell_type": "markdown",
      "metadata": {
        "id": "qS0t5HTU2S1M"
      },
      "source": [
        "## Actividad 1\n",
        "\n",
        "Modifique el hiperparámetro `perplexity` de TSNE y visualice cómo cambian los resultados."
      ]
    },
    {
      "cell_type": "code",
      "metadata": {
        "id": "DZ1FpDR-2Q2f"
      },
      "source": [
        "# Prográmame!"
      ],
      "execution_count": 5,
      "outputs": []
    },
    {
      "cell_type": "markdown",
      "metadata": {
        "id": "R5HE5vFt1pWQ"
      },
      "source": [
        "## Actividad 2\n",
        "\n",
        "Realice la transformación de los datos a 2 dimensiones utilizando PCA y compare los resultados. ¿Cuál de los dos métodos funciona mejor?"
      ]
    },
    {
      "cell_type": "code",
      "metadata": {
        "id": "eebPNSq51n_Z"
      },
      "source": [
        "# Prográmame!"
      ],
      "execution_count": 6,
      "outputs": []
    },
    {
      "cell_type": "markdown",
      "metadata": {
        "id": "FIJhgOOhvzej"
      },
      "source": [
        "# *Clustering*"
      ]
    },
    {
      "cell_type": "markdown",
      "metadata": {
        "id": "oAaYB4BGv7Fz"
      },
      "source": [
        "El clustering o agrupamiento es la tarea de agrupar una serie de objetos de una manera que objetos del mismo grupo (cluster) son más similares entre sí que con los de otros grupos. Su objetivo principal es en la fase exploratoria de los datos y se clasifica dentro de los métodos no supervisados de aprendizaje de máquinas.\n",
        "\n"
      ]
    },
    {
      "cell_type": "code",
      "metadata": {
        "id": "anXzmb7Rv4fM"
      },
      "source": [
        "import sklearn.cluster # Algoritmos de clustering"
      ],
      "execution_count": 7,
      "outputs": []
    },
    {
      "cell_type": "code",
      "metadata": {
        "id": "i1fcBlzIvqf9"
      },
      "source": [
        "blobs = pd.read_csv(\"https://raw.githubusercontent.com/fvillena/mlb/master/data/blobs.csv\") # Importamos un csv que contiene los datos a analizar."
      ],
      "execution_count": 8,
      "outputs": []
    },
    {
      "cell_type": "code",
      "metadata": {
        "colab": {
          "base_uri": "https://localhost:8080/",
          "height": 204
        },
        "id": "y50RKkuDwAK-",
        "outputId": "98d048a0-68f1-4655-e883-f19fef2ed146"
      },
      "source": [
        "blobs.head() # Verificamos qué podemos encontrar en el conjunto de datos."
      ],
      "execution_count": 9,
      "outputs": [
        {
          "output_type": "execute_result",
          "data": {
            "text/html": [
              "<div>\n",
              "<style scoped>\n",
              "    .dataframe tbody tr th:only-of-type {\n",
              "        vertical-align: middle;\n",
              "    }\n",
              "\n",
              "    .dataframe tbody tr th {\n",
              "        vertical-align: top;\n",
              "    }\n",
              "\n",
              "    .dataframe thead th {\n",
              "        text-align: right;\n",
              "    }\n",
              "</style>\n",
              "<table border=\"1\" class=\"dataframe\">\n",
              "  <thead>\n",
              "    <tr style=\"text-align: right;\">\n",
              "      <th></th>\n",
              "      <th>x</th>\n",
              "      <th>y</th>\n",
              "    </tr>\n",
              "  </thead>\n",
              "  <tbody>\n",
              "    <tr>\n",
              "      <th>0</th>\n",
              "      <td>-4.503286</td>\n",
              "      <td>-5.138264</td>\n",
              "    </tr>\n",
              "    <tr>\n",
              "      <th>1</th>\n",
              "      <td>-4.352311</td>\n",
              "      <td>-3.476970</td>\n",
              "    </tr>\n",
              "    <tr>\n",
              "      <th>2</th>\n",
              "      <td>-5.234153</td>\n",
              "      <td>-5.234137</td>\n",
              "    </tr>\n",
              "    <tr>\n",
              "      <th>3</th>\n",
              "      <td>-3.420787</td>\n",
              "      <td>-4.232565</td>\n",
              "    </tr>\n",
              "    <tr>\n",
              "      <th>4</th>\n",
              "      <td>-5.469474</td>\n",
              "      <td>-4.457440</td>\n",
              "    </tr>\n",
              "  </tbody>\n",
              "</table>\n",
              "</div>"
            ],
            "text/plain": [
              "          x         y\n",
              "0 -4.503286 -5.138264\n",
              "1 -4.352311 -3.476970\n",
              "2 -5.234153 -5.234137\n",
              "3 -3.420787 -4.232565\n",
              "4 -5.469474 -4.457440"
            ]
          },
          "metadata": {
            "tags": []
          },
          "execution_count": 9
        }
      ]
    },
    {
      "cell_type": "code",
      "metadata": {
        "colab": {
          "base_uri": "https://localhost:8080/",
          "height": 282
        },
        "id": "IwfjZ9ijwBou",
        "outputId": "69642c02-a4d6-4f6c-f3c1-72346da7c795"
      },
      "source": [
        "plt.scatter(blobs.x, blobs.y) # Exploramos la distribución que tienen nuestros datos"
      ],
      "execution_count": 10,
      "outputs": [
        {
          "output_type": "execute_result",
          "data": {
            "text/plain": [
              "<matplotlib.collections.PathCollection at 0x7fa014e5e150>"
            ]
          },
          "metadata": {
            "tags": []
          },
          "execution_count": 10
        },
        {
          "output_type": "display_data",
          "data": {
            "image/png": "[encoded data removed]",
            "text/plain": [
              "<Figure size 432x288 with 1 Axes>"
            ]
          },
          "metadata": {
            "tags": [],
            "needs_background": "light"
          }
        }
      ]
    },
    {
      "cell_type": "markdown",
      "metadata": {
        "id": "wVqYv0wywF3K"
      },
      "source": [
        "Intuitivamente podemos desprender que existe cierto agrupamiento de los datos. Uno de los algoritmos para realizar clustering es el k-means que se encuentra implementado en la clase `sklearn.cluster.KMeans`. Procederemos a realizar un agrupamiento utilizando este algoritmo."
      ]
    },
    {
      "cell_type": "code",
      "metadata": {
        "colab": {
          "base_uri": "https://localhost:8080/"
        },
        "id": "J47N07-dwD-a",
        "outputId": "2a35142f-83f4-45db-eac7-7a839bad25f7"
      },
      "source": [
        "km = sklearn.cluster.KMeans(n_clusters=2, random_state=11) # Instanciamos el algoritmo de k-means\n",
        "km.fit(blobs) # Ajustamos el modelo de k-means"
      ],
      "execution_count": 11,
      "outputs": [
        {
          "output_type": "execute_result",
          "data": {
            "text/plain": [
              "KMeans(algorithm='auto', copy_x=True, init='k-means++', max_iter=300,\n",
              "       n_clusters=2, n_init=10, n_jobs=None, precompute_distances='auto',\n",
              "       random_state=11, tol=0.0001, verbose=0)"
            ]
          },
          "metadata": {
            "tags": []
          },
          "execution_count": 11
        }
      ]
    },
    {
      "cell_type": "code",
      "metadata": {
        "colab": {
          "base_uri": "https://localhost:8080/"
        },
        "id": "Yuqqb7JSwNT5",
        "outputId": "59dae8de-ce78-47f8-cfe3-bbcc767c388b"
      },
      "source": [
        "km.labels_ # Grupos a los cuales asoció el modelo a cada una de las instancias del conjunto de datos"
      ],
      "execution_count": 12,
      "outputs": [
        {
          "output_type": "execute_result",
          "data": {
            "text/plain": [
              "array([1, 1, 1, ..., 0, 0, 0], dtype=int32)"
            ]
          },
          "metadata": {
            "tags": []
          },
          "execution_count": 12
        }
      ]
    },
    {
      "cell_type": "code",
      "metadata": {
        "colab": {
          "base_uri": "https://localhost:8080/",
          "height": 282
        },
        "id": "fJVD89yvwO3H",
        "outputId": "550bebd2-f155-4cd9-915f-3c04c426f0e7"
      },
      "source": [
        "plt.scatter(blobs.x, blobs.y, c = km.labels_) # Verificamos gráficamente el agrupamiento"
      ],
      "execution_count": 13,
      "outputs": [
        {
          "output_type": "execute_result",
          "data": {
            "text/plain": [
              "<matplotlib.collections.PathCollection at 0x7fa01420af10>"
            ]
          },
          "metadata": {
            "tags": []
          },
          "execution_count": 13
        },
        {
          "output_type": "display_data",
          "data": {
            "image/png": "[encoded data removed]",
            "text/plain": [
              "<Figure size 432x288 with 1 Axes>"
            ]
          },
          "metadata": {
            "tags": [],
            "needs_background": "light"
          }
        }
      ]
    },
    {
      "cell_type": "markdown",
      "metadata": {
        "id": "It0WdR05wgCs"
      },
      "source": [
        "¿Qué pasó, es correcto el número de grupos utilizado en el modelo?. ¿Cómo podemos evaluar de una manera más sistemática el correcto número de grupos?.\n",
        "\n",
        "Aquí puedes encontrar la documentación de la implementación de sklearn de k-means: https://scikit-learn.org/stable/modules/generated/sklearn.cluster.KMeans.html#sklearn.cluster.KMeans\n",
        "\n",
        "## Actividad 3\n",
        "\n",
        "Programa un ciclo para evaluar el mejor número de clusters y grafica los resultados. Recuerda el criterio que se mostro en clases para evaluar la calidad del clustering"
      ]
    },
    {
      "cell_type": "code",
      "metadata": {
        "id": "MWXBjPdIwQYd"
      },
      "source": [
        "# TODO: Programa un ciclo para evaluar el mejor número de clusters y grafica los resultados.\n",
        "\n",
        "for n_clusters in range(5):\n",
        "    pass"
      ],
      "execution_count": 14,
      "outputs": []
    },
    {
      "cell_type": "markdown",
      "metadata": {
        "id": "Af4sktdvxB4x"
      },
      "source": [
        "Importamos otro conjunto de datos y probamos el mismo algoritmo de agrupamiento que hicimos anteriormente."
      ]
    },
    {
      "cell_type": "code",
      "metadata": {
        "id": "VOQNlMeDwpch"
      },
      "source": [
        "moons = pd.read_csv(\"https://raw.githubusercontent.com/fvillena/mlb/master/data/twomoons.csv\")"
      ],
      "execution_count": 15,
      "outputs": []
    },
    {
      "cell_type": "code",
      "metadata": {
        "colab": {
          "base_uri": "https://localhost:8080/",
          "height": 204
        },
        "id": "1BImEnHKxEZ_",
        "outputId": "8412c96c-5b27-4780-c7b9-0d275c6497a2"
      },
      "source": [
        "moons.head()"
      ],
      "execution_count": 16,
      "outputs": [
        {
          "output_type": "execute_result",
          "data": {
            "text/html": [
              "<div>\n",
              "<style scoped>\n",
              "    .dataframe tbody tr th:only-of-type {\n",
              "        vertical-align: middle;\n",
              "    }\n",
              "\n",
              "    .dataframe tbody tr th {\n",
              "        vertical-align: top;\n",
              "    }\n",
              "\n",
              "    .dataframe thead th {\n",
              "        text-align: right;\n",
              "    }\n",
              "</style>\n",
              "<table border=\"1\" class=\"dataframe\">\n",
              "  <thead>\n",
              "    <tr style=\"text-align: right;\">\n",
              "      <th></th>\n",
              "      <th>x</th>\n",
              "      <th>y</th>\n",
              "    </tr>\n",
              "  </thead>\n",
              "  <tbody>\n",
              "    <tr>\n",
              "      <th>0</th>\n",
              "      <td>1.725508</td>\n",
              "      <td>-0.043207</td>\n",
              "    </tr>\n",
              "    <tr>\n",
              "      <th>1</th>\n",
              "      <td>-0.826517</td>\n",
              "      <td>0.559084</td>\n",
              "    </tr>\n",
              "    <tr>\n",
              "      <th>2</th>\n",
              "      <td>1.964777</td>\n",
              "      <td>0.217817</td>\n",
              "    </tr>\n",
              "    <tr>\n",
              "      <th>3</th>\n",
              "      <td>1.453529</td>\n",
              "      <td>-0.398344</td>\n",
              "    </tr>\n",
              "    <tr>\n",
              "      <th>4</th>\n",
              "      <td>0.030248</td>\n",
              "      <td>0.465012</td>\n",
              "    </tr>\n",
              "  </tbody>\n",
              "</table>\n",
              "</div>"
            ],
            "text/plain": [
              "          x         y\n",
              "0  1.725508 -0.043207\n",
              "1 -0.826517  0.559084\n",
              "2  1.964777  0.217817\n",
              "3  1.453529 -0.398344\n",
              "4  0.030248  0.465012"
            ]
          },
          "metadata": {
            "tags": []
          },
          "execution_count": 16
        }
      ]
    },
    {
      "cell_type": "code",
      "metadata": {
        "colab": {
          "base_uri": "https://localhost:8080/",
          "height": 282
        },
        "id": "xt36viOVxIly",
        "outputId": "90be3504-0912-43c0-9dd1-acc2f5ce36f1"
      },
      "source": [
        "plt.scatter(moons.x, moons.y)"
      ],
      "execution_count": 17,
      "outputs": [
        {
          "output_type": "execute_result",
          "data": {
            "text/plain": [
              "<matplotlib.collections.PathCollection at 0x7fa01423ab50>"
            ]
          },
          "metadata": {
            "tags": []
          },
          "execution_count": 17
        },
        {
          "output_type": "display_data",
          "data": {
            "image/png": "[encoded data removed]",
            "text/plain": [
              "<Figure size 432x288 with 1 Axes>"
            ]
          },
          "metadata": {
            "tags": [],
            "needs_background": "light"
          }
        }
      ]
    },
    {
      "cell_type": "code",
      "metadata": {
        "colab": {
          "base_uri": "https://localhost:8080/"
        },
        "id": "joR0nIZzxJ23",
        "outputId": "aa042d4d-0596-4176-92c7-2b822227b774"
      },
      "source": [
        "km = sklearn.cluster.KMeans(n_clusters=2, random_state=11)\n",
        "km.fit(moons)"
      ],
      "execution_count": 18,
      "outputs": [
        {
          "output_type": "execute_result",
          "data": {
            "text/plain": [
              "KMeans(algorithm='auto', copy_x=True, init='k-means++', max_iter=300,\n",
              "       n_clusters=2, n_init=10, n_jobs=None, precompute_distances='auto',\n",
              "       random_state=11, tol=0.0001, verbose=0)"
            ]
          },
          "metadata": {
            "tags": []
          },
          "execution_count": 18
        }
      ]
    },
    {
      "cell_type": "code",
      "metadata": {
        "colab": {
          "base_uri": "https://localhost:8080/"
        },
        "id": "AqChfTCExLWC",
        "outputId": "dc3ddbaf-a6a1-43a4-bf05-11fd4bc20fc2"
      },
      "source": [
        "km.labels_"
      ],
      "execution_count": 19,
      "outputs": [
        {
          "output_type": "execute_result",
          "data": {
            "text/plain": [
              "array([1, 0, 1, ..., 0, 1, 1], dtype=int32)"
            ]
          },
          "metadata": {
            "tags": []
          },
          "execution_count": 19
        }
      ]
    },
    {
      "cell_type": "code",
      "metadata": {
        "colab": {
          "base_uri": "https://localhost:8080/",
          "height": 282
        },
        "id": "CZ-jKifnxM4n",
        "outputId": "15819246-c665-4a90-b205-1fff0e12459c"
      },
      "source": [
        "plt.scatter(moons.x, moons.y, c = km.labels_)"
      ],
      "execution_count": 20,
      "outputs": [
        {
          "output_type": "execute_result",
          "data": {
            "text/plain": [
              "<matplotlib.collections.PathCollection at 0x7fa0153b5dd0>"
            ]
          },
          "metadata": {
            "tags": []
          },
          "execution_count": 20
        },
        {
          "output_type": "display_data",
          "data": {
            "image/png": "[encoded data removed]",
            "text/plain": [
              "<Figure size 432x288 with 1 Axes>"
            ]
          },
          "metadata": {
            "tags": [],
            "needs_background": "light"
          }
        }
      ]
    },
    {
      "cell_type": "markdown",
      "metadata": {
        "id": "FLMmppjpxYZv"
      },
      "source": [
        "## Actividad 4\n",
        "\n",
        "K-Means no funciona en este caso. Realiza un dendrograma de los datos y con este selecciona el número de clústers óptimo para el conjunto de datos.\n"
      ]
    },
    {
      "cell_type": "code",
      "metadata": {
        "id": "IKeJeYURxOFz"
      },
      "source": [
        "# HINT: import seaborn as sns; sns.clustermap()\n",
        "# Prográmame"
      ],
      "execution_count": 21,
      "outputs": []
    },
    {
      "cell_type": "markdown",
      "metadata": {
        "id": "Vw7OlATiyNqj"
      },
      "source": [
        "## Actividad 5 (opcional): Datos de microarreglo\n",
        "Implementa el algoritmo de agrupamiento más correcto para analizar los siguientes datos de microarreglo. Agrupa tanto por gen como por linea celular e interpreta los resultados."
      ]
    },
    {
      "cell_type": "code",
      "metadata": {
        "id": "OnXowOZaxiHs"
      },
      "source": [
        "microarray = pd.read_csv(\"https://raw.githubusercontent.com/fvillena/mlb/master/data/gene_expressions.tsv\", sep=\"\\t\", index_col=\"gene\")"
      ],
      "execution_count": 22,
      "outputs": []
    },
    {
      "cell_type": "code",
      "metadata": {
        "colab": {
          "base_uri": "https://localhost:8080/",
          "height": 272
        },
        "id": "QUUdbb7AyS9R",
        "outputId": "262f567b-06de-44b3-ddef-5c8cc994fb51"
      },
      "source": [
        "microarray.head()"
      ],
      "execution_count": 23,
      "outputs": [
        {
          "output_type": "execute_result",
          "data": {
            "text/html": [
              "<div>\n",
              "<style scoped>\n",
              "    .dataframe tbody tr th:only-of-type {\n",
              "        vertical-align: middle;\n",
              "    }\n",
              "\n",
              "    .dataframe tbody tr th {\n",
              "        vertical-align: top;\n",
              "    }\n",
              "\n",
              "    .dataframe thead th {\n",
              "        text-align: right;\n",
              "    }\n",
              "</style>\n",
              "<table border=\"1\" class=\"dataframe\">\n",
              "  <thead>\n",
              "    <tr style=\"text-align: right;\">\n",
              "      <th></th>\n",
              "      <th>786-0</th>\n",
              "      <th>A498</th>\n",
              "      <th>A549</th>\n",
              "      <th>ACHN</th>\n",
              "      <th>BT-549</th>\n",
              "      <th>CAKI-1</th>\n",
              "      <th>CCRF-CEM</th>\n",
              "      <th>COLO205</th>\n",
              "      <th>DU-145</th>\n",
              "      <th>EKVX</th>\n",
              "      <th>HCC-2998</th>\n",
              "      <th>HCT-116</th>\n",
              "      <th>HCT-15</th>\n",
              "      <th>HL-60</th>\n",
              "      <th>HOP-62</th>\n",
              "      <th>HOP-92</th>\n",
              "      <th>HS-578T</th>\n",
              "      <th>HT29</th>\n",
              "      <th>IGR-OV1</th>\n",
              "      <th>K-562</th>\n",
              "      <th>KM12</th>\n",
              "      <th>LOX-IMVI</th>\n",
              "      <th>M14</th>\n",
              "      <th>MALME-3M</th>\n",
              "      <th>MCF7</th>\n",
              "      <th>MDA-MB-231</th>\n",
              "      <th>MDA-MB-435</th>\n",
              "      <th>MDA-MB-468</th>\n",
              "      <th>MOLT-4</th>\n",
              "      <th>NCI-ADR-RES</th>\n",
              "      <th>NCI-H226</th>\n",
              "      <th>NCI-H23</th>\n",
              "      <th>NCI-H322M</th>\n",
              "      <th>NCI-H460</th>\n",
              "      <th>NCI-H522</th>\n",
              "      <th>OVCAR-3</th>\n",
              "      <th>OVCAR-4</th>\n",
              "      <th>OVCAR-5</th>\n",
              "      <th>OVCAR-8</th>\n",
              "      <th>PC-3</th>\n",
              "      <th>RPMI-8226</th>\n",
              "      <th>RXF-393</th>\n",
              "      <th>SF-268</th>\n",
              "      <th>SF-295</th>\n",
              "      <th>SF-539</th>\n",
              "      <th>SK-MEL-2</th>\n",
              "      <th>SK-MEL-28</th>\n",
              "      <th>SK-MEL-5</th>\n",
              "      <th>SK-OV-3</th>\n",
              "      <th>SN12C</th>\n",
              "      <th>SNB-19</th>\n",
              "      <th>SNB-75</th>\n",
              "      <th>SR</th>\n",
              "      <th>SW-620</th>\n",
              "      <th>T-47D</th>\n",
              "      <th>TK-10</th>\n",
              "      <th>U251</th>\n",
              "      <th>UACC-257</th>\n",
              "      <th>UACC-62</th>\n",
              "      <th>UO-31</th>\n",
              "    </tr>\n",
              "    <tr>\n",
              "      <th>gene</th>\n",
              "      <th></th>\n",
              "      <th></th>\n",
              "      <th></th>\n",
              "      <th></th>\n",
              "      <th></th>\n",
              "      <th></th>\n",
              "      <th></th>\n",
              "      <th></th>\n",
              "      <th></th>\n",
              "      <th></th>\n",
              "      <th></th>\n",
              "      <th></th>\n",
              "      <th></th>\n",
              "      <th></th>\n",
              "      <th></th>\n",
              "      <th></th>\n",
              "      <th></th>\n",
              "      <th></th>\n",
              "      <th></th>\n",
              "      <th></th>\n",
              "      <th></th>\n",
              "      <th></th>\n",
              "      <th></th>\n",
              "      <th></th>\n",
              "      <th></th>\n",
              "      <th></th>\n",
              "      <th></th>\n",
              "      <th></th>\n",
              "      <th></th>\n",
              "      <th></th>\n",
              "      <th></th>\n",
              "      <th></th>\n",
              "      <th></th>\n",
              "      <th></th>\n",
              "      <th></th>\n",
              "      <th></th>\n",
              "      <th></th>\n",
              "      <th></th>\n",
              "      <th></th>\n",
              "      <th></th>\n",
              "      <th></th>\n",
              "      <th></th>\n",
              "      <th></th>\n",
              "      <th></th>\n",
              "      <th></th>\n",
              "      <th></th>\n",
              "      <th></th>\n",
              "      <th></th>\n",
              "      <th></th>\n",
              "      <th></th>\n",
              "      <th></th>\n",
              "      <th></th>\n",
              "      <th></th>\n",
              "      <th></th>\n",
              "      <th></th>\n",
              "      <th></th>\n",
              "      <th></th>\n",
              "      <th></th>\n",
              "      <th></th>\n",
              "      <th></th>\n",
              "    </tr>\n",
              "  </thead>\n",
              "  <tbody>\n",
              "    <tr>\n",
              "      <th>A1BG</th>\n",
              "      <td>-1.025477</td>\n",
              "      <td>-0.925477</td>\n",
              "      <td>0.274523</td>\n",
              "      <td>-0.875477</td>\n",
              "      <td>2.484523</td>\n",
              "      <td>1.244523</td>\n",
              "      <td>1.914523</td>\n",
              "      <td>-1.025477</td>\n",
              "      <td>0.584523</td>\n",
              "      <td>0.094523</td>\n",
              "      <td>-0.795477</td>\n",
              "      <td>-0.915477</td>\n",
              "      <td>-0.955477</td>\n",
              "      <td>-0.625477</td>\n",
              "      <td>0.584523</td>\n",
              "      <td>1.394523</td>\n",
              "      <td>2.754523</td>\n",
              "      <td>-0.965477</td>\n",
              "      <td>0.604523</td>\n",
              "      <td>0.564523</td>\n",
              "      <td>-0.845477</td>\n",
              "      <td>-1.025477</td>\n",
              "      <td>0.684523</td>\n",
              "      <td>1.984523</td>\n",
              "      <td>1.594523</td>\n",
              "      <td>0.414523</td>\n",
              "      <td>1.154523</td>\n",
              "      <td>0.684523</td>\n",
              "      <td>1.644523</td>\n",
              "      <td>0.834523</td>\n",
              "      <td>0.124523</td>\n",
              "      <td>0.324523</td>\n",
              "      <td>1.414523</td>\n",
              "      <td>-0.005477</td>\n",
              "      <td>1.524523</td>\n",
              "      <td>0.914523</td>\n",
              "      <td>-0.035477</td>\n",
              "      <td>-1.015477</td>\n",
              "      <td>0.514523</td>\n",
              "      <td>-0.905477</td>\n",
              "      <td>-0.165477</td>\n",
              "      <td>1.014523</td>\n",
              "      <td>0.814523</td>\n",
              "      <td>1.424523</td>\n",
              "      <td>1.244523</td>\n",
              "      <td>1.554523</td>\n",
              "      <td>1.414523</td>\n",
              "      <td>1.114523</td>\n",
              "      <td>1.754523</td>\n",
              "      <td>2.074523</td>\n",
              "      <td>0.494523</td>\n",
              "      <td>-0.705477</td>\n",
              "      <td>0.914523</td>\n",
              "      <td>-0.885477</td>\n",
              "      <td>1.524523</td>\n",
              "      <td>-0.995477</td>\n",
              "      <td>0.314523</td>\n",
              "      <td>1.774523</td>\n",
              "      <td>2.104523</td>\n",
              "      <td>-0.665477</td>\n",
              "    </tr>\n",
              "    <tr>\n",
              "      <th>A2M</th>\n",
              "      <td>-1.409323</td>\n",
              "      <td>-1.409323</td>\n",
              "      <td>-1.409323</td>\n",
              "      <td>-1.409323</td>\n",
              "      <td>-1.409323</td>\n",
              "      <td>-1.399323</td>\n",
              "      <td>-1.299323</td>\n",
              "      <td>-1.409323</td>\n",
              "      <td>-1.399323</td>\n",
              "      <td>0.100677</td>\n",
              "      <td>-1.349323</td>\n",
              "      <td>-1.289323</td>\n",
              "      <td>-1.409323</td>\n",
              "      <td>-1.349323</td>\n",
              "      <td>-1.409323</td>\n",
              "      <td>-1.409323</td>\n",
              "      <td>-1.409323</td>\n",
              "      <td>-1.399323</td>\n",
              "      <td>-1.409323</td>\n",
              "      <td>-1.379323</td>\n",
              "      <td>-1.379323</td>\n",
              "      <td>-1.379323</td>\n",
              "      <td>2.260677</td>\n",
              "      <td>5.510677</td>\n",
              "      <td>-1.369323</td>\n",
              "      <td>-1.269323</td>\n",
              "      <td>-1.269323</td>\n",
              "      <td>2.380677</td>\n",
              "      <td>-1.399323</td>\n",
              "      <td>-1.399323</td>\n",
              "      <td>-0.379323</td>\n",
              "      <td>0.240677</td>\n",
              "      <td>-1.159323</td>\n",
              "      <td>-1.339323</td>\n",
              "      <td>-1.309323</td>\n",
              "      <td>-1.369323</td>\n",
              "      <td>-1.369323</td>\n",
              "      <td>-1.209323</td>\n",
              "      <td>-1.349323</td>\n",
              "      <td>-1.289323</td>\n",
              "      <td>-1.409323</td>\n",
              "      <td>-1.329323</td>\n",
              "      <td>-1.409323</td>\n",
              "      <td>-1.289323</td>\n",
              "      <td>0.250677</td>\n",
              "      <td>4.310677</td>\n",
              "      <td>6.570677</td>\n",
              "      <td>6.620677</td>\n",
              "      <td>-1.379323</td>\n",
              "      <td>-1.369323</td>\n",
              "      <td>-0.889323</td>\n",
              "      <td>-0.729323</td>\n",
              "      <td>-1.409323</td>\n",
              "      <td>-1.229323</td>\n",
              "      <td>-1.399323</td>\n",
              "      <td>-1.399323</td>\n",
              "      <td>-1.369323</td>\n",
              "      <td>5.630677</td>\n",
              "      <td>3.280677</td>\n",
              "      <td>-1.399323</td>\n",
              "    </tr>\n",
              "    <tr>\n",
              "      <th>A2ML1</th>\n",
              "      <td>-1.696062</td>\n",
              "      <td>-1.686062</td>\n",
              "      <td>-1.686062</td>\n",
              "      <td>-1.686062</td>\n",
              "      <td>-1.696062</td>\n",
              "      <td>-1.696062</td>\n",
              "      <td>-1.696062</td>\n",
              "      <td>-1.696062</td>\n",
              "      <td>-1.696062</td>\n",
              "      <td>-1.586062</td>\n",
              "      <td>-1.616062</td>\n",
              "      <td>-1.696062</td>\n",
              "      <td>-1.696062</td>\n",
              "      <td>-1.696062</td>\n",
              "      <td>-1.696062</td>\n",
              "      <td>-1.686062</td>\n",
              "      <td>-1.696062</td>\n",
              "      <td>-1.696062</td>\n",
              "      <td>-1.686062</td>\n",
              "      <td>-1.686062</td>\n",
              "      <td>1.733938</td>\n",
              "      <td>-1.626062</td>\n",
              "      <td>-1.686062</td>\n",
              "      <td>-1.616062</td>\n",
              "      <td>-1.696062</td>\n",
              "      <td>-1.696062</td>\n",
              "      <td>-1.636062</td>\n",
              "      <td>-1.296062</td>\n",
              "      <td>-1.696062</td>\n",
              "      <td>-1.696062</td>\n",
              "      <td>-1.696062</td>\n",
              "      <td>-1.686062</td>\n",
              "      <td>0.023938</td>\n",
              "      <td>-1.696062</td>\n",
              "      <td>-1.696062</td>\n",
              "      <td>-1.446062</td>\n",
              "      <td>-1.556062</td>\n",
              "      <td>-1.446062</td>\n",
              "      <td>-1.696062</td>\n",
              "      <td>-1.696062</td>\n",
              "      <td>-1.696062</td>\n",
              "      <td>-1.696062</td>\n",
              "      <td>-1.696062</td>\n",
              "      <td>-1.696062</td>\n",
              "      <td>-1.686062</td>\n",
              "      <td>-1.546062</td>\n",
              "      <td>-1.506062</td>\n",
              "      <td>-1.546062</td>\n",
              "      <td>-1.696062</td>\n",
              "      <td>-1.696062</td>\n",
              "      <td>-1.696062</td>\n",
              "      <td>-1.696062</td>\n",
              "      <td>-1.696062</td>\n",
              "      <td>-1.696062</td>\n",
              "      <td>-1.636062</td>\n",
              "      <td>-1.696062</td>\n",
              "      <td>-1.696062</td>\n",
              "      <td>-1.686062</td>\n",
              "      <td>-1.586062</td>\n",
              "      <td>-1.696062</td>\n",
              "    </tr>\n",
              "    <tr>\n",
              "      <th>A4GALT</th>\n",
              "      <td>1.978677</td>\n",
              "      <td>1.588677</td>\n",
              "      <td>0.908677</td>\n",
              "      <td>0.348677</td>\n",
              "      <td>1.098677</td>\n",
              "      <td>1.488677</td>\n",
              "      <td>-1.791323</td>\n",
              "      <td>-1.041323</td>\n",
              "      <td>-0.601323</td>\n",
              "      <td>1.498677</td>\n",
              "      <td>0.778677</td>\n",
              "      <td>0.968677</td>\n",
              "      <td>-1.591323</td>\n",
              "      <td>-2.241323</td>\n",
              "      <td>-0.081323</td>\n",
              "      <td>1.208677</td>\n",
              "      <td>-1.581323</td>\n",
              "      <td>0.278677</td>\n",
              "      <td>2.368677</td>\n",
              "      <td>-2.201323</td>\n",
              "      <td>-1.361323</td>\n",
              "      <td>-2.241323</td>\n",
              "      <td>-2.201323</td>\n",
              "      <td>0.258677</td>\n",
              "      <td>1.238677</td>\n",
              "      <td>1.508677</td>\n",
              "      <td>-2.241323</td>\n",
              "      <td>-0.241323</td>\n",
              "      <td>-2.241323</td>\n",
              "      <td>0.158677</td>\n",
              "      <td>-1.841323</td>\n",
              "      <td>0.498677</td>\n",
              "      <td>3.008677</td>\n",
              "      <td>0.238677</td>\n",
              "      <td>-0.561323</td>\n",
              "      <td>-0.721323</td>\n",
              "      <td>1.468677</td>\n",
              "      <td>0.168677</td>\n",
              "      <td>0.048677</td>\n",
              "      <td>-1.731323</td>\n",
              "      <td>-1.661323</td>\n",
              "      <td>2.668677</td>\n",
              "      <td>-1.131323</td>\n",
              "      <td>-1.081323</td>\n",
              "      <td>-0.511323</td>\n",
              "      <td>2.718677</td>\n",
              "      <td>0.778677</td>\n",
              "      <td>-2.241323</td>\n",
              "      <td>2.278677</td>\n",
              "      <td>-0.051323</td>\n",
              "      <td>0.008677</td>\n",
              "      <td>2.308677</td>\n",
              "      <td>-2.241323</td>\n",
              "      <td>-1.101323</td>\n",
              "      <td>0.668677</td>\n",
              "      <td>-0.181323</td>\n",
              "      <td>-0.131323</td>\n",
              "      <td>-2.241323</td>\n",
              "      <td>-1.581323</td>\n",
              "      <td>1.368677</td>\n",
              "    </tr>\n",
              "    <tr>\n",
              "      <th>AAAS</th>\n",
              "      <td>0.878385</td>\n",
              "      <td>0.178385</td>\n",
              "      <td>1.658385</td>\n",
              "      <td>-0.291615</td>\n",
              "      <td>-0.011615</td>\n",
              "      <td>0.568385</td>\n",
              "      <td>1.518385</td>\n",
              "      <td>0.148385</td>\n",
              "      <td>0.158385</td>\n",
              "      <td>1.038385</td>\n",
              "      <td>-0.441615</td>\n",
              "      <td>1.348385</td>\n",
              "      <td>-0.781615</td>\n",
              "      <td>0.858385</td>\n",
              "      <td>-0.401615</td>\n",
              "      <td>0.958385</td>\n",
              "      <td>-0.411615</td>\n",
              "      <td>-1.071615</td>\n",
              "      <td>0.308385</td>\n",
              "      <td>1.688385</td>\n",
              "      <td>-0.871615</td>\n",
              "      <td>0.488385</td>\n",
              "      <td>1.688385</td>\n",
              "      <td>1.118385</td>\n",
              "      <td>0.018385</td>\n",
              "      <td>-0.101615</td>\n",
              "      <td>0.858385</td>\n",
              "      <td>-0.711615</td>\n",
              "      <td>0.898385</td>\n",
              "      <td>1.168385</td>\n",
              "      <td>0.848385</td>\n",
              "      <td>1.088385</td>\n",
              "      <td>0.568385</td>\n",
              "      <td>0.818385</td>\n",
              "      <td>-0.241615</td>\n",
              "      <td>1.158385</td>\n",
              "      <td>0.848385</td>\n",
              "      <td>1.108385</td>\n",
              "      <td>1.118385</td>\n",
              "      <td>0.878385</td>\n",
              "      <td>1.328385</td>\n",
              "      <td>0.628385</td>\n",
              "      <td>1.018385</td>\n",
              "      <td>1.068385</td>\n",
              "      <td>0.178385</td>\n",
              "      <td>1.408385</td>\n",
              "      <td>0.868385</td>\n",
              "      <td>1.148385</td>\n",
              "      <td>1.488385</td>\n",
              "      <td>0.098385</td>\n",
              "      <td>-0.041615</td>\n",
              "      <td>0.638385</td>\n",
              "      <td>0.608385</td>\n",
              "      <td>1.968385</td>\n",
              "      <td>1.218385</td>\n",
              "      <td>0.098385</td>\n",
              "      <td>0.238385</td>\n",
              "      <td>0.778385</td>\n",
              "      <td>0.558385</td>\n",
              "      <td>0.508385</td>\n",
              "    </tr>\n",
              "  </tbody>\n",
              "</table>\n",
              "</div>"
            ],
            "text/plain": [
              "           786-0      A498      A549  ...  UACC-257   UACC-62     UO-31\n",
              "gene                                  ...                              \n",
              "A1BG   -1.025477 -0.925477  0.274523  ...  1.774523  2.104523 -0.665477\n",
              "A2M    -1.409323 -1.409323 -1.409323  ...  5.630677  3.280677 -1.399323\n",
              "A2ML1  -1.696062 -1.686062 -1.686062  ... -1.686062 -1.586062 -1.696062\n",
              "A4GALT  1.978677  1.588677  0.908677  ... -2.241323 -1.581323  1.368677\n",
              "AAAS    0.878385  0.178385  1.658385  ...  0.778385  0.558385  0.508385\n",
              "\n",
              "[5 rows x 60 columns]"
            ]
          },
          "metadata": {
            "tags": []
          },
          "execution_count": 23
        }
      ]
    },
    {
      "cell_type": "code",
      "metadata": {
        "id": "feKH1g_LyUOD"
      },
      "source": [
        "# TODO: Entrenamiento, ajuste y visualización de un modelo de clustering para microarreglo."
      ],
      "execution_count": 24,
      "outputs": []
    },
    {
      "cell_type": "code",
      "metadata": {
        "id": "l5CF6O3PyVyN"
      },
      "source": [
        ""
      ],
      "execution_count": 24,
      "outputs": []
    }
  ]
}