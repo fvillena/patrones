{
  "nbformat": 4,
  "nbformat_minor": 0,
  "metadata": {
    "accelerator": "GPU",
    "colab": {
      "name": "7.1_deep_learning_image_segmentation.ipynb",
      "provenance": [],
      "collapsed_sections": [],
      "toc_visible": true,
      "include_colab_link": true
    },
    "kernelspec": {
      "display_name": "Python 3",
      "name": "python3"
    }
  },
  "cells": [
    {
      "cell_type": "markdown",
      "metadata": {
        "id": "view-in-github",
        "colab_type": "text"
      },
      "source": [
        "<a href=\"https://colab.research.google.com/github/fvillena/patrones/blob/main/7.1-deep_learning_image_segmentation.ipynb\" target=\"_parent\"><img src=\"https://colab.research.google.com/assets/colab-badge.svg\" alt=\"Open In Colab\"/></a>"
      ]
    },
    {
      "cell_type": "markdown",
      "metadata": {
        "id": "yiASA_4V1J4U"
      },
      "source": [
        "# Deep Learning: Segmentación de imágenes"
      ]
    },
    {
      "cell_type": "markdown",
      "metadata": {
        "id": "RG-iwf6c1gYy"
      },
      "source": [
        "Deep learning es un tipo de aprendizaje de máquinas en donde las predicciones se realizan a través de una serie de operaciones matriciales concatenadas. Uno de los elementos más importantes en el Deep Learning es la casi nula ingeniería de características. En el ejemplo que veremos ahora, se utiliza un conjunto de imágenes segmentadas para realizar el entrenamiento de un modelo de segmentación automática de núcleos celulares, este entrenamiento simplemente se realiza con los pixeles crudos de las imágenes, sin ingeniería de características."
      ]
    },
    {
      "cell_type": "markdown",
      "metadata": {
        "id": "JIqxCX-i48Gh"
      },
      "source": [
        "Para este notebook se están utilizando los datos y códigos de la competencia 2018 Data Science Bowl https://www.kaggle.com/c/data-science-bowl-2018"
      ]
    },
    {
      "cell_type": "markdown",
      "metadata": {
        "id": "s0VsQ1qz3lnb"
      },
      "source": [
        "**Importante**: Este notebook fue programado para sólo funcionar en Google Colab https://colab.research.google.com/"
      ]
    },
    {
      "cell_type": "code",
      "metadata": {
        "id": "nerxNeX5d0Lf"
      },
      "source": [
        "# Importamos todos los paquetes y módulos para entrenar el modelo\n",
        "\n",
        "import os\n",
        "import sys\n",
        "import random\n",
        "import warnings\n",
        "\n",
        "import numpy as np\n",
        "import pandas as pd\n",
        "\n",
        "import matplotlib.pyplot as plt\n",
        "\n",
        "from tqdm import tqdm\n",
        "from itertools import chain\n",
        "from skimage.io import imread, imshow, imread_collection, concatenate_images\n",
        "from skimage.transform import resize\n",
        "from skimage.morphology import label\n",
        "\n",
        "from keras.models import Model, load_model\n",
        "from keras.layers import Input\n",
        "from keras.layers.core import Dropout, Lambda\n",
        "from keras.layers.convolutional import Conv2D, Conv2DTranspose\n",
        "from keras.layers.pooling import MaxPooling2D\n",
        "from keras.layers.merge import concatenate\n",
        "from keras.callbacks import EarlyStopping, ModelCheckpoint\n",
        "from keras import backend as K\n",
        "\n",
        "import tensorflow as tf"
      ],
      "execution_count": 2,
      "outputs": []
    },
    {
      "cell_type": "markdown",
      "metadata": {
        "id": "jJnE3nh62tty"
      },
      "source": [
        "Google Colab nos ofrece poder utilizar GPUs (Graphical Processing Units) para realizar el entrenamiento. La utilización de este hardware nos facilita un entrenamiento muy significativamente más rápido que el entrenamiento en CPU."
      ]
    },
    {
      "cell_type": "code",
      "metadata": {
        "colab": {
          "base_uri": "https://localhost:8080/",
          "height": 35
        },
        "id": "RswQatJ0v_O5",
        "outputId": "6f62fc71-69b0-4b34-de15-9f422fd74498"
      },
      "source": [
        "tf.test.gpu_device_name() # Verificamos que Tensorflow está utilizando una GPU"
      ],
      "execution_count": 3,
      "outputs": [
        {
          "output_type": "execute_result",
          "data": {
            "application/vnd.google.colaboratory.intrinsic+json": {
              "type": "string"
            },
            "text/plain": [
              "'/device:GPU:0'"
            ]
          },
          "metadata": {
            "tags": []
          },
          "execution_count": 3
        }
      ]
    },
    {
      "cell_type": "code",
      "metadata": {
        "colab": {
          "base_uri": "https://localhost:8080/"
        },
        "id": "ggzOdAE4syUV",
        "outputId": "18165063-4af3-4ec5-e56e-8c468c3669c5"
      },
      "source": [
        "# Obtenemos el conjunto de datos de entrenamiento y prueba desde el servidor de SASIBA.\n",
        "!wget --no-check-certificate \"http://www.sasiba.uchile.cl/index.php/s/JGh8wjMx6ZfY5pV/download\" -O stage1_train.zip\n",
        "!wget --no-check-certificate \"http://www.sasiba.uchile.cl/index.php/s/pc9rJ4bJsCY2ZIG/download\" -O stage1_test.zip"
      ],
      "execution_count": 4,
      "outputs": [
        {
          "output_type": "stream",
          "text": [
            "--2021-05-10 02:34:28--  http://www.sasiba.uchile.cl/index.php/s/JGh8wjMx6ZfY5pV/download\n",
            "Resolving www.sasiba.uchile.cl (www.sasiba.uchile.cl)... 200.89.79.35\n",
            "Connecting to www.sasiba.uchile.cl (www.sasiba.uchile.cl)|200.89.79.35|:80... connected.\n",
            "HTTP request sent, awaiting response... 302 Found\n",
            "Location: https://www.sasiba.uchile.cl/index.php/s/JGh8wjMx6ZfY5pV/download [following]\n",
            "--2021-05-10 02:34:28--  https://www.sasiba.uchile.cl/index.php/s/JGh8wjMx6ZfY5pV/download\n",
            "Connecting to www.sasiba.uchile.cl (www.sasiba.uchile.cl)|200.89.79.35|:443... connected.\n",
            "WARNING: cannot verify www.sasiba.uchile.cl's certificate, issued by ‘CN=Go Daddy Secure Certificate Authority - G2,OU=http://certs.godaddy.com/repository/,O=GoDaddy.com\\\\, Inc.,L=Scottsdale,ST=Arizona,C=US’:\n",
            "  Unable to locally verify the issuer's authority.\n",
            "HTTP request sent, awaiting response... 200 OK\n",
            "Length: 82923446 (79M) [application/zip]\n",
            "Saving to: ‘stage1_train.zip’\n",
            "\n",
            "stage1_train.zip    100%[===================>]  79.08M  21.6MB/s    in 4.4s    \n",
            "\n",
            "2021-05-10 02:34:33 (18.0 MB/s) - ‘stage1_train.zip’ saved [82923446/82923446]\n",
            "\n",
            "--2021-05-10 02:34:34--  http://www.sasiba.uchile.cl/index.php/s/pc9rJ4bJsCY2ZIG/download\n",
            "Resolving www.sasiba.uchile.cl (www.sasiba.uchile.cl)... 200.89.79.35\n",
            "Connecting to www.sasiba.uchile.cl (www.sasiba.uchile.cl)|200.89.79.35|:80... connected.\n",
            "HTTP request sent, awaiting response... 302 Found\n",
            "Location: https://www.sasiba.uchile.cl/index.php/s/pc9rJ4bJsCY2ZIG/download [following]\n",
            "--2021-05-10 02:34:34--  https://www.sasiba.uchile.cl/index.php/s/pc9rJ4bJsCY2ZIG/download\n",
            "Connecting to www.sasiba.uchile.cl (www.sasiba.uchile.cl)|200.89.79.35|:443... connected.\n",
            "WARNING: cannot verify www.sasiba.uchile.cl's certificate, issued by ‘CN=Go Daddy Secure Certificate Authority - G2,OU=http://certs.godaddy.com/repository/,O=GoDaddy.com\\\\, Inc.,L=Scottsdale,ST=Arizona,C=US’:\n",
            "  Unable to locally verify the issuer's authority.\n",
            "HTTP request sent, awaiting response... 200 OK\n",
            "Length: 9545388 (9.1M) [application/zip]\n",
            "Saving to: ‘stage1_test.zip’\n",
            "\n",
            "stage1_test.zip     100%[===================>]   9.10M  6.99MB/s    in 1.3s    \n",
            "\n",
            "2021-05-10 02:34:36 (6.99 MB/s) - ‘stage1_test.zip’ saved [9545388/9545388]\n",
            "\n"
          ],
          "name": "stdout"
        }
      ]
    },
    {
      "cell_type": "code",
      "metadata": {
        "id": "Bjp4R6fad-3C"
      },
      "source": [
        "# Descomprimimos los conjuntos de datos.\n",
        "!unzip -q stage1_train.zip -d stage1_train/\n",
        "!unzip -q stage1_test.zip -d stage1_test/"
      ],
      "execution_count": 5,
      "outputs": []
    },
    {
      "cell_type": "code",
      "metadata": {
        "id": "oD085dZud6YA"
      },
      "source": [
        "IMG_WIDTH = 128 # Ancho en el que se redimensionarán las imágenes.\n",
        "IMG_HEIGHT = 128 # Alto en el que se redimensionarán las imágenes.\n",
        "IMG_CHANNELS = 3 # Canales de color que tienen las imágenes (rojo, verde y azul)\n",
        "TRAIN_PATH = 'stage1_train/' # Ubicación del conjunto de datos de entrenamiento.\n",
        "TEST_PATH = 'stage1_test/' # Ubicación del conjunto de datos de prueba.\n",
        "\n",
        "warnings.filterwarnings('ignore', category=UserWarning, module='skimage')\n",
        "\n",
        "# Establecemos una semilla para la generación de datos aleatorios\n",
        "seed = 11 \n",
        "random.seed = seed\n",
        "np.random.seed = seed"
      ],
      "execution_count": 6,
      "outputs": []
    },
    {
      "cell_type": "code",
      "metadata": {
        "id": "G5PEbob_ig8v"
      },
      "source": [
        "# Obtenemos los nombres de las imágenes de entrenamiento y prueba\n",
        "train_ids = next(os.walk(TRAIN_PATH))[1]\n",
        "test_ids = next(os.walk(TEST_PATH))[1]"
      ],
      "execution_count": 7,
      "outputs": []
    },
    {
      "cell_type": "code",
      "metadata": {
        "colab": {
          "base_uri": "https://localhost:8080/"
        },
        "id": "NtAMQVxBiPHQ",
        "outputId": "41b1df70-181a-4fe8-dd33-10fc436978ae"
      },
      "source": [
        "# Redimensionamos todas las imágenes\n",
        "X_train = np.zeros((len(train_ids), IMG_HEIGHT, IMG_WIDTH, IMG_CHANNELS), dtype=np.uint8)\n",
        "Y_train = np.zeros((len(train_ids), IMG_HEIGHT, IMG_WIDTH, 1), dtype=np.bool)\n",
        "print('Getting and resizing train images and masks ... ')\n",
        "sys.stdout.flush()\n",
        "for n, id_ in tqdm(enumerate(train_ids), total=len(train_ids)):\n",
        "    path = TRAIN_PATH + id_\n",
        "    img = imread(path + '/images/' + id_ + '.png')[:,:,:IMG_CHANNELS]\n",
        "    img = resize(img, (IMG_HEIGHT, IMG_WIDTH), mode='constant', preserve_range=True)\n",
        "    X_train[n] = img\n",
        "    mask = np.zeros((IMG_HEIGHT, IMG_WIDTH, 1), dtype=np.bool)\n",
        "    for mask_file in next(os.walk(path + '/masks/'))[2]:\n",
        "        mask_ = imread(path + '/masks/' + mask_file)\n",
        "        mask_ = np.expand_dims(resize(mask_, (IMG_HEIGHT, IMG_WIDTH), mode='constant', \n",
        "                                      preserve_range=True), axis=-1)\n",
        "        mask = np.maximum(mask, mask_)\n",
        "    Y_train[n] = mask\n",
        "\n",
        "# Get and resize test images\n",
        "X_test = np.zeros((len(test_ids), IMG_HEIGHT, IMG_WIDTH, IMG_CHANNELS), dtype=np.uint8)\n",
        "sizes_test = []\n",
        "print('Getting and resizing test images ... ')\n",
        "sys.stdout.flush()\n",
        "for n, id_ in tqdm(enumerate(test_ids), total=len(test_ids)):\n",
        "    path = TEST_PATH + id_\n",
        "    img = imread(path + '/images/' + id_ + '.png')[:,:,:IMG_CHANNELS]\n",
        "    sizes_test.append([img.shape[0], img.shape[1]])\n",
        "    img = resize(img, (IMG_HEIGHT, IMG_WIDTH), mode='constant', preserve_range=True)\n",
        "    X_test[n] = img\n",
        "\n",
        "print('Done!')"
      ],
      "execution_count": 8,
      "outputs": [
        {
          "output_type": "stream",
          "text": [
            "Getting and resizing train images and masks ... \n"
          ],
          "name": "stdout"
        },
        {
          "output_type": "stream",
          "text": [
            "100%|██████████| 670/670 [06:03<00:00,  1.84it/s]"
          ],
          "name": "stderr"
        },
        {
          "output_type": "stream",
          "text": [
            "Getting and resizing test images ... \n"
          ],
          "name": "stdout"
        },
        {
          "output_type": "stream",
          "text": [
            "\n",
            "100%|██████████| 65/65 [00:01<00:00, 36.36it/s]"
          ],
          "name": "stderr"
        },
        {
          "output_type": "stream",
          "text": [
            "Done!\n"
          ],
          "name": "stdout"
        },
        {
          "output_type": "stream",
          "text": [
            "\n"
          ],
          "name": "stderr"
        }
      ]
    },
    {
      "cell_type": "code",
      "metadata": {
        "colab": {
          "base_uri": "https://localhost:8080/",
          "height": 577
        },
        "id": "FVGsSfbxicoB",
        "outputId": "338cae6d-9b09-422d-a14b-d7d45c7a1054"
      },
      "source": [
        "# Verificamos la imagen cruda y la máscara de segmentación de una imagen al azar.\n",
        "ix = random.randint(0, len(train_ids))\n",
        "imshow(X_train[ix])\n",
        "plt.show()\n",
        "imshow(np.squeeze(Y_train[ix]))\n",
        "plt.show()"
      ],
      "execution_count": 9,
      "outputs": [
        {
          "output_type": "display_data",
          "data": {
            "image/png": "[encoded data removed]",
            "text/plain": [
              "<Figure size 432x288 with 1 Axes>"
            ]
          },
          "metadata": {
            "tags": [],
            "needs_background": "light"
          }
        },
        {
          "output_type": "display_data",
          "data": {
            "image/png": "[encoded data removed]",
            "text/plain": [
              "<Figure size 432x288 with 1 Axes>"
            ]
          },
          "metadata": {
            "tags": [],
            "needs_background": "light"
          }
        }
      ]
    },
    {
      "cell_type": "markdown",
      "metadata": {
        "id": "TFB869J15Nys"
      },
      "source": [
        "U-Net es una arquitectura especializada para la segmentación de imágenes biomédicas https://lmb.informatik.uni-freiburg.de/people/ronneber/u-net/ .\n",
        "\n",
        "Esta arquitectura utiliza una serie de capas de convolución para realizar las predicciones y el esquema es el siguiente:\n",
        "\n",
        "![U-Net Architecture](https://lmb.informatik.uni-freiburg.de/people/ronneber/u-net/u-net-architecture.png)"
      ]
    },
    {
      "cell_type": "code",
      "metadata": {
        "colab": {
          "base_uri": "https://localhost:8080/"
        },
        "id": "U224JYLMoJhS",
        "outputId": "0572980c-e521-40ee-9422-b7a3178cdc8c"
      },
      "source": [
        "# Esta es la implementación en TensorFlow de U-Net\n",
        "\n",
        "inputs = Input((IMG_HEIGHT, IMG_WIDTH, IMG_CHANNELS))\n",
        "s = Lambda(lambda x: x / 255) (inputs)\n",
        "\n",
        "c1 = Conv2D(16, (3, 3), activation='elu', kernel_initializer='he_normal', padding='same') (s) # Capa convolucional\n",
        "c1 = Dropout(0.1) (c1)\n",
        "c1 = Conv2D(16, (3, 3), activation='elu', kernel_initializer='he_normal', padding='same') (c1)\n",
        "p1 = MaxPooling2D((2, 2)) (c1)\n",
        "\n",
        "c2 = Conv2D(32, (3, 3), activation='elu', kernel_initializer='he_normal', padding='same') (p1)\n",
        "c2 = Dropout(0.1) (c2)\n",
        "c2 = Conv2D(32, (3, 3), activation='elu', kernel_initializer='he_normal', padding='same') (c2)\n",
        "p2 = MaxPooling2D((2, 2)) (c2)\n",
        "\n",
        "c3 = Conv2D(64, (3, 3), activation='elu', kernel_initializer='he_normal', padding='same') (p2)\n",
        "c3 = Dropout(0.2) (c3)\n",
        "c3 = Conv2D(64, (3, 3), activation='elu', kernel_initializer='he_normal', padding='same') (c3)\n",
        "p3 = MaxPooling2D((2, 2)) (c3)\n",
        "\n",
        "c4 = Conv2D(128, (3, 3), activation='elu', kernel_initializer='he_normal', padding='same') (p3)\n",
        "c4 = Dropout(0.2) (c4)\n",
        "c4 = Conv2D(128, (3, 3), activation='elu', kernel_initializer='he_normal', padding='same') (c4)\n",
        "p4 = MaxPooling2D(pool_size=(2, 2)) (c4)\n",
        "\n",
        "c5 = Conv2D(256, (3, 3), activation='elu', kernel_initializer='he_normal', padding='same') (p4)\n",
        "c5 = Dropout(0.3) (c5)\n",
        "c5 = Conv2D(256, (3, 3), activation='elu', kernel_initializer='he_normal', padding='same') (c5)\n",
        "\n",
        "u6 = Conv2DTranspose(128, (2, 2), strides=(2, 2), padding='same') (c5)\n",
        "u6 = concatenate([u6, c4])\n",
        "c6 = Conv2D(128, (3, 3), activation='elu', kernel_initializer='he_normal', padding='same') (u6)\n",
        "c6 = Dropout(0.2) (c6)\n",
        "c6 = Conv2D(128, (3, 3), activation='elu', kernel_initializer='he_normal', padding='same') (c6)\n",
        "\n",
        "u7 = Conv2DTranspose(64, (2, 2), strides=(2, 2), padding='same') (c6)\n",
        "u7 = concatenate([u7, c3])\n",
        "c7 = Conv2D(64, (3, 3), activation='elu', kernel_initializer='he_normal', padding='same') (u7)\n",
        "c7 = Dropout(0.2) (c7)\n",
        "c7 = Conv2D(64, (3, 3), activation='elu', kernel_initializer='he_normal', padding='same') (c7)\n",
        "\n",
        "u8 = Conv2DTranspose(32, (2, 2), strides=(2, 2), padding='same') (c7)\n",
        "u8 = concatenate([u8, c2])\n",
        "c8 = Conv2D(32, (3, 3), activation='elu', kernel_initializer='he_normal', padding='same') (u8)\n",
        "c8 = Dropout(0.1) (c8)\n",
        "c8 = Conv2D(32, (3, 3), activation='elu', kernel_initializer='he_normal', padding='same') (c8)\n",
        "\n",
        "u9 = Conv2DTranspose(16, (2, 2), strides=(2, 2), padding='same') (c8)\n",
        "u9 = concatenate([u9, c1], axis=3)\n",
        "c9 = Conv2D(16, (3, 3), activation='elu', kernel_initializer='he_normal', padding='same') (u9)\n",
        "c9 = Dropout(0.1) (c9)\n",
        "c9 = Conv2D(16, (3, 3), activation='elu', kernel_initializer='he_normal', padding='same') (c9)\n",
        "\n",
        "outputs = Conv2D(1, (1, 1), activation='sigmoid') (c9)\n",
        "\n",
        "model = Model(inputs=[inputs], outputs=[outputs])\n",
        "\n",
        "model.compile(optimizer='adam', loss='binary_crossentropy', metrics=[tf.keras.metrics.MeanIoU(2)])\n",
        "model.summary()"
      ],
      "execution_count": 10,
      "outputs": [
        {
          "output_type": "stream",
          "text": [
            "Model: \"model\"\n",
            "__________________________________________________________________________________________________\n",
            "Layer (type)                    Output Shape         Param #     Connected to                     \n",
            "==================================================================================================\n",
            "input_1 (InputLayer)            [(None, 128, 128, 3) 0                                            \n",
            "__________________________________________________________________________________________________\n",
            "lambda (Lambda)                 (None, 128, 128, 3)  0           input_1[0][0]                    \n",
            "__________________________________________________________________________________________________\n",
            "conv2d (Conv2D)                 (None, 128, 128, 16) 448         lambda[0][0]                     \n",
            "__________________________________________________________________________________________________\n",
            "dropout (Dropout)               (None, 128, 128, 16) 0           conv2d[0][0]                     \n",
            "__________________________________________________________________________________________________\n",
            "conv2d_1 (Conv2D)               (None, 128, 128, 16) 2320        dropout[0][0]                    \n",
            "__________________________________________________________________________________________________\n",
            "max_pooling2d (MaxPooling2D)    (None, 64, 64, 16)   0           conv2d_1[0][0]                   \n",
            "__________________________________________________________________________________________________\n",
            "conv2d_2 (Conv2D)               (None, 64, 64, 32)   4640        max_pooling2d[0][0]              \n",
            "__________________________________________________________________________________________________\n",
            "dropout_1 (Dropout)             (None, 64, 64, 32)   0           conv2d_2[0][0]                   \n",
            "__________________________________________________________________________________________________\n",
            "conv2d_3 (Conv2D)               (None, 64, 64, 32)   9248        dropout_1[0][0]                  \n",
            "__________________________________________________________________________________________________\n",
            "max_pooling2d_1 (MaxPooling2D)  (None, 32, 32, 32)   0           conv2d_3[0][0]                   \n",
            "__________________________________________________________________________________________________\n",
            "conv2d_4 (Conv2D)               (None, 32, 32, 64)   18496       max_pooling2d_1[0][0]            \n",
            "__________________________________________________________________________________________________\n",
            "dropout_2 (Dropout)             (None, 32, 32, 64)   0           conv2d_4[0][0]                   \n",
            "__________________________________________________________________________________________________\n",
            "conv2d_5 (Conv2D)               (None, 32, 32, 64)   36928       dropout_2[0][0]                  \n",
            "__________________________________________________________________________________________________\n",
            "max_pooling2d_2 (MaxPooling2D)  (None, 16, 16, 64)   0           conv2d_5[0][0]                   \n",
            "__________________________________________________________________________________________________\n",
            "conv2d_6 (Conv2D)               (None, 16, 16, 128)  73856       max_pooling2d_2[0][0]            \n",
            "__________________________________________________________________________________________________\n",
            "dropout_3 (Dropout)             (None, 16, 16, 128)  0           conv2d_6[0][0]                   \n",
            "__________________________________________________________________________________________________\n",
            "conv2d_7 (Conv2D)               (None, 16, 16, 128)  147584      dropout_3[0][0]                  \n",
            "__________________________________________________________________________________________________\n",
            "max_pooling2d_3 (MaxPooling2D)  (None, 8, 8, 128)    0           conv2d_7[0][0]                   \n",
            "__________________________________________________________________________________________________\n",
            "conv2d_8 (Conv2D)               (None, 8, 8, 256)    295168      max_pooling2d_3[0][0]            \n",
            "__________________________________________________________________________________________________\n",
            "dropout_4 (Dropout)             (None, 8, 8, 256)    0           conv2d_8[0][0]                   \n",
            "__________________________________________________________________________________________________\n",
            "conv2d_9 (Conv2D)               (None, 8, 8, 256)    590080      dropout_4[0][0]                  \n",
            "__________________________________________________________________________________________________\n",
            "conv2d_transpose (Conv2DTranspo (None, 16, 16, 128)  131200      conv2d_9[0][0]                   \n",
            "__________________________________________________________________________________________________\n",
            "concatenate (Concatenate)       (None, 16, 16, 256)  0           conv2d_transpose[0][0]           \n",
            "                                                                 conv2d_7[0][0]                   \n",
            "__________________________________________________________________________________________________\n",
            "conv2d_10 (Conv2D)              (None, 16, 16, 128)  295040      concatenate[0][0]                \n",
            "__________________________________________________________________________________________________\n",
            "dropout_5 (Dropout)             (None, 16, 16, 128)  0           conv2d_10[0][0]                  \n",
            "__________________________________________________________________________________________________\n",
            "conv2d_11 (Conv2D)              (None, 16, 16, 128)  147584      dropout_5[0][0]                  \n",
            "__________________________________________________________________________________________________\n",
            "conv2d_transpose_1 (Conv2DTrans (None, 32, 32, 64)   32832       conv2d_11[0][0]                  \n",
            "__________________________________________________________________________________________________\n",
            "concatenate_1 (Concatenate)     (None, 32, 32, 128)  0           conv2d_transpose_1[0][0]         \n",
            "                                                                 conv2d_5[0][0]                   \n",
            "__________________________________________________________________________________________________\n",
            "conv2d_12 (Conv2D)              (None, 32, 32, 64)   73792       concatenate_1[0][0]              \n",
            "__________________________________________________________________________________________________\n",
            "dropout_6 (Dropout)             (None, 32, 32, 64)   0           conv2d_12[0][0]                  \n",
            "__________________________________________________________________________________________________\n",
            "conv2d_13 (Conv2D)              (None, 32, 32, 64)   36928       dropout_6[0][0]                  \n",
            "__________________________________________________________________________________________________\n",
            "conv2d_transpose_2 (Conv2DTrans (None, 64, 64, 32)   8224        conv2d_13[0][0]                  \n",
            "__________________________________________________________________________________________________\n",
            "concatenate_2 (Concatenate)     (None, 64, 64, 64)   0           conv2d_transpose_2[0][0]         \n",
            "                                                                 conv2d_3[0][0]                   \n",
            "__________________________________________________________________________________________________\n",
            "conv2d_14 (Conv2D)              (None, 64, 64, 32)   18464       concatenate_2[0][0]              \n",
            "__________________________________________________________________________________________________\n",
            "dropout_7 (Dropout)             (None, 64, 64, 32)   0           conv2d_14[0][0]                  \n",
            "__________________________________________________________________________________________________\n",
            "conv2d_15 (Conv2D)              (None, 64, 64, 32)   9248        dropout_7[0][0]                  \n",
            "__________________________________________________________________________________________________\n",
            "conv2d_transpose_3 (Conv2DTrans (None, 128, 128, 16) 2064        conv2d_15[0][0]                  \n",
            "__________________________________________________________________________________________________\n",
            "concatenate_3 (Concatenate)     (None, 128, 128, 32) 0           conv2d_transpose_3[0][0]         \n",
            "                                                                 conv2d_1[0][0]                   \n",
            "__________________________________________________________________________________________________\n",
            "conv2d_16 (Conv2D)              (None, 128, 128, 16) 4624        concatenate_3[0][0]              \n",
            "__________________________________________________________________________________________________\n",
            "dropout_8 (Dropout)             (None, 128, 128, 16) 0           conv2d_16[0][0]                  \n",
            "__________________________________________________________________________________________________\n",
            "conv2d_17 (Conv2D)              (None, 128, 128, 16) 2320        dropout_8[0][0]                  \n",
            "__________________________________________________________________________________________________\n",
            "conv2d_18 (Conv2D)              (None, 128, 128, 1)  17          conv2d_17[0][0]                  \n",
            "==================================================================================================\n",
            "Total params: 1,941,105\n",
            "Trainable params: 1,941,105\n",
            "Non-trainable params: 0\n",
            "__________________________________________________________________________________________________\n"
          ],
          "name": "stdout"
        }
      ]
    },
    {
      "cell_type": "markdown",
      "metadata": {
        "id": "CpAmHRPb61u8"
      },
      "source": [
        "La arquitectura cuenta con alrededor de 2 millones de parámetros que serán entrenados."
      ]
    },
    {
      "cell_type": "code",
      "metadata": {
        "colab": {
          "base_uri": "https://localhost:8080/"
        },
        "id": "7XtNeQF9o00O",
        "outputId": "c2d9ff31-2d65-453a-efff-b8bc9234fea9"
      },
      "source": [
        "# Entrenamiento del modelo\n",
        "\n",
        "earlystopper = EarlyStopping(patience=5, verbose=1)\n",
        "results = model.fit(X_train, Y_train, validation_split=0.1, batch_size=16, epochs=50, \n",
        "                    callbacks=[earlystopper])"
      ],
      "execution_count": 11,
      "outputs": [
        {
          "output_type": "stream",
          "text": [
            "Epoch 1/50\n",
            "38/38 [==============================] - 38s 99ms/step - loss: 0.5126 - mean_io_u: 0.4001 - val_loss: 0.2294 - val_mean_io_u: 0.4120\n",
            "Epoch 2/50\n",
            "38/38 [==============================] - 2s 46ms/step - loss: 0.2137 - mean_io_u: 0.3993 - val_loss: 0.1733 - val_mean_io_u: 0.4120\n",
            "Epoch 3/50\n",
            "38/38 [==============================] - 2s 46ms/step - loss: 0.1555 - mean_io_u: 0.3988 - val_loss: 0.1487 - val_mean_io_u: 0.4120\n",
            "Epoch 4/50\n",
            "38/38 [==============================] - 2s 47ms/step - loss: 0.1348 - mean_io_u: 0.4013 - val_loss: 0.1274 - val_mean_io_u: 0.4120\n",
            "Epoch 5/50\n",
            "38/38 [==============================] - 2s 47ms/step - loss: 0.1231 - mean_io_u: 0.4023 - val_loss: 0.1165 - val_mean_io_u: 0.4120\n",
            "Epoch 6/50\n",
            "38/38 [==============================] - 2s 47ms/step - loss: 0.1183 - mean_io_u: 0.4025 - val_loss: 0.1164 - val_mean_io_u: 0.4120\n",
            "Epoch 7/50\n",
            "38/38 [==============================] - 2s 47ms/step - loss: 0.1095 - mean_io_u: 0.3969 - val_loss: 0.1109 - val_mean_io_u: 0.4120\n",
            "Epoch 8/50\n",
            "38/38 [==============================] - 2s 47ms/step - loss: 0.1038 - mean_io_u: 0.4013 - val_loss: 0.1119 - val_mean_io_u: 0.4120\n",
            "Epoch 9/50\n",
            "38/38 [==============================] - 2s 47ms/step - loss: 0.1065 - mean_io_u: 0.4009 - val_loss: 0.1027 - val_mean_io_u: 0.4120\n",
            "Epoch 10/50\n",
            "38/38 [==============================] - 2s 47ms/step - loss: 0.1015 - mean_io_u: 0.4048 - val_loss: 0.1038 - val_mean_io_u: 0.4120\n",
            "Epoch 11/50\n",
            "38/38 [==============================] - 2s 47ms/step - loss: 0.1029 - mean_io_u: 0.3996 - val_loss: 0.0973 - val_mean_io_u: 0.4120\n",
            "Epoch 12/50\n",
            "38/38 [==============================] - 2s 47ms/step - loss: 0.1049 - mean_io_u: 0.4002 - val_loss: 0.0931 - val_mean_io_u: 0.4120\n",
            "Epoch 13/50\n",
            "38/38 [==============================] - 2s 47ms/step - loss: 0.0909 - mean_io_u: 0.3989 - val_loss: 0.0820 - val_mean_io_u: 0.4120\n",
            "Epoch 14/50\n",
            "38/38 [==============================] - 2s 47ms/step - loss: 0.0925 - mean_io_u: 0.3975 - val_loss: 0.0841 - val_mean_io_u: 0.4120\n",
            "Epoch 15/50\n",
            "38/38 [==============================] - 2s 47ms/step - loss: 0.0909 - mean_io_u: 0.3978 - val_loss: 0.0778 - val_mean_io_u: 0.4120\n",
            "Epoch 16/50\n",
            "38/38 [==============================] - 2s 47ms/step - loss: 0.0889 - mean_io_u: 0.3986 - val_loss: 0.0794 - val_mean_io_u: 0.4120\n",
            "Epoch 17/50\n",
            "38/38 [==============================] - 2s 46ms/step - loss: 0.0850 - mean_io_u: 0.3980 - val_loss: 0.0751 - val_mean_io_u: 0.4120\n",
            "Epoch 18/50\n",
            "38/38 [==============================] - 2s 47ms/step - loss: 0.0923 - mean_io_u: 0.3934 - val_loss: 0.0761 - val_mean_io_u: 0.4120\n",
            "Epoch 19/50\n",
            "38/38 [==============================] - 2s 47ms/step - loss: 0.0785 - mean_io_u: 0.4010 - val_loss: 0.0760 - val_mean_io_u: 0.4120\n",
            "Epoch 20/50\n",
            "38/38 [==============================] - 2s 46ms/step - loss: 0.0868 - mean_io_u: 0.3969 - val_loss: 0.0732 - val_mean_io_u: 0.4120\n",
            "Epoch 21/50\n",
            "38/38 [==============================] - 2s 46ms/step - loss: 0.0868 - mean_io_u: 0.3927 - val_loss: 0.0728 - val_mean_io_u: 0.4120\n",
            "Epoch 22/50\n",
            "38/38 [==============================] - 2s 46ms/step - loss: 0.0783 - mean_io_u: 0.3965 - val_loss: 0.0825 - val_mean_io_u: 0.4120\n",
            "Epoch 23/50\n",
            "38/38 [==============================] - 2s 46ms/step - loss: 0.0795 - mean_io_u: 0.3981 - val_loss: 0.0728 - val_mean_io_u: 0.4120\n",
            "Epoch 24/50\n",
            "38/38 [==============================] - 2s 46ms/step - loss: 0.0726 - mean_io_u: 0.3986 - val_loss: 0.0773 - val_mean_io_u: 0.4120\n",
            "Epoch 25/50\n",
            "38/38 [==============================] - 2s 46ms/step - loss: 0.0767 - mean_io_u: 0.4008 - val_loss: 0.0745 - val_mean_io_u: 0.4120\n",
            "Epoch 26/50\n",
            "38/38 [==============================] - 2s 46ms/step - loss: 0.0741 - mean_io_u: 0.3912 - val_loss: 0.0716 - val_mean_io_u: 0.4120\n",
            "Epoch 27/50\n",
            "38/38 [==============================] - 2s 46ms/step - loss: 0.0733 - mean_io_u: 0.3982 - val_loss: 0.0719 - val_mean_io_u: 0.4120\n",
            "Epoch 28/50\n",
            "38/38 [==============================] - 2s 46ms/step - loss: 0.0688 - mean_io_u: 0.4000 - val_loss: 0.0788 - val_mean_io_u: 0.4120\n",
            "Epoch 29/50\n",
            "38/38 [==============================] - 2s 46ms/step - loss: 0.0729 - mean_io_u: 0.3954 - val_loss: 0.0744 - val_mean_io_u: 0.4120\n",
            "Epoch 30/50\n",
            "38/38 [==============================] - 2s 46ms/step - loss: 0.0746 - mean_io_u: 0.3944 - val_loss: 0.0723 - val_mean_io_u: 0.4120\n",
            "Epoch 31/50\n",
            "38/38 [==============================] - 2s 46ms/step - loss: 0.0718 - mean_io_u: 0.3921 - val_loss: 0.0726 - val_mean_io_u: 0.4120\n",
            "Epoch 00031: early stopping\n"
          ],
          "name": "stdout"
        }
      ]
    },
    {
      "cell_type": "code",
      "metadata": {
        "colab": {
          "base_uri": "https://localhost:8080/"
        },
        "id": "Bf3OkNxHr-QS",
        "outputId": "41a94df7-1d90-4c98-f4a8-d4fac8d1a9e7"
      },
      "source": [
        "# Predicción sobre los datos de entrenamiento, validación y prueba\n",
        "\n",
        "preds_train = model.predict(X_train[:int(X_train.shape[0]*0.9)], verbose=1)\n",
        "preds_val = model.predict(X_train[int(X_train.shape[0]*0.9):], verbose=1)\n",
        "preds_test = model.predict(X_test, verbose=1)\n",
        "\n",
        "# Threshold predictions\n",
        "preds_train_t = (preds_train > 0.5).astype(np.uint8)\n",
        "preds_val_t = (preds_val > 0.5).astype(np.uint8)\n",
        "preds_test_t = (preds_test > 0.5).astype(np.uint8)\n",
        "\n",
        "# Create list of upsampled test masks\n",
        "preds_test_upsampled = []\n",
        "for i in range(len(preds_test)):\n",
        "    preds_test_upsampled.append(resize(np.squeeze(preds_test[i]), \n",
        "                                       (sizes_test[i][0], sizes_test[i][1]), \n",
        "                                       mode='constant', preserve_range=True))"
      ],
      "execution_count": 12,
      "outputs": [
        {
          "output_type": "stream",
          "text": [
            "19/19 [==============================] - 2s 52ms/step\n",
            "3/3 [==============================] - 0s 19ms/step\n",
            "3/3 [==============================] - 0s 153ms/step\n"
          ],
          "name": "stdout"
        }
      ]
    },
    {
      "cell_type": "code",
      "metadata": {
        "colab": {
          "base_uri": "https://localhost:8080/",
          "height": 857
        },
        "id": "_jGpW7tqsgyM",
        "outputId": "e3ab415e-e98b-464d-873a-312536ceb18c"
      },
      "source": [
        "# Visualizamos unas predicciones al azar sobre el conjunto de entrenamiento\n",
        "\n",
        "ix = random.randint(0, len(preds_train_t))\n",
        "imshow(X_train[ix])\n",
        "plt.show()\n",
        "imshow(np.squeeze(Y_train[ix]))\n",
        "plt.show()\n",
        "imshow(np.squeeze(preds_train_t[ix]))\n",
        "plt.show()"
      ],
      "execution_count": 13,
      "outputs": [
        {
          "output_type": "display_data",
          "data": {
            "image/png": "[encoded data removed]",
            "text/plain": [
              "<Figure size 432x288 with 1 Axes>"
            ]
          },
          "metadata": {
            "tags": [],
            "needs_background": "light"
          }
        },
        {
          "output_type": "display_data",
          "data": {
            "image/png": "[encoded data removed]",
            "text/plain": [
              "<Figure size 432x288 with 1 Axes>"
            ]
          },
          "metadata": {
            "tags": [],
            "needs_background": "light"
          }
        },
        {
          "output_type": "display_data",
          "data": {
            "image/png": "[encoded data removed]",
            "text/plain": [
              "<Figure size 432x288 with 2 Axes>"
            ]
          },
          "metadata": {
            "tags": [],
            "needs_background": "light"
          }
        }
      ]
    },
    {
      "cell_type": "code",
      "metadata": {
        "colab": {
          "base_uri": "https://localhost:8080/",
          "height": 857
        },
        "id": "NNfn4DlxslPJ",
        "outputId": "82d5d334-a2ee-4997-af46-285de4c39f50"
      },
      "source": [
        "# Visualizamos unas predicciones al azar sobre el conjunto de validación\n",
        "\n",
        "ix = random.randint(0, len(preds_val_t))\n",
        "imshow(X_train[int(X_train.shape[0]*0.9):][ix])\n",
        "plt.show()\n",
        "imshow(np.squeeze(Y_train[int(Y_train.shape[0]*0.9):][ix]))\n",
        "plt.show()\n",
        "imshow(np.squeeze(preds_val_t[ix]))\n",
        "plt.show()"
      ],
      "execution_count": 14,
      "outputs": [
        {
          "output_type": "display_data",
          "data": {
            "image/png": "[encoded data removed]",
            "text/plain": [
              "<Figure size 432x288 with 1 Axes>"
            ]
          },
          "metadata": {
            "tags": [],
            "needs_background": "light"
          }
        },
        {
          "output_type": "display_data",
          "data": {
            "image/png": "[encoded data removed]",
            "text/plain": [
              "<Figure size 432x288 with 1 Axes>"
            ]
          },
          "metadata": {
            "tags": [],
            "needs_background": "light"
          }
        },
        {
          "output_type": "display_data",
          "data": {
            "image/png": "[encoded data removed]",
            "text/plain": [
              "<Figure size 432x288 with 2 Axes>"
            ]
          },
          "metadata": {
            "tags": [],
            "needs_background": "light"
          }
        }
      ]
    },
    {
      "cell_type": "markdown",
      "metadata": {
        "id": "BBlBIxaZJ92o"
      },
      "source": [
        "## Actividad\n",
        "\n",
        "Visualiza la salida de alguna de las capas de convolución. Puedes utilizar las funciones de la clase anterior."
      ]
    },
    {
      "cell_type": "code",
      "metadata": {
        "id": "OJA5JETLzMYL"
      },
      "source": [
        "# Prográmame!"
      ],
      "execution_count": 15,
      "outputs": []
    },
    {
      "cell_type": "code",
      "metadata": {
        "id": "sIFPoMFcKUEu"
      },
      "source": [
        ""
      ],
      "execution_count": null,
      "outputs": []
    }
  ]
}