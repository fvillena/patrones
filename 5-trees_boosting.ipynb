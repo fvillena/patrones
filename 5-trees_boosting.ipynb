{
  "nbformat": 4,
  "nbformat_minor": 0,
  "metadata": {
    "colab": {
      "name": "5-trees-boosting",
      "provenance": [],
      "collapsed_sections": [],
      "authorship_tag": "ABX9TyOwNBvsT8mGzYHkgRQuGa6B",
      "include_colab_link": true
    },
    "kernelspec": {
      "name": "python3",
      "display_name": "Python 3"
    },
    "language_info": {
      "name": "python"
    }
  },
  "cells": [
    {
      "cell_type": "markdown",
      "metadata": {
        "id": "view-in-github",
        "colab_type": "text"
      },
      "source": [
        "<a href=\"https://colab.research.google.com/github/fvillena/patrones/blob/main/5-trees_boosting.ipynb\" target=\"_parent\"><img src=\"https://colab.research.google.com/assets/colab-badge.svg\" alt=\"Open In Colab\"/></a>"
      ]
    },
    {
      "cell_type": "markdown",
      "metadata": {
        "id": "F8MIlhf8hJJM"
      },
      "source": [
        "# Clasificación: Trees y Boosting\n",
        "\n",
        "En aprendizaje de máquinas, la clasificación es el problema de identificar a qué clase (de un grupo finito de clases) una observación nueva pertenece, tomando como base un entrenamiento previo sobre un grupo de observaciones donde sí se conocían sus clases correspondientes. Los algoritmoas basados en árboles están dentro de los más utilizados en aprendizaje de máquinas por el buen rendimiento que alcanzan en la mayoría de las tareas."
      ]
    },
    {
      "cell_type": "code",
      "metadata": {
        "id": "ybfjZ0cio36I"
      },
      "source": [
        "import numpy as np # Biblioteca de álgebra lineal\n",
        "import pandas as pd # Biblioteca de manejo de conjuntos de datos\n",
        "import sklearn.tree # Implementación en sklearn del árbol de decisión\n",
        "import matplotlib.pyplot as plt # Biblioteca de visualización\n",
        "import sklearn.model_selection # Funciones para preparar nuestro conjunto de datos\n",
        "import sklearn.metrics # Métricas\n",
        "import sklearn.ensemble # Algoritmos basados en la combinación de estimadores débiles\n",
        "import sklearn.linear_model # Algoritmos lineales como el Perceptron\n",
        "import sklearn.preprocessing # Preprocesamiento de características"
      ],
      "execution_count": 1,
      "outputs": []
    },
    {
      "cell_type": "markdown",
      "metadata": {
        "id": "PCG2_vsQiNzx"
      },
      "source": [
        "Utilizaremos un conjunto de datos que relaciona características fisiológicas de pacientes con la presencia de una enfermedad cardiovascular."
      ]
    },
    {
      "cell_type": "code",
      "metadata": {
        "id": "lpz0hRPzfKy-"
      },
      "source": [
        "cardiovascular_diseases = pd.read_csv(\"https://raw.githubusercontent.com/fvillena/patrones/main/data/cardiovascular_diseases.csv\")"
      ],
      "execution_count": 2,
      "outputs": []
    },
    {
      "cell_type": "code",
      "metadata": {
        "colab": {
          "base_uri": "https://localhost:8080/",
          "height": 224
        },
        "id": "hZGhX0jmfTS3",
        "outputId": "f0ce7c6b-01f3-4214-e996-5fc9f078246e"
      },
      "source": [
        "cardiovascular_diseases.head()"
      ],
      "execution_count": 3,
      "outputs": [
        {
          "output_type": "execute_result",
          "data": {
            "text/html": [
              "<div>\n",
              "<style scoped>\n",
              "    .dataframe tbody tr th:only-of-type {\n",
              "        vertical-align: middle;\n",
              "    }\n",
              "\n",
              "    .dataframe tbody tr th {\n",
              "        vertical-align: top;\n",
              "    }\n",
              "\n",
              "    .dataframe thead th {\n",
              "        text-align: right;\n",
              "    }\n",
              "</style>\n",
              "<table border=\"1\" class=\"dataframe\">\n",
              "  <thead>\n",
              "    <tr style=\"text-align: right;\">\n",
              "      <th></th>\n",
              "      <th>age</th>\n",
              "      <th>male</th>\n",
              "      <th>chest_pain_type</th>\n",
              "      <th>resting_blood_pressure</th>\n",
              "      <th>cholesterol</th>\n",
              "      <th>high_fasting_blood_sugar</th>\n",
              "      <th>resting_electrocardiographic_results</th>\n",
              "      <th>maximum_heart_rate_achieved</th>\n",
              "      <th>exercise_induced_angina</th>\n",
              "      <th>st_depression_by_exercise</th>\n",
              "      <th>slope_st_by_excercise_peak</th>\n",
              "      <th>number_of_vessels_colored_by_flouroscopy</th>\n",
              "      <th>thalassemia</th>\n",
              "      <th>cardiovascular_disease</th>\n",
              "    </tr>\n",
              "  </thead>\n",
              "  <tbody>\n",
              "    <tr>\n",
              "      <th>0</th>\n",
              "      <td>45</td>\n",
              "      <td>0</td>\n",
              "      <td>typical_angina</td>\n",
              "      <td>138</td>\n",
              "      <td>236</td>\n",
              "      <td>0</td>\n",
              "      <td>0</td>\n",
              "      <td>152</td>\n",
              "      <td>1</td>\n",
              "      <td>0.2</td>\n",
              "      <td>0</td>\n",
              "      <td>0</td>\n",
              "      <td>fixed_defect</td>\n",
              "      <td>1</td>\n",
              "    </tr>\n",
              "    <tr>\n",
              "      <th>1</th>\n",
              "      <td>61</td>\n",
              "      <td>1</td>\n",
              "      <td>typical_angina</td>\n",
              "      <td>120</td>\n",
              "      <td>260</td>\n",
              "      <td>0</td>\n",
              "      <td>1</td>\n",
              "      <td>140</td>\n",
              "      <td>1</td>\n",
              "      <td>3.6</td>\n",
              "      <td>0</td>\n",
              "      <td>1</td>\n",
              "      <td>reversable_defect</td>\n",
              "      <td>0</td>\n",
              "    </tr>\n",
              "    <tr>\n",
              "      <th>2</th>\n",
              "      <td>44</td>\n",
              "      <td>0</td>\n",
              "      <td>non_anginal_pain</td>\n",
              "      <td>108</td>\n",
              "      <td>141</td>\n",
              "      <td>0</td>\n",
              "      <td>1</td>\n",
              "      <td>175</td>\n",
              "      <td>0</td>\n",
              "      <td>0.6</td>\n",
              "      <td>0</td>\n",
              "      <td>0</td>\n",
              "      <td>fixed_defect</td>\n",
              "      <td>1</td>\n",
              "    </tr>\n",
              "    <tr>\n",
              "      <th>3</th>\n",
              "      <td>77</td>\n",
              "      <td>1</td>\n",
              "      <td>typical_angina</td>\n",
              "      <td>125</td>\n",
              "      <td>304</td>\n",
              "      <td>0</td>\n",
              "      <td>0</td>\n",
              "      <td>162</td>\n",
              "      <td>1</td>\n",
              "      <td>0.0</td>\n",
              "      <td>-1</td>\n",
              "      <td>3</td>\n",
              "      <td>fixed_defect</td>\n",
              "      <td>0</td>\n",
              "    </tr>\n",
              "    <tr>\n",
              "      <th>4</th>\n",
              "      <td>35</td>\n",
              "      <td>1</td>\n",
              "      <td>typical_angina</td>\n",
              "      <td>126</td>\n",
              "      <td>282</td>\n",
              "      <td>0</td>\n",
              "      <td>0</td>\n",
              "      <td>156</td>\n",
              "      <td>1</td>\n",
              "      <td>0.0</td>\n",
              "      <td>-1</td>\n",
              "      <td>0</td>\n",
              "      <td>reversable_defect</td>\n",
              "      <td>0</td>\n",
              "    </tr>\n",
              "  </tbody>\n",
              "</table>\n",
              "</div>"
            ],
            "text/plain": [
              "   age  male  ...        thalassemia  cardiovascular_disease\n",
              "0   45     0  ...       fixed_defect                       1\n",
              "1   61     1  ...  reversable_defect                       0\n",
              "2   44     0  ...       fixed_defect                       1\n",
              "3   77     1  ...       fixed_defect                       0\n",
              "4   35     1  ...  reversable_defect                       0\n",
              "\n",
              "[5 rows x 14 columns]"
            ]
          },
          "metadata": {
            "tags": []
          },
          "execution_count": 3
        }
      ]
    },
    {
      "cell_type": "markdown",
      "metadata": {
        "id": "Je2Ccd4Aim2c"
      },
      "source": [
        "Separamos nuestro conjunto de datos en sus características y su etiqueta. A las características se les realiza una transformación One-Hot en donde las características discretas con un número `i` de categorías se les transforma en `i` características nuevas binarias. Esto es necesario, porque los algoritmos necesitan una representación estrictamente numérica de las características y este método no les asigna un número entero porque estas variables no tienen un orden ni valor numérico real. Por ejemplo si se tiene una característica con los valores\n",
        "\n",
        "```\n",
        "animal = [\"perro\",\"gato\",\"conejo\",\"perro\"]\n",
        "```\n",
        "\n",
        "y se le transforma utilizando One-Hot Encoding, se generan estas 3 nuevas características\n",
        "\n",
        "```\n",
        "animal_conejo = [0, 0, 1, 0]\n",
        "animal_gato =   [0, 1, 0, 0]\n",
        "animal_perro =  [1, 0, 0, 1]\n",
        "```\n"
      ]
    },
    {
      "cell_type": "markdown",
      "metadata": {
        "id": "CSqB2f2V2Iz3"
      },
      "source": [
        "Asi se ven las características discretas previas a la transformación."
      ]
    },
    {
      "cell_type": "code",
      "metadata": {
        "colab": {
          "base_uri": "https://localhost:8080/",
          "height": 419
        },
        "id": "Pv4827Qy2FLS",
        "outputId": "404100db-3d67-41ff-9a0f-27b1d7b5bf9f"
      },
      "source": [
        "cardiovascular_diseases[[\"chest_pain_type\",\"thalassemia\"]]"
      ],
      "execution_count": 4,
      "outputs": [
        {
          "output_type": "execute_result",
          "data": {
            "text/html": [
              "<div>\n",
              "<style scoped>\n",
              "    .dataframe tbody tr th:only-of-type {\n",
              "        vertical-align: middle;\n",
              "    }\n",
              "\n",
              "    .dataframe tbody tr th {\n",
              "        vertical-align: top;\n",
              "    }\n",
              "\n",
              "    .dataframe thead th {\n",
              "        text-align: right;\n",
              "    }\n",
              "</style>\n",
              "<table border=\"1\" class=\"dataframe\">\n",
              "  <thead>\n",
              "    <tr style=\"text-align: right;\">\n",
              "      <th></th>\n",
              "      <th>chest_pain_type</th>\n",
              "      <th>thalassemia</th>\n",
              "    </tr>\n",
              "  </thead>\n",
              "  <tbody>\n",
              "    <tr>\n",
              "      <th>0</th>\n",
              "      <td>typical_angina</td>\n",
              "      <td>fixed_defect</td>\n",
              "    </tr>\n",
              "    <tr>\n",
              "      <th>1</th>\n",
              "      <td>typical_angina</td>\n",
              "      <td>reversable_defect</td>\n",
              "    </tr>\n",
              "    <tr>\n",
              "      <th>2</th>\n",
              "      <td>non_anginal_pain</td>\n",
              "      <td>fixed_defect</td>\n",
              "    </tr>\n",
              "    <tr>\n",
              "      <th>3</th>\n",
              "      <td>typical_angina</td>\n",
              "      <td>fixed_defect</td>\n",
              "    </tr>\n",
              "    <tr>\n",
              "      <th>4</th>\n",
              "      <td>typical_angina</td>\n",
              "      <td>reversable_defect</td>\n",
              "    </tr>\n",
              "    <tr>\n",
              "      <th>...</th>\n",
              "      <td>...</td>\n",
              "      <td>...</td>\n",
              "    </tr>\n",
              "    <tr>\n",
              "      <th>296</th>\n",
              "      <td>typical_angina</td>\n",
              "      <td>fixed_defect</td>\n",
              "    </tr>\n",
              "    <tr>\n",
              "      <th>297</th>\n",
              "      <td>asymptomatic</td>\n",
              "      <td>normal</td>\n",
              "    </tr>\n",
              "    <tr>\n",
              "      <th>298</th>\n",
              "      <td>typical_angina</td>\n",
              "      <td>fixed_defect</td>\n",
              "    </tr>\n",
              "    <tr>\n",
              "      <th>299</th>\n",
              "      <td>typical_angina</td>\n",
              "      <td>reversable_defect</td>\n",
              "    </tr>\n",
              "    <tr>\n",
              "      <th>300</th>\n",
              "      <td>typical_angina</td>\n",
              "      <td>normal</td>\n",
              "    </tr>\n",
              "  </tbody>\n",
              "</table>\n",
              "<p>301 rows × 2 columns</p>\n",
              "</div>"
            ],
            "text/plain": [
              "      chest_pain_type        thalassemia\n",
              "0      typical_angina       fixed_defect\n",
              "1      typical_angina  reversable_defect\n",
              "2    non_anginal_pain       fixed_defect\n",
              "3      typical_angina       fixed_defect\n",
              "4      typical_angina  reversable_defect\n",
              "..                ...                ...\n",
              "296    typical_angina       fixed_defect\n",
              "297      asymptomatic             normal\n",
              "298    typical_angina       fixed_defect\n",
              "299    typical_angina  reversable_defect\n",
              "300    typical_angina             normal\n",
              "\n",
              "[301 rows x 2 columns]"
            ]
          },
          "metadata": {
            "tags": []
          },
          "execution_count": 4
        }
      ]
    },
    {
      "cell_type": "markdown",
      "metadata": {
        "id": "Z4Ewvw7Akkmb"
      },
      "source": [
        "Con la función `pandas.get_dummies()` realizamos la transformación."
      ]
    },
    {
      "cell_type": "code",
      "metadata": {
        "id": "U9sPm_7qgBDY"
      },
      "source": [
        "cardiovascular_diseases_features = pd.get_dummies(\n",
        "    cardiovascular_diseases.iloc[:,:-1]\n",
        ")\n",
        "cardiovascular_diseases_label = cardiovascular_diseases.cardiovascular_disease"
      ],
      "execution_count": 5,
      "outputs": []
    },
    {
      "cell_type": "markdown",
      "metadata": {
        "id": "t-5CTq892bED"
      },
      "source": [
        "Asi se ven las características discretas posterior a las transformación"
      ]
    },
    {
      "cell_type": "code",
      "metadata": {
        "colab": {
          "base_uri": "https://localhost:8080/",
          "height": 439
        },
        "id": "zdcIq4cg2dqn",
        "outputId": "241bc597-075f-4891-dece-5895f85c8d84"
      },
      "source": [
        "cardiovascular_diseases_features.iloc[:,-7:]"
      ],
      "execution_count": 6,
      "outputs": [
        {
          "output_type": "execute_result",
          "data": {
            "text/html": [
              "<div>\n",
              "<style scoped>\n",
              "    .dataframe tbody tr th:only-of-type {\n",
              "        vertical-align: middle;\n",
              "    }\n",
              "\n",
              "    .dataframe tbody tr th {\n",
              "        vertical-align: top;\n",
              "    }\n",
              "\n",
              "    .dataframe thead th {\n",
              "        text-align: right;\n",
              "    }\n",
              "</style>\n",
              "<table border=\"1\" class=\"dataframe\">\n",
              "  <thead>\n",
              "    <tr style=\"text-align: right;\">\n",
              "      <th></th>\n",
              "      <th>chest_pain_type_asymptomatic</th>\n",
              "      <th>chest_pain_type_atypical_angina</th>\n",
              "      <th>chest_pain_type_non_anginal_pain</th>\n",
              "      <th>chest_pain_type_typical_angina</th>\n",
              "      <th>thalassemia_fixed_defect</th>\n",
              "      <th>thalassemia_normal</th>\n",
              "      <th>thalassemia_reversable_defect</th>\n",
              "    </tr>\n",
              "  </thead>\n",
              "  <tbody>\n",
              "    <tr>\n",
              "      <th>0</th>\n",
              "      <td>0</td>\n",
              "      <td>0</td>\n",
              "      <td>0</td>\n",
              "      <td>1</td>\n",
              "      <td>1</td>\n",
              "      <td>0</td>\n",
              "      <td>0</td>\n",
              "    </tr>\n",
              "    <tr>\n",
              "      <th>1</th>\n",
              "      <td>0</td>\n",
              "      <td>0</td>\n",
              "      <td>0</td>\n",
              "      <td>1</td>\n",
              "      <td>0</td>\n",
              "      <td>0</td>\n",
              "      <td>1</td>\n",
              "    </tr>\n",
              "    <tr>\n",
              "      <th>2</th>\n",
              "      <td>0</td>\n",
              "      <td>0</td>\n",
              "      <td>1</td>\n",
              "      <td>0</td>\n",
              "      <td>1</td>\n",
              "      <td>0</td>\n",
              "      <td>0</td>\n",
              "    </tr>\n",
              "    <tr>\n",
              "      <th>3</th>\n",
              "      <td>0</td>\n",
              "      <td>0</td>\n",
              "      <td>0</td>\n",
              "      <td>1</td>\n",
              "      <td>1</td>\n",
              "      <td>0</td>\n",
              "      <td>0</td>\n",
              "    </tr>\n",
              "    <tr>\n",
              "      <th>4</th>\n",
              "      <td>0</td>\n",
              "      <td>0</td>\n",
              "      <td>0</td>\n",
              "      <td>1</td>\n",
              "      <td>0</td>\n",
              "      <td>0</td>\n",
              "      <td>1</td>\n",
              "    </tr>\n",
              "    <tr>\n",
              "      <th>...</th>\n",
              "      <td>...</td>\n",
              "      <td>...</td>\n",
              "      <td>...</td>\n",
              "      <td>...</td>\n",
              "      <td>...</td>\n",
              "      <td>...</td>\n",
              "      <td>...</td>\n",
              "    </tr>\n",
              "    <tr>\n",
              "      <th>296</th>\n",
              "      <td>0</td>\n",
              "      <td>0</td>\n",
              "      <td>0</td>\n",
              "      <td>1</td>\n",
              "      <td>1</td>\n",
              "      <td>0</td>\n",
              "      <td>0</td>\n",
              "    </tr>\n",
              "    <tr>\n",
              "      <th>297</th>\n",
              "      <td>1</td>\n",
              "      <td>0</td>\n",
              "      <td>0</td>\n",
              "      <td>0</td>\n",
              "      <td>0</td>\n",
              "      <td>1</td>\n",
              "      <td>0</td>\n",
              "    </tr>\n",
              "    <tr>\n",
              "      <th>298</th>\n",
              "      <td>0</td>\n",
              "      <td>0</td>\n",
              "      <td>0</td>\n",
              "      <td>1</td>\n",
              "      <td>1</td>\n",
              "      <td>0</td>\n",
              "      <td>0</td>\n",
              "    </tr>\n",
              "    <tr>\n",
              "      <th>299</th>\n",
              "      <td>0</td>\n",
              "      <td>0</td>\n",
              "      <td>0</td>\n",
              "      <td>1</td>\n",
              "      <td>0</td>\n",
              "      <td>0</td>\n",
              "      <td>1</td>\n",
              "    </tr>\n",
              "    <tr>\n",
              "      <th>300</th>\n",
              "      <td>0</td>\n",
              "      <td>0</td>\n",
              "      <td>0</td>\n",
              "      <td>1</td>\n",
              "      <td>0</td>\n",
              "      <td>1</td>\n",
              "      <td>0</td>\n",
              "    </tr>\n",
              "  </tbody>\n",
              "</table>\n",
              "<p>301 rows × 7 columns</p>\n",
              "</div>"
            ],
            "text/plain": [
              "     chest_pain_type_asymptomatic  ...  thalassemia_reversable_defect\n",
              "0                               0  ...                              0\n",
              "1                               0  ...                              1\n",
              "2                               0  ...                              0\n",
              "3                               0  ...                              0\n",
              "4                               0  ...                              1\n",
              "..                            ...  ...                            ...\n",
              "296                             0  ...                              0\n",
              "297                             1  ...                              0\n",
              "298                             0  ...                              0\n",
              "299                             0  ...                              1\n",
              "300                             0  ...                              0\n",
              "\n",
              "[301 rows x 7 columns]"
            ]
          },
          "metadata": {
            "tags": []
          },
          "execution_count": 6
        }
      ]
    },
    {
      "cell_type": "markdown",
      "metadata": {
        "id": "1Qjh_IlFkrNU"
      },
      "source": [
        "Separamos nuestro conjunto de datos en un subconjunto de entrenamiento y prueba."
      ]
    },
    {
      "cell_type": "code",
      "metadata": {
        "id": "CrufTJrAlUmZ"
      },
      "source": [
        "(\n",
        "    cardiovascular_diseases_features_train, \n",
        "    cardiovascular_diseases_features_test, \n",
        "    cardiovascular_diseases_label_train, \n",
        "    cardiovascular_diseases_label_test\n",
        ") = sklearn.model_selection.train_test_split(\n",
        "    cardiovascular_diseases_features, \n",
        "    cardiovascular_diseases_label, \n",
        "    test_size=0.33, \n",
        "    random_state=11\n",
        ")"
      ],
      "execution_count": 7,
      "outputs": []
    },
    {
      "cell_type": "markdown",
      "metadata": {
        "id": "PQ6iTgIsmtkQ"
      },
      "source": [
        "## Decision Tree\n",
        "\n"
      ]
    },
    {
      "cell_type": "markdown",
      "metadata": {
        "id": "ixEd_K54kzB9"
      },
      "source": [
        "En sklearn la implementación del árbol de decisión está en `sklearn.tree.DecisionTreeClassifier`"
      ]
    },
    {
      "cell_type": "code",
      "metadata": {
        "colab": {
          "base_uri": "https://localhost:8080/"
        },
        "id": "5sJZz6uDfrHE",
        "outputId": "7cc9ac0d-8fbf-47be-cc3b-3c058beb291e"
      },
      "source": [
        "tree = sklearn.tree.DecisionTreeClassifier( # Instanciamos nuestro árbol de decisión.\n",
        "    max_depth=3, # Forzamos que nuestro árbol sólo tenga 3 niveles de profundidad.\n",
        "    random_state = 11\n",
        "    )\n",
        "tree.fit( # Ajustamos nuestro árbol de decisión.\n",
        "    cardiovascular_diseases_features_train,\n",
        "    cardiovascular_diseases_label_train\n",
        ")"
      ],
      "execution_count": 8,
      "outputs": [
        {
          "output_type": "execute_result",
          "data": {
            "text/plain": [
              "DecisionTreeClassifier(ccp_alpha=0.0, class_weight=None, criterion='gini',\n",
              "                       max_depth=3, max_features=None, max_leaf_nodes=None,\n",
              "                       min_impurity_decrease=0.0, min_impurity_split=None,\n",
              "                       min_samples_leaf=1, min_samples_split=2,\n",
              "                       min_weight_fraction_leaf=0.0, presort='deprecated',\n",
              "                       random_state=11, splitter='best')"
            ]
          },
          "metadata": {
            "tags": []
          },
          "execution_count": 8
        }
      ]
    },
    {
      "cell_type": "markdown",
      "metadata": {
        "id": "2N8fFI8ClTTv"
      },
      "source": [
        "Verificamos el rendimiento de nuestro árbol de decisión sobre nuestro subconjunto de prueba."
      ]
    },
    {
      "cell_type": "code",
      "metadata": {
        "colab": {
          "base_uri": "https://localhost:8080/"
        },
        "id": "y3GtMXw8mAh4",
        "outputId": "97d78d63-ef64-4ff8-dd41-b5e47c1695eb"
      },
      "source": [
        "print(sklearn.metrics.classification_report(\n",
        "    cardiovascular_diseases_label_test,\n",
        "    tree.predict(cardiovascular_diseases_features_test)\n",
        "))"
      ],
      "execution_count": 9,
      "outputs": [
        {
          "output_type": "stream",
          "text": [
            "              precision    recall  f1-score   support\n",
            "\n",
            "           0       0.65      0.66      0.65        47\n",
            "           1       0.69      0.68      0.69        53\n",
            "\n",
            "    accuracy                           0.67       100\n",
            "   macro avg       0.67      0.67      0.67       100\n",
            "weighted avg       0.67      0.67      0.67       100\n",
            "\n"
          ],
          "name": "stdout"
        }
      ]
    },
    {
      "cell_type": "markdown",
      "metadata": {
        "id": "IC4-Y5MplaIE"
      },
      "source": [
        "Una de las ventajas más importantes de los árboles de decisión es la transparencia y explicabilidad del proceso de predicción. Podemos conocer claramente todas las decisiones tomadas por el clasificador y visualizarla en un árbol de decisión."
      ]
    },
    {
      "cell_type": "code",
      "metadata": {
        "colab": {
          "base_uri": "https://localhost:8080/",
          "height": 575
        },
        "id": "faOS40pyf1RE",
        "outputId": "2031310a-eeb0-4534-e024-2e123a3cb723"
      },
      "source": [
        "plt.figure(figsize = (20,10))\n",
        "sklearn.tree.plot_tree( # Función que nos permite visualizar el árbol de decisión ajustado.\n",
        "    tree, # Objeto de nuestro árbol de decisión entrenado.\n",
        "    feature_names = cardiovascular_diseases_features.columns, # Nombres de las variables utilizadas para entrenar.\n",
        "    class_names = [\"healthy\",\"sick\"], # Nombre de las clases que estamos prediciendo.\n",
        "    label = \"all\", # Etiquetamos todas características de cada nodo.\n",
        "    proportion = True, # Visualizamos las proporciones de datos en cada nodo de decisión,\n",
        "    filled=True, # Coloreamos los nodos\n",
        "    fontsize=11, # Establecemos el tamaño de la letra del texto dentro de cada nodo.\n",
        ")\n",
        "plt.show()"
      ],
      "execution_count": 10,
      "outputs": [
        {
          "output_type": "display_data",
          "data": {
            "image/png": "[encoded data removed]",
            "text/plain": [
              "<Figure size 1440x720 with 1 Axes>"
            ]
          },
          "metadata": {
            "tags": [],
            "needs_background": "light"
          }
        }
      ]
    },
    {
      "cell_type": "markdown",
      "metadata": {
        "id": "iRqwQlg-mYHf"
      },
      "source": [
        "### Actividad 1\n",
        "\n",
        "Uno de los hiperparámetros de los árboles de decisión es la profundidad del mismo. Evalúa cómo se comporta su rendimiento al cambiar la profundidad del árbol."
      ]
    },
    {
      "cell_type": "code",
      "metadata": {
        "id": "uhrQMFxkmpWI"
      },
      "source": [
        "# Prográmame!"
      ],
      "execution_count": 11,
      "outputs": []
    },
    {
      "cell_type": "markdown",
      "metadata": {
        "id": "OiOlM9-om1in"
      },
      "source": [
        "## Random Forest\n",
        "\n",
        "En Random Forest, cada árbol en el conjunto está construido desde una muestra del conjunto de entrenamiento."
      ]
    },
    {
      "cell_type": "code",
      "metadata": {
        "colab": {
          "base_uri": "https://localhost:8080/"
        },
        "id": "FmkcEBkzgdz4",
        "outputId": "27621fb5-c5f1-4ec9-a281-b8ec475e506b"
      },
      "source": [
        "random_forest = sklearn.ensemble.RandomForestClassifier(random_state = 11) # Instanciamos Random Forest.\n",
        "random_forest.fit( # Ajustamos nuestro modelo.\n",
        "    cardiovascular_diseases_features_train,\n",
        "    cardiovascular_diseases_label_train\n",
        ")"
      ],
      "execution_count": 12,
      "outputs": [
        {
          "output_type": "execute_result",
          "data": {
            "text/plain": [
              "RandomForestClassifier(bootstrap=True, ccp_alpha=0.0, class_weight=None,\n",
              "                       criterion='gini', max_depth=None, max_features='auto',\n",
              "                       max_leaf_nodes=None, max_samples=None,\n",
              "                       min_impurity_decrease=0.0, min_impurity_split=None,\n",
              "                       min_samples_leaf=1, min_samples_split=2,\n",
              "                       min_weight_fraction_leaf=0.0, n_estimators=100,\n",
              "                       n_jobs=None, oob_score=False, random_state=11, verbose=0,\n",
              "                       warm_start=False)"
            ]
          },
          "metadata": {
            "tags": []
          },
          "execution_count": 12
        }
      ]
    },
    {
      "cell_type": "markdown",
      "metadata": {
        "id": "X6S-6L9UwZts"
      },
      "source": [
        "Evaluamos el rendimiento de nuestro modelo y evidenciamos que es significativamente mayor que un árbol de decisión único."
      ]
    },
    {
      "cell_type": "code",
      "metadata": {
        "colab": {
          "base_uri": "https://localhost:8080/"
        },
        "id": "4MtauKkzmqUS",
        "outputId": "8f36ecb7-ce19-4715-f8a5-0245fe4d16f6"
      },
      "source": [
        "print(sklearn.metrics.classification_report(\n",
        "    cardiovascular_diseases_label_test,\n",
        "    random_forest.predict(cardiovascular_diseases_features_test)\n",
        "))"
      ],
      "execution_count": 13,
      "outputs": [
        {
          "output_type": "stream",
          "text": [
            "              precision    recall  f1-score   support\n",
            "\n",
            "           0       0.80      0.77      0.78        47\n",
            "           1       0.80      0.83      0.81        53\n",
            "\n",
            "    accuracy                           0.80       100\n",
            "   macro avg       0.80      0.80      0.80       100\n",
            "weighted avg       0.80      0.80      0.80       100\n",
            "\n"
          ],
          "name": "stdout"
        }
      ]
    },
    {
      "cell_type": "markdown",
      "metadata": {
        "id": "3rOrf0gBwqm6"
      },
      "source": [
        "Una de la información de inferencia que podemos extraer desde nuesto modelo entrenado es la lista de importancia de características, con la cual podemos conocer qué características son más importantes para el modelo."
      ]
    },
    {
      "cell_type": "code",
      "metadata": {
        "colab": {
          "base_uri": "https://localhost:8080/",
          "height": 483
        },
        "id": "jHq_PhQ1mu3p",
        "outputId": "70cb427e-8bdb-43c7-a6e2-965648fc0836"
      },
      "source": [
        "feature_importance_list = pd.DataFrame(\n",
        "    zip(cardiovascular_diseases.columns, \n",
        "        random_forest.feature_importances_), # En este atributo está almacenada la lista de importancia de características.\n",
        "    columns=[\"feature\",\"importance\"])\n",
        "feature_importance_list.sort_values(\"importance\",ascending=False)"
      ],
      "execution_count": 14,
      "outputs": [
        {
          "output_type": "execute_result",
          "data": {
            "text/html": [
              "<div>\n",
              "<style scoped>\n",
              "    .dataframe tbody tr th:only-of-type {\n",
              "        vertical-align: middle;\n",
              "    }\n",
              "\n",
              "    .dataframe tbody tr th {\n",
              "        vertical-align: top;\n",
              "    }\n",
              "\n",
              "    .dataframe thead th {\n",
              "        text-align: right;\n",
              "    }\n",
              "</style>\n",
              "<table border=\"1\" class=\"dataframe\">\n",
              "  <thead>\n",
              "    <tr style=\"text-align: right;\">\n",
              "      <th></th>\n",
              "      <th>feature</th>\n",
              "      <th>importance</th>\n",
              "    </tr>\n",
              "  </thead>\n",
              "  <tbody>\n",
              "    <tr>\n",
              "      <th>8</th>\n",
              "      <td>exercise_induced_angina</td>\n",
              "      <td>0.120717</td>\n",
              "    </tr>\n",
              "    <tr>\n",
              "      <th>6</th>\n",
              "      <td>resting_electrocardiographic_results</td>\n",
              "      <td>0.118239</td>\n",
              "    </tr>\n",
              "    <tr>\n",
              "      <th>0</th>\n",
              "      <td>age</td>\n",
              "      <td>0.093151</td>\n",
              "    </tr>\n",
              "    <tr>\n",
              "      <th>10</th>\n",
              "      <td>slope_st_by_excercise_peak</td>\n",
              "      <td>0.072617</td>\n",
              "    </tr>\n",
              "    <tr>\n",
              "      <th>3</th>\n",
              "      <td>resting_blood_pressure</td>\n",
              "      <td>0.072449</td>\n",
              "    </tr>\n",
              "    <tr>\n",
              "      <th>2</th>\n",
              "      <td>chest_pain_type</td>\n",
              "      <td>0.065066</td>\n",
              "    </tr>\n",
              "    <tr>\n",
              "      <th>9</th>\n",
              "      <td>st_depression_by_exercise</td>\n",
              "      <td>0.040547</td>\n",
              "    </tr>\n",
              "    <tr>\n",
              "      <th>7</th>\n",
              "      <td>maximum_heart_rate_achieved</td>\n",
              "      <td>0.032626</td>\n",
              "    </tr>\n",
              "    <tr>\n",
              "      <th>1</th>\n",
              "      <td>male</td>\n",
              "      <td>0.024686</td>\n",
              "    </tr>\n",
              "    <tr>\n",
              "      <th>5</th>\n",
              "      <td>high_fasting_blood_sugar</td>\n",
              "      <td>0.023107</td>\n",
              "    </tr>\n",
              "    <tr>\n",
              "      <th>13</th>\n",
              "      <td>cardiovascular_disease</td>\n",
              "      <td>0.017245</td>\n",
              "    </tr>\n",
              "    <tr>\n",
              "      <th>11</th>\n",
              "      <td>number_of_vessels_colored_by_flouroscopy</td>\n",
              "      <td>0.011634</td>\n",
              "    </tr>\n",
              "    <tr>\n",
              "      <th>4</th>\n",
              "      <td>cholesterol</td>\n",
              "      <td>0.010716</td>\n",
              "    </tr>\n",
              "    <tr>\n",
              "      <th>12</th>\n",
              "      <td>thalassemia</td>\n",
              "      <td>0.009117</td>\n",
              "    </tr>\n",
              "  </tbody>\n",
              "</table>\n",
              "</div>"
            ],
            "text/plain": [
              "                                     feature  importance\n",
              "8                    exercise_induced_angina    0.120717\n",
              "6       resting_electrocardiographic_results    0.118239\n",
              "0                                        age    0.093151\n",
              "10                slope_st_by_excercise_peak    0.072617\n",
              "3                     resting_blood_pressure    0.072449\n",
              "2                            chest_pain_type    0.065066\n",
              "9                  st_depression_by_exercise    0.040547\n",
              "7                maximum_heart_rate_achieved    0.032626\n",
              "1                                       male    0.024686\n",
              "5                   high_fasting_blood_sugar    0.023107\n",
              "13                    cardiovascular_disease    0.017245\n",
              "11  number_of_vessels_colored_by_flouroscopy    0.011634\n",
              "4                                cholesterol    0.010716\n",
              "12                               thalassemia    0.009117"
            ]
          },
          "metadata": {
            "tags": []
          },
          "execution_count": 14
        }
      ]
    },
    {
      "cell_type": "markdown",
      "metadata": {
        "id": "VmLPkt2wv3CB"
      },
      "source": [
        "### Actividad 2\n",
        "\n",
        "Random Forest es un conjunto de árboles de decisión independientes. Extrae uno de los árboles de decisión del conjunto y visualiza el grafo de decisión. Visita la documentación de Random Forest https://scikit-learn.org/stable/modules/generated/sklearn.ensemble.RandomForestClassifier.html"
      ]
    },
    {
      "cell_type": "code",
      "metadata": {
        "id": "gLvpFC1dxUPD"
      },
      "source": [
        "# Prográmame!"
      ],
      "execution_count": 15,
      "outputs": []
    },
    {
      "cell_type": "markdown",
      "metadata": {
        "id": "3Bjtf10axXC5"
      },
      "source": [
        "## Boosting\n",
        "\n",
        "Boosting es la técnica de utilizar un conjunto de estimadores débiles para generar una predicción más robusta."
      ]
    },
    {
      "cell_type": "markdown",
      "metadata": {
        "id": "2fUPcTN3x7aC"
      },
      "source": [
        "Cómo estimador débil utilizaremos un perceptrón, pero para ello primero necesitamos escalar nuestras características con `sklearn.preprocessing.RobustScaler()` debido a que este algoritmo es sensible a la escala de las variables."
      ]
    },
    {
      "cell_type": "code",
      "metadata": {
        "id": "2l3PQ4Nyx3j6"
      },
      "source": [
        "# Escalamos las características\n",
        "scaler = sklearn.preprocessing.RobustScaler()\n",
        "cardiovascular_diseases_features_train_scaled = scaler.fit_transform(cardiovascular_diseases_features_train)\n",
        "cardiovascular_diseases_features_test_scaled = scaler.transform(cardiovascular_diseases_features_test)"
      ],
      "execution_count": 16,
      "outputs": []
    },
    {
      "cell_type": "code",
      "metadata": {
        "colab": {
          "base_uri": "https://localhost:8080/"
        },
        "id": "5vY90-XrwJB2",
        "outputId": "4066d5f9-447c-4639-eecb-b63261efcd31"
      },
      "source": [
        "perceptron = sklearn.linear_model.Perceptron(random_state = 11)\n",
        "perceptron.fit(\n",
        "    cardiovascular_diseases_features_train_scaled,\n",
        "    cardiovascular_diseases_label_train\n",
        ")"
      ],
      "execution_count": 17,
      "outputs": [
        {
          "output_type": "execute_result",
          "data": {
            "text/plain": [
              "Perceptron(alpha=0.0001, class_weight=None, early_stopping=False, eta0=1.0,\n",
              "           fit_intercept=True, max_iter=1000, n_iter_no_change=5, n_jobs=None,\n",
              "           penalty=None, random_state=11, shuffle=True, tol=0.001,\n",
              "           validation_fraction=0.1, verbose=0, warm_start=False)"
            ]
          },
          "metadata": {
            "tags": []
          },
          "execution_count": 17
        }
      ]
    },
    {
      "cell_type": "markdown",
      "metadata": {
        "id": "8htFxwioyPm0"
      },
      "source": [
        "Verificamos el rendimiento de nuestro perceptrón único."
      ]
    },
    {
      "cell_type": "code",
      "metadata": {
        "colab": {
          "base_uri": "https://localhost:8080/"
        },
        "id": "N_cNl7KswQj3",
        "outputId": "464d4f5d-a0d9-4bd3-b19f-7cfaf8b6fd2c"
      },
      "source": [
        "print(sklearn.metrics.classification_report(\n",
        "    cardiovascular_diseases_label_test,\n",
        "    perceptron.predict(cardiovascular_diseases_features_test_scaled)\n",
        "))"
      ],
      "execution_count": 18,
      "outputs": [
        {
          "output_type": "stream",
          "text": [
            "              precision    recall  f1-score   support\n",
            "\n",
            "           0       0.78      0.81      0.79        47\n",
            "           1       0.82      0.79      0.81        53\n",
            "\n",
            "    accuracy                           0.80       100\n",
            "   macro avg       0.80      0.80      0.80       100\n",
            "weighted avg       0.80      0.80      0.80       100\n",
            "\n"
          ],
          "name": "stdout"
        }
      ]
    },
    {
      "cell_type": "markdown",
      "metadata": {
        "id": "JMp4ydTcyTrx"
      },
      "source": [
        "Ahora ajustaremos un conjunto de perceptrones con `sklearn.ensemble.AdaBoostClassifier()`."
      ]
    },
    {
      "cell_type": "code",
      "metadata": {
        "colab": {
          "base_uri": "https://localhost:8080/"
        },
        "id": "hMohxoQSv2v_",
        "outputId": "152a4510-e86e-44c2-b6bc-8b235fa081a3"
      },
      "source": [
        "boosting = sklearn.ensemble.AdaBoostClassifier( # Istanciamos AdaBoost\n",
        "    base_estimator = sklearn.linear_model.Perceptron(random_state = 11), # Utilizamos un perceptrón como estimador base.\n",
        "    algorithm = \"SAMME\", # Utilizamos SAMME como algoritmo de boosting porque perceptrón no implementa el cálculo de probabilidades de predicción.\n",
        "    n_estimators = 1000, # Nuestro conjunto tendrá 1000 estimadores débiles.\n",
        "    random_state = 11\n",
        ")\n",
        "boosting.fit(\n",
        "    cardiovascular_diseases_features_train_scaled,\n",
        "    cardiovascular_diseases_label_train\n",
        ")"
      ],
      "execution_count": 19,
      "outputs": [
        {
          "output_type": "execute_result",
          "data": {
            "text/plain": [
              "AdaBoostClassifier(algorithm='SAMME',\n",
              "                   base_estimator=Perceptron(alpha=0.0001, class_weight=None,\n",
              "                                             early_stopping=False, eta0=1.0,\n",
              "                                             fit_intercept=True, max_iter=1000,\n",
              "                                             n_iter_no_change=5, n_jobs=None,\n",
              "                                             penalty=None, random_state=11,\n",
              "                                             shuffle=True, tol=0.001,\n",
              "                                             validation_fraction=0.1, verbose=0,\n",
              "                                             warm_start=False),\n",
              "                   learning_rate=1.0, n_estimators=1000, random_state=11)"
            ]
          },
          "metadata": {
            "tags": []
          },
          "execution_count": 19
        }
      ]
    },
    {
      "cell_type": "markdown",
      "metadata": {
        "id": "kX9ZrLF_zMIj"
      },
      "source": [
        "Verificamos que efectivamente mejoramos el rendimiento al utilizar un conjunto de estimadores débiles."
      ]
    },
    {
      "cell_type": "code",
      "metadata": {
        "colab": {
          "base_uri": "https://localhost:8080/"
        },
        "id": "akCmA1pGp1b0",
        "outputId": "21eb6205-00b6-444c-f416-94a974759977"
      },
      "source": [
        "print(sklearn.metrics.classification_report(\n",
        "    cardiovascular_diseases_label_test,\n",
        "    boosting.predict(cardiovascular_diseases_features_test_scaled)\n",
        "))"
      ],
      "execution_count": 20,
      "outputs": [
        {
          "output_type": "stream",
          "text": [
            "              precision    recall  f1-score   support\n",
            "\n",
            "           0       0.77      0.79      0.78        47\n",
            "           1       0.81      0.79      0.80        53\n",
            "\n",
            "    accuracy                           0.79       100\n",
            "   macro avg       0.79      0.79      0.79       100\n",
            "weighted avg       0.79      0.79      0.79       100\n",
            "\n"
          ],
          "name": "stdout"
        }
      ]
    },
    {
      "cell_type": "markdown",
      "metadata": {
        "id": "1PqxiZjazV-0"
      },
      "source": [
        "### Actividad 3\n",
        "\n",
        "Podemos utilizar boosting con cualquier estimador débil, este sólo debe comportarse mejor que el azar. Ajusta un conjunto de Support Vector Machines con kernel lineal con AdaBoost y verifica que funcione mejor que un estimador único."
      ]
    },
    {
      "cell_type": "code",
      "metadata": {
        "id": "PG_1RM76w9Gc"
      },
      "source": [
        "# Prográmame"
      ],
      "execution_count": 21,
      "outputs": []
    }
  ]
}